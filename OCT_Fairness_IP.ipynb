{
 "cells": [
  {
   "cell_type": "code",
   "execution_count": 1,
   "metadata": {},
   "outputs": [],
   "source": [
    "### Parameters\n",
    "#fold=1\n",
    "#dataset='NHPA'#'nursery'\n",
    "#d = 2# depth\n",
    "#epsilon=1\n"
   ]
  },
  {
   "cell_type": "code",
   "execution_count": 2,
   "metadata": {},
   "outputs": [],
   "source": [
    "### FAIRNESS SETS and PARAMS\n",
    "\n",
    "#sensitive_features=[38,39,40,41,42]"
   ]
  },
  {
   "cell_type": "markdown",
   "metadata": {},
   "source": [
    "## Create Cython Modules"
   ]
  },
  {
   "cell_type": "code",
   "execution_count": 3,
   "metadata": {},
   "outputs": [],
   "source": [
    "#!python setup.py build_ext --inplace"
   ]
  },
  {
   "cell_type": "code",
   "execution_count": 5,
   "metadata": {},
   "outputs": [],
   "source": [
    "from Pricing_Branching import PP_node,PP_node_fairness, get_misclassification, get_split_values,get_misclassification_bag,get_misclassification_bag_sensitive"
   ]
  },
  {
   "cell_type": "markdown",
   "metadata": {},
   "source": [
    "## Imports"
   ]
  },
  {
   "cell_type": "code",
   "execution_count": 6,
   "metadata": {},
   "outputs": [
    {
     "name": "stdout",
     "output_type": "stream",
     "text": [
      "/Users/elifrana/Desktop/OCT/n-depth\n"
     ]
    }
   ],
   "source": [
    "cd /Users/elifrana/Desktop/OCT/n-depth"
   ]
  },
  {
   "cell_type": "code",
   "execution_count": 7,
   "metadata": {},
   "outputs": [],
   "source": [
    "## imports\n",
    "import json\n",
    "import logging\n",
    "import pandas as pd\n",
    "# Define this directive to disable the deprecated NumPy API\n",
    "#define NPY_NO_DEPRECATED_API NPY_1_7_API_VERSION\n",
    "import numpy as np\n",
    "import copy\n",
    "from gurobipy import *\n",
    "import time\n",
    "from copy import deepcopy\n",
    "from sklearn import preprocessing as pre\n",
    "import warnings\n",
    "warnings.filterwarnings(\"ignore\", category=DeprecationWarning)\n",
    "import concurrent.futures\n",
    "\n"
   ]
  },
  {
   "cell_type": "code",
   "execution_count": 8,
   "metadata": {},
   "outputs": [],
   "source": [
    "def print_iteration_separator():\n",
    "    separator_length = 50\n",
    "    separator_char = '*'\n",
    "\n",
    "    separator_line = separator_char * separator_length\n",
    "    print(separator_line)"
   ]
  },
  {
   "cell_type": "code",
   "execution_count": 9,
   "metadata": {},
   "outputs": [
    {
     "data": {
      "text/plain": [
       "array([1580, 1449, 1072, ..., 1807, 1961, 1071])"
      ]
     },
     "execution_count": 9,
     "metadata": {},
     "output_type": "execute_result"
    }
   ],
   "source": [
    "def get_shuffle_indices(n):\n",
    "    arr=np.arange(0,n)\n",
    "    np.random.shuffle(arr)\n",
    "    return arr\n",
    "\n",
    "def split_into_batches(data_x,data_y, n):\n",
    "    global indices\n",
    "    global batch_sizes\n",
    "    batch_size = len(data) // n\n",
    "    remainder = len(data) % n\n",
    "\n",
    "    start_idx = 0\n",
    "    batch_sizes=[]\n",
    "    for i in range(n):\n",
    "        batch_end = start_idx + batch_size + (1 if i < remainder else 0)\n",
    "        batch_sizes.append(batch_end-start_idx)\n",
    "        yield data_x[indices[start_idx:batch_end]],data_y[indices[start_idx:batch_end]]\n",
    "        start_idx = batch_end\n",
    "\n",
    "indices=get_shuffle_indices(2000)\n",
    "indices"
   ]
  },
  {
   "cell_type": "markdown",
   "metadata": {},
   "source": [
    "## Read Data"
   ]
  },
  {
   "cell_type": "code",
   "execution_count": 10,
   "metadata": {},
   "outputs": [],
   "source": [
    "\n",
    "relpath=\"./Datasets/\"+dataset+\"/fold=\"+str(fold)+\"_train.csv\"\n",
    "data = pd.read_csv(relpath)#pd.read_csv(\"./Datasets/fold=1_train.csv\")\n",
    "\n",
    "\n",
    "X = data.iloc[:,1:]\n",
    "y = data.iloc[:,:1]\n",
    "\n",
    "\n",
    "\n",
    "P = [i for i in range(data.shape[1]-1)]\n",
    "K = list(data.y.unique())\n",
    "k=len(K)\n",
    "\n",
    "min_bucket_leaf= 0 # minimum number of data that should fall under each leaf\n",
    "D = list(range(d))\n",
    "N = list(range(X.shape[0]))\n",
    "n = len(N)\n",
    "n_leaves = 2**d\n",
    "p = X.shape[1]\n",
    "\n",
    "y_k = np.zeros((X.shape[0], len(K)))\n",
    "for k in range(len(K)):\n",
    "    y_k[np.where(y==K[k])[0],k] = 1\n",
    "\n",
    "y_k=y_k.astype(np.int32)\n",
    "x = np.array(X,dtype=np.int32)\n",
    "y_arr=np.array(y,dtype=np.int32).flatten()-1"
   ]
  },
  {
   "cell_type": "markdown",
   "metadata": {},
   "source": [
    "## Parameter Generators"
   ]
  },
  {
   "cell_type": "code",
   "execution_count": 11,
   "metadata": {},
   "outputs": [],
   "source": [
    "\n",
    "#### transfer these to cython!    \n",
    "def get_alpha(pattern, j, level, split_values=None):\n",
    "    try:\n",
    "        if pattern[level] == j and split_values[level] == 1:\n",
    "            out = 1\n",
    "        else:\n",
    "            out = 0\n",
    "    except:\n",
    "        print(\"Incorrect pattern\")\n",
    "        print([pattern, j, level, split_values])\n",
    "        out = 0\n",
    "\n",
    "    return out\n",
    "\n",
    "def get_beta(pattern, j, level, split_values):\n",
    "    try:\n",
    "        if pattern[level] == j and split_values[level] == 0:\n",
    "            out = 1\n",
    "        else:\n",
    "            out = 0\n",
    "    except:\n",
    "        print([pattern, j, level, split_values])\n",
    "        print(\"Incorrect pattern\")\n",
    "        out = 0\n",
    "\n",
    "    return out\n",
    "\n",
    "\n",
    "#### transfer these to cython!    \n",
    "def get_alpha_beta(pattern, j, feature_split_condition):\n",
    "    \"\"\"\n",
    "    This function assumes that the pattern provided is a tuple of lists, with 0-split features being the second entry,\n",
    "    and 1-split features being the first entry. If the feature split condition matches the position of the feature,\n",
    "    the function returns one. \n",
    "    \"\"\"\n",
    "    try:\n",
    "        if j in pattern[1-feature_split_condition]:\n",
    "            out = pattern[1-feature_split_condition].count(j)\n",
    "        else:\n",
    "            out = 0\n",
    "    except:\n",
    "        print(\"Incorrect pattern\")\n",
    "        print([pattern, j, feature_split_condition])\n",
    "        out = 0\n",
    "\n",
    "    return out\n",
    "\n",
    "\n",
    "\n",
    "\n",
    "\n",
    "## return the solution of the tree:\n",
    "### WRITE CODE HERE###\n",
    "## column generator function\n",
    "def get_column(leaf,d,pattern,p):\n",
    "    \"\"\" \n",
    "    Gives the column associated with a certain pattern. The column vector will have length 2^d + (2^(d+1))*p\n",
    "    Establishes the leaf's connection with all cousins, by order of closeness of cousin degrees.\n",
    "    The connections at one level are formed for each cousin pair by iterating each feature. This procedure is continued for each level in which the\n",
    "    pair continues to be associated with each other.\n",
    "\n",
    "    \"\"\"\n",
    "    global sensitive_features\n",
    "    my_column=np.zeros(2**d)\n",
    "    my_column[leaf]=1\n",
    "    \n",
    "    cons_list=[my_column]\n",
    "    start=leaf*2*p\n",
    "    leaf_cons=np.zeros(2**(d+1)*p)\n",
    "    for feature in range(p):\n",
    "        for split_condition in range(2): # binary split tree\n",
    "            leaf_cons[start+2*feature+split_condition]=-1*get_alpha_beta(pattern,feature,1-split_condition)\n",
    "    cons_list.append(leaf_cons)\n",
    "    fairness_cons=get_fairness_cons(leaf,pattern,sensitive_features) # 2* len(sensitive features)\n",
    "    cons_list.append(fairness_cons)\n",
    "    column=np.concatenate(cons_list)\n",
    "\n",
    "    return(column.reshape(len(column),1)) # appropriate column shape\n",
    "\n",
    "def get_w_columns(d,p):\n",
    "    \"\"\"\n",
    "    Takes tree depth and number of features p to return the w columns always present in the model.\n",
    "    The returned array can be joined horizontally with the pattern constraints.\n",
    "    Cython version exists, but is not in use.\n",
    "\n",
    "    \"\"\"\n",
    "    global sensitive_features\n",
    "    number_of_nodes= 2**(d)-1\n",
    "    len_w = number_of_nodes*p\n",
    "    len_cons=p*2**(d+1) ## binary splits\n",
    "    assignment_cons=np.zeros((2**d,len_w))\n",
    "    all_cons=[assignment_cons]\n",
    "    \n",
    "\n",
    "    for leaf in range(2**d):\n",
    "        \n",
    "\n",
    "        split_values=1-get_split_values(leaf,d).astype(int)\n",
    "        w_indices_for_leaf=[0]\n",
    "\n",
    "        ### obtain the leaf's association with split nodes\n",
    "        for d_temp in range(1,d):\n",
    "            values=np.arange(2**d_temp -1,2**d_temp -1 + 2**d_temp)\n",
    "            w_index=leaf//(2**(d-d_temp))\n",
    "            w_indices_for_leaf.append(values[w_index])\n",
    "\n",
    "\n",
    "        ### build the constraint set:\n",
    "        for feature_ in range(p):\n",
    "            feature_cons=[]\n",
    "            for node in range(number_of_nodes):\n",
    "                cons_temp=np.zeros((2,p))\n",
    "                if node in w_indices_for_leaf:\n",
    "                        index=w_indices_for_leaf.index(node)\n",
    "                        cons_temp[split_values[index],feature_]=1\n",
    "                feature_cons.append(cons_temp)\n",
    "\n",
    "            cons_leaf_feature=np.hstack(feature_cons)\n",
    "            all_cons.append(cons_leaf_feature)\n",
    "            \n",
    "    ### add fairness cons\n",
    "    all_cons.append(np.zeros((2*len(sensitive_features),len_w)))\n",
    "    all_cons=np.vstack(all_cons)\n",
    "    \n",
    "    return all_cons   \n",
    "        \n",
    "def get_fairness_cons(leaf,pattern,sensitive_features):\n",
    "    global n\n",
    "    global x\n",
    "\n",
    "    # returns the fairness constraint column for the pair, sensitive features are given as a list\n",
    "    sigma_list=[]\n",
    "    for feature in sensitive_features:\n",
    "        #n_group_sensitive=len(x[np.where(x[:,feature]==1)])\n",
    "        #n_group_nonsensitive=n-n_group_sensitive\n",
    "        info_sensitive, info_non_sensitive=get_misclassification_bag_sensitive(x, y_k, pattern, leaf,[feature])\n",
    "        #sigma= info_sensitive[0]/info_sensitive[1] if info_sensitive[1]> 0 else 0   - info_non_sensitive[0]/info_non_sensitive[1] if info_non_sensitive[1]>0 else 0\n",
    "        #sigma= (info_sensitive[0] - info_non_sensitive[0])/n#(info_sensitive[1]+info_non_sensitive[1]) if info_sensitive[1]+info_non_sensitive[1]> 0 else 0 \n",
    "        #sigma= (info_sensitive[0]*n_group_nonsensitive - info_non_sensitive[0]*n_group_sensitive)/(n_group_sensitive*n_group_nonsensitive)\n",
    "        sigma=(info_sensitive[0] - info_non_sensitive[0])/n\n",
    "        sigma_list.extend([sigma,-1*sigma])\n",
    "    column= np.array(sigma_list)\n",
    "    return column\n",
    "\n",
    "def get_w_indices(leaf):\n",
    "    \"\"\"\n",
    "    Cython version exists, but is not in use.\n",
    "    \"\"\"\n",
    "    # returns effected indices of each leaf\n",
    "    w_indices_for_leaf=[0]\n",
    "    ### obtain the leaf's association with split nodes\n",
    "    for d_temp in range(1,d):\n",
    "        values=np.arange(2**d_temp -1,2**d_temp -1 + 2**d_temp)\n",
    "        w_index=leaf//(2**(d-d_temp))\n",
    "        w_indices_for_leaf.append(values[w_index])\n",
    "\n",
    "    return w_indices_for_leaf\n",
    "\n",
    "def get_affected_leaves(node,w_indices_for_leaves):\n",
    "    \"\"\"\n",
    "    Cython version exists, but is not in use.\n",
    "    \"\"\"\n",
    "    affected_leaves=[]\n",
    "    ### obtain the leaf's association with split nodes\n",
    "\n",
    "    for leaf in range(len(w_indices_for_leaves)):\n",
    "        values=w_indices_for_leaves[leaf]\n",
    "        if node in values:\n",
    "            affected_leaves.append(leaf) \n",
    "\n",
    "    return affected_leaves\n",
    "\n",
    "def get_cousins(depth, leaf):\n",
    "    \"\"\"\n",
    "    returns a list of cousins ordered by their degree\n",
    "    \"\"\"\n",
    "    cousins=[[] for level in range(depth)]\n",
    "    cousins[depth-1]=[i for i in range(2**depth) if i!=leaf]\n",
    "    for i in range(depth-1,0,-1):\n",
    "        middle_split= leaf//2**(i)\n",
    "        cousins[i-1]=cousins[i][-(2**(i)-1):] if middle_split else cousins[i][:2**(i)-1] \n",
    "\n",
    "\n",
    "    return cousins\n",
    "\n",
    "\n",
    "\n",
    "def calculate_miss(x_tilde,y_tilde,j,RHS):\n",
    "    indices= x_tilde[:,j]==RHS\n",
    "    x_tilde_2= x_tilde[indices,:]\n",
    "    y_tilde_2= y_tilde[indices,:]\n",
    "    n_j= len(x_tilde_2)\n",
    "    count=np.sum(y_tilde_2,axis=0)\n",
    "    return n_j-np.max(count)\n",
    "\n",
    "def calculate_gini(x_tilde,y_tilde,j,RHS):\n",
    "    indices= x_tilde[:,j]==RHS\n",
    "    x_tilde_2= x_tilde[indices,:]\n",
    "    y_tilde_2= y_tilde[indices,:]\n",
    "    n_j= len(x_tilde_2) # number of data points\n",
    "    count=np.sum(y_tilde_2,axis=0) #number of ones and zeros\n",
    "    gini= 1-np.sum(np.square((count/n_j))) #1- sum(p^2) -- sum over classes\n",
    "    return gini\n",
    "\n",
    "from more_itertools import distinct_permutations\n",
    "from itertools import product,combinations,combinations_with_replacement\n",
    "\n",
    "\n",
    "\n",
    "def find_all_bags(feature_num,leaf,d):\n",
    "    \"\"\"\n",
    "    takes number of features and returns all possible bag combinations\n",
    "    includes repeats\n",
    "    \"\"\"\n",
    "    split_values=get_split_values(leaf,d)\n",
    "    max_num=int(np.sum(split_values))\n",
    "    input_list=np.arange(feature_num)\n",
    "    input_set = set(input_list)\n",
    "    result_tuples = []\n",
    "\n",
    "    \n",
    "    for i in combinations_with_replacement(input_list, max_num):\n",
    "        list1 = list(i) # 1 features\n",
    "        set_temp1=set(list1)\n",
    "        set2= input_list#list(input_set-set(i)) # 0 features  #### either enable or disable selecting a feature as both 0 and 1 # input_set\n",
    "        for j in combinations_with_replacement(set2, d-max_num):\n",
    "            list2 = list(j)  # 0 features\n",
    "            set_temp2=set(list2)\n",
    "            \n",
    "            result_tuples.append((list1, list2))\n",
    "    \n",
    "    return result_tuples\n",
    "\n",
    "def find_all_bags_fixed_feature(feature_num,leaf,d,fixed_feature_info):\n",
    "    \"\"\"\n",
    "    takes number of features and returns all possible bag combinations\n",
    "    includes repeats\n",
    "    uses the fixed feature (given in a list of tuples)\n",
    "    \"\"\"\n",
    "    # we have to not use the features above!\n",
    "    \n",
    "    split_values=get_split_values(leaf,d)\n",
    "    #dont_use=set(fixed_feature_info[fixed_feature_info[:,-1]==0][:,1].tolist()) # get non-used features for splits\n",
    "    fixed_all=fixed_feature_info[fixed_feature_info[:,-1]==1].tolist() # get the fixed features\n",
    "\n",
    "    input_list=np.arange(feature_num)\n",
    "    input_set = set(input_list)#s-dont_use\n",
    "    \n",
    "    result_tuples = []\n",
    "    \n",
    "    for condition in set(get_split_values(leaf,d).astype(int)):\n",
    "\n",
    "        fixed_pattern_template=([],[])\n",
    "        counters=[0,0]\n",
    "    \n",
    "\n",
    "        for fixed in fixed_all:\n",
    "            feature=fixed[0]\n",
    "            #w_index=fixed[0]\n",
    "            #depth_affected=w_indices.index(w_index)\n",
    "            #condition= get_split_values(leaf,d).astype(int)[depth_affected]\n",
    "            fixed_pattern_template[1-condition].append(feature)\n",
    "            counters[1-condition]+=1\n",
    "            max_num=int(np.sum(split_values))-counters[0]\n",
    "\n",
    "            # for every possible split use case!\n",
    "            for i in combinations_with_replacement(input_set, max_num):\n",
    "                list1 = list(i) # 1 features\n",
    "                set_temp1=set(list1)\n",
    "                set2= input_set#list(input_set-set(i)) # 0 features  #### either enable or disable selecting a feature as both 0 and 1 # input_set\n",
    "                for j in combinations_with_replacement(set2, d-max_num-sum(counters)):\n",
    "                    list2 = list(j)  # 0 features\n",
    "                    set_temp2=set(list2)\n",
    "                    result_tuples.append((list1+fixed_pattern_template[0], list2+fixed_pattern_template[1])) # add the fixed feature\n",
    "    \n",
    "    return result_tuples\n",
    "\n",
    "def find_all_repeating_bags(feature_num,leaf,d):\n",
    "    \"\"\"\n",
    "    takes number of features and returns all possible bag combinations\n",
    "    includes repeats\n",
    "    \"\"\"\n",
    "    split_values=get_split_values(leaf,d)\n",
    "    max_num=int(np.sum(split_values))\n",
    "    input_list=np.arange(feature_num)\n",
    "    input_set = set(input_list)\n",
    "    result_tuples = []\n",
    "\n",
    "    \n",
    "    for i in combinations_with_replacement(input_list, max_num):\n",
    "        list1 = list(i) # 1 features\n",
    "        set2 = input_set #list(input_set-set(i)) # 0 features\n",
    "        set_temp1=set(list1)\n",
    "    \n",
    "            \n",
    "\n",
    "        for j in combinations_with_replacement(set2, d-max_num):\n",
    "            list2 = list(j)  # 0 features\n",
    "            set_temp2=set(list2)\n",
    "\n",
    "            if (len(set_temp1)!=len(list1) or len(set_temp2)!=len(list2)) or len(set_temp1.intersection(set_temp2)) >0: #and len(set_temp1.intersection(set_temp2)) ==0: ### for prohibiting invalid patterns #\n",
    "                ## repeating check and valid check\n",
    "                result_tuples.append((list1, list2))\n",
    "\n",
    "\n",
    "\n",
    "    \n",
    "    return result_tuples\n",
    "\n",
    "#Cythonized version exists\n",
    "\"\"\"\n",
    "def get_miss_bag(pattern_bag,leaf,x,y_k):\n",
    "    # pattern_bag includes a tuple of lists\n",
    "    global d\n",
    "    splits=1-get_split_values(leaf,d).astype(int)\n",
    "\n",
    "    pattern=[] #[0] \n",
    "\n",
    "    counter=np.zeros(2,dtype=np.int32)\n",
    "    #[[0, 0], []]\n",
    "    for split_condition in splits:\n",
    "        try:\n",
    "            pattern.append(pattern_bag[split_condition][counter[split_condition]])\n",
    "            counter[split_condition]+=1\n",
    "        except: # a feature is repeated for branching\n",
    "            pattern.append(pattern_bag[split_condition][counter[split_condition]-1])\n",
    "        \n",
    "  \n",
    "    return get_misclassification(x, y_k, np.array(pattern,dtype=np.int32), leaf)\n",
    "\"\"\"\n",
    "# Define a custom sorting key\n",
    "def custom_sort(item):\n",
    "    return (len(item[0]), len(item[1]))\n",
    "\n",
    "\n",
    "def get_shuffle_indices(n):\n",
    "    arr=np.arange(0,n)\n",
    "    np.random.shuffle(arr)\n",
    "    return arr\n",
    "\n",
    "def split_into_batches(data_x,data_y, n):\n",
    "    global indices\n",
    "    global batch_sizes\n",
    "    batch_size = len(data) // n\n",
    "    remainder = len(data) % n\n",
    "\n",
    "    start_idx = 0\n",
    "    batch_sizes=[]\n",
    "    for i in range(n):\n",
    "        batch_end = start_idx + batch_size + (1 if i < remainder else 0)\n",
    "        batch_sizes.append(batch_end-start_idx)\n",
    "        yield data_x[indices[start_idx:batch_end]],data_y[indices[start_idx:batch_end]]\n",
    "        start_idx = batch_end\n",
    "        "
   ]
  },
  {
   "cell_type": "markdown",
   "metadata": {},
   "source": [
    "## Branching for Pricing Problems Using Beam Search"
   ]
  },
  {
   "cell_type": "markdown",
   "metadata": {},
   "source": [
    "## Initial Patterns List"
   ]
  },
  {
   "cell_type": "markdown",
   "metadata": {},
   "source": [
    "empty patterns should be detected"
   ]
  },
  {
   "cell_type": "markdown",
   "metadata": {},
   "source": [
    "list of all patterns that are valid"
   ]
  },
  {
   "cell_type": "code",
   "execution_count": 13,
   "metadata": {},
   "outputs": [],
   "source": [
    "#### generate all tuples and randomly add to the initial set\n",
    "###### NEW PATTERN DEFINITION ####\n",
    "np.random.seed(42)# set seed (also restart seed!)\n",
    "\n",
    "### add one level splits!\n",
    "#### store the set of all patterns\n",
    "# Sort the couples list using the custom key\n",
    "all_patterns_list=[find_all_bags(p,leaf,d) for leaf in range(2**d)]\n",
    "all_patterns_list_sorted=[sorted(all_patterns_list[leaf], key=custom_sort) for leaf in range(2**d)]\n",
    "all_repeating_patterns_list=[find_all_repeating_bags(p,leaf,d) for leaf in range(2**d)] # ensure repeats\n",
    "\n",
    "_=[np.random.shuffle(all_repeating_patterns_list[leaf])for leaf in range(2**d)]\n",
    "pattern_list= [all_repeating_patterns_list[leaf][:len(all_patterns_list[leaf])//10**(d-1)] for leaf in range(2**d)] # add a fraction of repeating patterns\n",
    "\n",
    "_=[np.random.shuffle(all_patterns_list[leaf])for leaf in range(2**d)]\n",
    "_=[pattern_list[leaf].extend(all_patterns_list[leaf][:len(all_patterns_list[leaf])//10**(d-1)]) for leaf in range(2**d)]\n"
   ]
  },
  {
   "cell_type": "code",
   "execution_count": 14,
   "metadata": {},
   "outputs": [],
   "source": [
    "num_patterns_initial=np.sum([len(pattern_list[i]) for i in range(2**d)])\n",
    "num_patterns_all=np.sum([len(all_patterns_list[i]) for i in range(2**d)])"
   ]
  },
  {
   "cell_type": "code",
   "execution_count": 15,
   "metadata": {},
   "outputs": [
    {
     "name": "stdout",
     "output_type": "stream",
     "text": [
      "Number of all valid patterns: 5590\n"
     ]
    }
   ],
   "source": [
    "print('Number of all valid patterns:',num_patterns_all)"
   ]
  },
  {
   "cell_type": "code",
   "execution_count": 16,
   "metadata": {},
   "outputs": [
    {
     "name": "stdout",
     "output_type": "stream",
     "text": [
      "pattern_list: [[([37, 37], []), ([24, 24], []), ([25, 25], []), ([36, 36], []), ([34, 34], []), ([39, 39], []), ([4, 4], []), ([12, 12], []), ([8, 8], []), ([3, 3], []), ([6, 6], []), ([27, 27], []), ([31, 31], []), ([19, 19], []), ([17, 17], []), ([13, 13], []), ([40, 40], []), ([15, 15], []), ([9, 9], []), ([16, 16], []), ([30, 30], []), ([26, 26], []), ([0, 0], []), ([29, 29], []), ([41, 41], []), ([5, 5], []), ([11, 11], []), ([32, 32], []), ([1, 1], []), ([42, 42], []), ([21, 21], []), ([2, 2], []), ([33, 33], []), ([23, 23], []), ([35, 35], []), ([10, 10], []), ([22, 22], []), ([18, 18], []), ([20, 20], []), ([7, 7], []), ([14, 14], []), ([28, 28], []), ([38, 38], []), ([8, 15], []), ([22, 39], []), ([1, 14], []), ([21, 21], []), ([13, 17], []), ([26, 40], []), ([13, 40], []), ([2, 3], []), ([5, 18], []), ([31, 40], []), ([2, 5], []), ([35, 39], []), ([6, 32], []), ([11, 25], []), ([22, 27], []), ([4, 16], []), ([3, 33], []), ([32, 41], []), ([9, 25], []), ([17, 37], []), ([9, 29], []), ([25, 42], []), ([27, 33], []), ([30, 35], []), ([1, 9], []), ([9, 12], []), ([16, 21], []), ([20, 38], []), ([10, 38], []), ([4, 30], []), ([6, 7], []), ([14, 41], []), ([36, 37], []), ([14, 38], []), ([7, 22], []), ([6, 19], []), ([16, 33], []), ([1, 2], []), ([11, 42], []), ([20, 20], []), ([12, 41], []), ([24, 35], []), ([12, 19], []), ([11, 21], []), ([16, 39], []), ([14, 23], []), ([17, 19], []), ([21, 28], []), ([26, 41], []), ([21, 29], []), ([14, 16], []), ([5, 42], []), ([9, 36], []), ([40, 40], []), ([14, 34], []), ([1, 28], []), ([12, 27], []), ([37, 37], []), ([7, 26], []), ([12, 29], []), ([23, 30], []), ([18, 25], []), ([13, 22], []), ([23, 26], []), ([32, 42], []), ([5, 5], []), ([3, 18], []), ([5, 40], []), ([32, 34], []), ([9, 23], []), ([16, 16], []), ([0, 31], []), ([2, 4], []), ([23, 29], []), ([18, 27], []), ([2, 24], []), ([13, 13], []), ([10, 31], []), ([3, 35], []), ([24, 42], []), ([4, 25], []), ([2, 18], []), ([3, 5], []), ([25, 35], []), ([2, 13], []), ([8, 23], []), ([6, 38], []), ([6, 33], []), ([0, 10], []), ([8, 36], []), ([7, 17], []), ([22, 23], []), ([6, 36], []), ([7, 33], [])], [([2], [2]), ([0], [0]), ([38], [38]), ([31], [31]), ([12], [12]), ([18], [18]), ([10], [10]), ([20], [20]), ([4], [4]), ([15], [15]), ([39], [39]), ([36], [36]), ([34], [34]), ([28], [28]), ([14], [14]), ([32], [32]), ([22], [22]), ([23], [23]), ([26], [26]), ([11], [11]), ([29], [29]), ([41], [41]), ([35], [35]), ([9], [9]), ([21], [21]), ([5], [5]), ([37], [37]), ([30], [30]), ([33], [33]), ([17], [17]), ([42], [42]), ([16], [16]), ([40], [40]), ([7], [7]), ([6], [6]), ([27], [27]), ([19], [19]), ([1], [1]), ([25], [25]), ([8], [8]), ([13], [13]), ([24], [24]), ([3], [3]), ([9], [28]), ([37], [6]), ([30], [32]), ([26], [22]), ([34], [20]), ([8], [10]), ([22], [19]), ([37], [9]), ([12], [11]), ([41], [8]), ([36], [24]), ([25], [4]), ([41], [25]), ([7], [23]), ([15], [32]), ([2], [4]), ([42], [12]), ([18], [20]), ([31], [29]), ([9], [15]), ([21], [34]), ([20], [37]), ([12], [16]), ([27], [16]), ([18], [37]), ([14], [33]), ([5], [33]), ([39], [23]), ([12], [17]), ([41], [42]), ([19], [24]), ([38], [23]), ([30], [39]), ([17], [17]), ([37], [28]), ([17], [34]), ([3], [12]), ([27], [1]), ([28], [0]), ([20], [17]), ([39], [41]), ([32], [22]), ([0], [5]), ([25], [38]), ([21], [41]), ([19], [2]), ([36], [9]), ([13], [27]), ([41], [26]), ([9], [0]), ([11], [22]), ([10], [2]), ([36], [5]), ([21], [24]), ([25], [7]), ([18], [28]), ([39], [39]), ([35], [27]), ([25], [18]), ([33], [3]), ([16], [14]), ([10], [0]), ([14], [0]), ([6], [38]), ([29], [33]), ([33], [12]), ([23], [23]), ([35], [31]), ([12], [28]), ([35], [14]), ([36], [10]), ([16], [28]), ([38], [15]), ([24], [16]), ([4], [22]), ([27], [5]), ([31], [32]), ([32], [40]), ([34], [35]), ([13], [22]), ([21], [25]), ([21], [26]), ([17], [36]), ([40], [28]), ([29], [31]), ([0], [14]), ([40], [10]), ([23], [7]), ([0], [32]), ([28], [5]), ([1], [24]), ([14], [36]), ([34], [14]), ([28], [26]), ([36], [20]), ([12], [24]), ([40], [35]), ([13], [14]), ([6], [40]), ([33], [26]), ([21], [38]), ([19], [23]), ([23], [40]), ([7], [17]), ([33], [10]), ([15], [28]), ([26], [32]), ([8], [25]), ([28], [34]), ([32], [31]), ([7], [8]), ([26], [40]), ([11], [25]), ([18], [23]), ([26], [9]), ([17], [38]), ([14], [13]), ([2], [36]), ([4], [24]), ([30], [2]), ([15], [22]), ([20], [2]), ([42], [9]), ([14], [42]), ([0], [30]), ([10], [9]), ([23], [38]), ([32], [24]), ([13], [9]), ([36], [33]), ([29], [25]), ([36], [14]), ([4], [6]), ([19], [42]), ([35], [29]), ([40], [13]), ([14], [14]), ([14], [21]), ([8], [12]), ([41], [41]), ([20], [35]), ([0], [4]), ([1], [30]), ([27], [39]), ([1], [20]), ([40], [37]), ([4], [39]), ([1], [2]), ([32], [13]), ([4], [32]), ([27], [13]), ([33], [31]), ([1], [37]), ([26], [30]), ([4], [34]), ([25], [28]), ([22], [30]), ([11], [6]), ([20], [36]), ([32], [34]), ([32], [5]), ([9], [21]), ([37], [11]), ([24], [28]), ([34], [3]), ([16], [3]), ([15], [3]), ([34], [26]), ([23], [39]), ([31], [38]), ([23], [6]), ([13], [40]), ([37], [38]), ([27], [34]), ([30], [19]), ([14], [8]), ([1], [1]), ([32], [29]), ([10], [30]), ([34], [15]), ([30], [28]), ([31], [25]), ([10], [3]), ([35], [10])], [([15], [15]), ([3], [3]), ([31], [31]), ([29], [29]), ([42], [42]), ([12], [12]), ([22], [22]), ([5], [5]), ([41], [41]), ([25], [25]), ([32], [32]), ([17], [17]), ([13], [13]), ([19], [19]), ([38], [38]), ([1], [1]), ([11], [11]), ([27], [27]), ([20], [20]), ([21], [21]), ([36], [36]), ([37], [37]), ([9], [9]), ([4], [4]), ([34], [34]), ([26], [26]), ([2], [2]), ([33], [33]), ([16], [16]), ([18], [18]), ([10], [10]), ([30], [30]), ([35], [35]), ([7], [7]), ([39], [39]), ([23], [23]), ([8], [8]), ([6], [6]), ([24], [24]), ([0], [0]), ([14], [14]), ([28], [28]), ([40], [40]), ([8], [6]), ([7], [26]), ([23], [31]), ([41], [0]), ([36], [28]), ([5], [20]), ([33], [29]), ([14], [38]), ([33], [6]), ([14], [39]), ([42], [19]), ([15], [38]), ([37], [30]), ([41], [25]), ([26], [29]), ([27], [14]), ([0], [13]), ([7], [10]), ([14], [19]), ([10], [32]), ([28], [42]), ([0], [33]), ([31], [21]), ([16], [3]), ([1], [7]), ([27], [7]), ([41], [31]), ([38], [32]), ([1], [26]), ([21], [40]), ([15], [10]), ([3], [19]), ([0], [23]), ([9], [14]), ([36], [36]), ([32], [16]), ([40], [8]), ([41], [13]), ([30], [25]), ([28], [28]), ([8], [19]), ([24], [42]), ([37], [5]), ([38], [41]), ([0], [26]), ([6], [33]), ([16], [33]), ([20], [25]), ([42], [20]), ([35], [28]), ([17], [41]), ([11], [39]), ([39], [32]), ([20], [36]), ([21], [12]), ([3], [42]), ([12], [18]), ([17], [12]), ([5], [25]), ([21], [13]), ([13], [26]), ([31], [38]), ([5], [35]), ([14], [6]), ([35], [2]), ([14], [24]), ([14], [23]), ([5], [27]), ([8], [35]), ([25], [4]), ([15], [18]), ([0], [1]), ([41], [40]), ([5], [37]), ([7], [42]), ([17], [25]), ([26], [31]), ([34], [19]), ([42], [24]), ([27], [35]), ([17], [38]), ([41], [32]), ([17], [3]), ([6], [26]), ([0], [41]), ([31], [31]), ([4], [7]), ([5], [34]), ([18], [2]), ([11], [28]), ([10], [13]), ([38], [5]), ([42], [32]), ([34], [41]), ([12], [28]), ([37], [6]), ([36], [38]), ([11], [16]), ([0], [8]), ([31], [36]), ([40], [16]), ([35], [8]), ([29], [21]), ([19], [25]), ([23], [30]), ([36], [24]), ([42], [35]), ([17], [33]), ([15], [8]), ([4], [27]), ([30], [31]), ([22], [9]), ([9], [29]), ([9], [38]), ([23], [5]), ([2], [14]), ([21], [11]), ([18], [16]), ([24], [15]), ([25], [33]), ([38], [36]), ([41], [36]), ([32], [41]), ([32], [17]), ([32], [37]), ([5], [12]), ([23], [24]), ([25], [9]), ([19], [5]), ([23], [3]), ([24], [34]), ([3], [0]), ([13], [31]), ([26], [27]), ([23], [39]), ([6], [4]), ([34], [12]), ([36], [1]), ([1], [16]), ([9], [42]), ([17], [27]), ([37], [42]), ([35], [19]), ([19], [11]), ([22], [15]), ([30], [21]), ([1], [23]), ([25], [24]), ([20], [39]), ([3], [28]), ([6], [17]), ([16], [23]), ([42], [34]), ([12], [15]), ([39], [30]), ([25], [8]), ([18], [17]), ([11], [5]), ([30], [19]), ([42], [42]), ([6], [34]), ([18], [38]), ([3], [6]), ([17], [14]), ([12], [32]), ([3], [16]), ([28], [16]), ([0], [29]), ([8], [27]), ([19], [17]), ([32], [3]), ([5], [13]), ([5], [33]), ([40], [7]), ([5], [1]), ([28], [2]), ([25], [25]), ([16], [5]), ([1], [36]), ([19], [26]), ([5], [8]), ([31], [11]), ([31], [19]), ([2], [33])], [([], [40, 40]), ([], [36, 36]), ([], [37, 37]), ([], [7, 7]), ([], [32, 32]), ([], [17, 17]), ([], [11, 11]), ([], [23, 23]), ([], [35, 35]), ([], [31, 31]), ([], [1, 1]), ([], [5, 5]), ([], [41, 41]), ([], [28, 28]), ([], [21, 21]), ([], [15, 15]), ([], [20, 20]), ([], [24, 24]), ([], [10, 10]), ([], [33, 33]), ([], [29, 29]), ([], [30, 30]), ([], [22, 22]), ([], [39, 39]), ([], [3, 3]), ([], [19, 19]), ([], [16, 16]), ([], [6, 6]), ([], [18, 18]), ([], [12, 12]), ([], [27, 27]), ([], [9, 9]), ([], [38, 38]), ([], [34, 34]), ([], [14, 14]), ([], [8, 8]), ([], [26, 26]), ([], [42, 42]), ([], [25, 25]), ([], [4, 4]), ([], [0, 0]), ([], [2, 2]), ([], [13, 13]), ([], [17, 36]), ([], [15, 16]), ([], [29, 32]), ([], [22, 41]), ([], [0, 14]), ([], [9, 19]), ([], [11, 18]), ([], [18, 30]), ([], [12, 17]), ([], [7, 18]), ([], [2, 8]), ([], [1, 37]), ([], [12, 22]), ([], [22, 35]), ([], [30, 39]), ([], [10, 34]), ([], [19, 30]), ([], [18, 31]), ([], [3, 7]), ([], [5, 42]), ([], [5, 18]), ([], [10, 27]), ([], [14, 26]), ([], [7, 23]), ([], [2, 33]), ([], [16, 38]), ([], [11, 27]), ([], [8, 38]), ([], [11, 32]), ([], [18, 37]), ([], [14, 33]), ([], [6, 37]), ([], [4, 11]), ([], [17, 21]), ([], [10, 20]), ([], [5, 12]), ([], [9, 26]), ([], [1, 8]), ([], [27, 35]), ([], [14, 41]), ([], [17, 30]), ([], [0, 32]), ([], [8, 17]), ([], [3, 37]), ([], [12, 15]), ([], [20, 21]), ([], [4, 36]), ([], [4, 41]), ([], [3, 10]), ([], [27, 38]), ([], [16, 23]), ([], [34, 36]), ([], [22, 29]), ([], [3, 33]), ([], [25, 36]), ([], [23, 23]), ([], [1, 3]), ([], [25, 41]), ([], [31, 32]), ([], [3, 29]), ([], [4, 4]), ([], [0, 23]), ([], [31, 38]), ([], [8, 20]), ([], [11, 33]), ([], [15, 34]), ([], [4, 5]), ([], [12, 16]), ([], [2, 11]), ([], [19, 19]), ([], [25, 35]), ([], [13, 40]), ([], [17, 20]), ([], [23, 32]), ([], [9, 31]), ([], [2, 18]), ([], [23, 36]), ([], [33, 35]), ([], [6, 16]), ([], [7, 21]), ([], [18, 19]), ([], [6, 36]), ([], [14, 29]), ([], [33, 33]), ([], [28, 42]), ([], [16, 29]), ([], [15, 33]), ([], [17, 41]), ([], [34, 41]), ([], [2, 13]), ([], [8, 16]), ([], [20, 35]), ([], [7, 32]), ([], [21, 38])]]\n"
     ]
    }
   ],
   "source": [
    "print(\"pattern_list:\",pattern_list)"
   ]
  },
  {
   "cell_type": "code",
   "execution_count": 17,
   "metadata": {},
   "outputs": [],
   "source": [
    "### instance log\n",
    "relpath=\"./Datasets/\"+dataset+\"/fold=\"+str(fold)\n",
    "filename=relpath+'_instance_log_'+str(d)+'.txt'\n",
    "with open(filename, 'w') as file:\n",
    "    K = list(data.y.unique())\n",
    "    texts=[str(n),str(p),str(num_patterns_all),str(len(K))]\n",
    "    separator = \",\"\n",
    "    data = separator.join(texts)\n",
    "    file.write(data)"
   ]
  },
  {
   "cell_type": "markdown",
   "metadata": {},
   "source": [
    "All Patterns"
   ]
  },
  {
   "cell_type": "markdown",
   "metadata": {},
   "source": [
    "## Master Problem"
   ]
  },
  {
   "cell_type": "code",
   "execution_count": 18,
   "metadata": {},
   "outputs": [],
   "source": [
    "def solve_partial_OCT_IP_matrix(pattern_list, x, y_k, d,p):\n",
    "    global n\n",
    "    global epsilon\n",
    "    global cons_time\n",
    "    timer_start=time.time()\n",
    "    ### Baseline model\n",
    "    ## the W variables coefficients will be filled before column generation\n",
    "    cons_basis= get_w_columns(d,p)\n",
    "    \n",
    "    \n",
    "    ### get A matrix ###\n",
    "    columns = [cons_basis]\n",
    "    _ = [\n",
    "        [columns.append(get_column(leaf,d, pattern, p)) for leaf in range(len(pattern_list)) for pattern in pattern_list[leaf]]    \n",
    "    ] # null list to hide extend output\n",
    "\n",
    "    miss_and_count=[get_misclassification_bag(x, y_k, pattern_bag, leaf) for leaf in np.arange(len(pattern_list),dtype=np.int32) for pattern_bag in pattern_list[leaf]]\n",
    "    \n",
    "    ### MISSS function change here\n",
    "    \n",
    "    A= np.concatenate(columns,axis=1)\n",
    "\n",
    "\n",
    "    ### get b ###\n",
    "    b = np.concatenate([np.ones(len(pattern_list)),np.zeros(len(A)-len(pattern_list)-2*len(sensitive_features)),np.ones(2*len(sensitive_features))*epsilon]) # RHS\n",
    "    \n",
    "    ### get c ###\n",
    "\n",
    "    c=np.array([miss_and_count[i][0]/n for i in range(len(miss_and_count))])\n",
    "    c=np.concatenate([np.zeros(cons_basis.shape[1]),c]) ### add 0 obj for w\n",
    "    \n",
    "    ### build model ###\n",
    "\n",
    "    mp = Model('MasterProblemLP')\n",
    "    #mp.setParam('OutputFlag', 0)\n",
    "    \n",
    "    mp.setParam('TimeLimit', 10800)\n",
    "\n",
    "    # add as many variables as the number of patterns\n",
    "    mp.addMVar(A.shape[1]-len(miss_and_count), vtype=GRB.BINARY,name='w') \n",
    "    mp.addMVar(len(miss_and_count), vtype=GRB.BINARY,name='pattern') \n",
    "    signs=['=',]*(len(A)-2*len(sensitive_features)) + ['<']*(2*len(sensitive_features)) # fairness signs\n",
    "    mp.addMConstr(A, None, signs , b) # change here as well\n",
    "\n",
    "    #sp.setMObjective(None,c_new,0,None,None,None,GRB.MAXIMIZE)\n",
    "    mp.setMObjective(None, c, 0.0, xQ_L=None, xQ_R=None, xc=None, sense=GRB.MINIMIZE )\n",
    "\n",
    "    timer_end=time.time()\n",
    "    cons_time=timer_end-timer_start\n",
    "\n",
    "    timer_start=time.time()\n",
    "    mp.optimize()\n",
    "    timer_end=time.time()\n",
    "    return mp, A, b, c,timer_end-timer_start\n",
    "\n",
    "def solve_partial_OCT_matrix(pattern_list, x, y_k, d,p):\n",
    "    global n\n",
    "    \n",
    "    ### Baseline model\n",
    "    ## the W variables coefficients will be filled before column generation\n",
    "    cons_basis= get_w_columns(d,p)\n",
    "    \n",
    "    \n",
    "    ### get A matrix ###\n",
    "    columns = [cons_basis]\n",
    "    _ = [\n",
    "        [columns.append(get_column(leaf,d, pattern, p)) for leaf in range(len(pattern_list)) for pattern in pattern_list[leaf]]    \n",
    "    ] # null list to hide extend output\n",
    "\n",
    "    miss_and_count=[get_misclassification_bag(x, y_k, pattern_bag, leaf) for leaf in np.arange(len(pattern_list),dtype=np.int32) for pattern_bag in pattern_list[leaf]]\n",
    "    \n",
    "    ### MISSS function change here\n",
    "    \n",
    "    A= np.concatenate(columns,axis=1)\n",
    "\n",
    "\n",
    "    ### get b ###\n",
    "    b = np.concatenate([np.ones(len(pattern_list)),np.zeros(len(A)-len(pattern_list)-2),np.ones(2*len(sensitive_features))*epsilon]) # RHS\n",
    "    \n",
    "    ### get c ###\n",
    "\n",
    "    c=np.array([miss_and_count[i][0]/n for i in range(len(miss_and_count))])\n",
    "    c=np.concatenate([np.zeros(cons_basis.shape[1]),c]) ### add 0 obj for w\n",
    "    \n",
    "    ### build model ###\n",
    "\n",
    "    mp = Model('MasterProblemLP')\n",
    "    mp.setParam('OutputFlag', 0)\n",
    "    \n",
    "    # add as many variables as the number of patterns\n",
    "    mp.addMVar(A.shape[1]-len(miss_and_count), vtype=GRB.CONTINUOUS,name='w',lb=0) \n",
    "    mp.addMVar(len(miss_and_count), vtype=GRB.CONTINUOUS,name='pattern',lb=0) \n",
    "\n",
    "    signs=['=',]*(len(A)-2) + ['<']*2 # fairness signs\n",
    "    mp.addMConstr(A, None, signs , b)\n",
    "\n",
    "    #sp.setMObjective(None,c_new,0,None,None,None,GRB.MAXIMIZE)\n",
    "    mp.setMObjective(None, c, 0.0, xQ_L=None, xQ_R=None, xc=None, sense=GRB.MINIMIZE )\n",
    "    mp.optimize()\n",
    "\n",
    "    return mp, A, b, c\n",
    "\n",
    "\n",
    "\n",
    "\n",
    "def dual_partial_OCT_matrix(A,b,c):\n",
    "    ### build model ###\n",
    "    dual_mp=Model('Dual')\n",
    "\n",
    "    dual_mp.setParam('OutputFlag', 0)\n",
    "    \n",
    "    # add as many variables as the number of constraints\n",
    "    dual_mp.addMVar(A.shape[0], vtype=GRB.CONTINUOUS,ub=GRB.INFINITY,lb=-GRB.INFINITY,name='pattern') \n",
    "\n",
    "    dual_mp.addMConstr(A.T, None, '<' , c)\n",
    "\n",
    "    #sp.setMObjective(None,c_new,0,None,None,None,GRB.MAXIMIZE)\n",
    "    dual_mp.setMObjective(None, b, 0.0, xQ_L=None, xQ_R=None, xc=None, sense=GRB.MAXIMIZE )\n",
    "    dual_mp.optimize()\n",
    "\n",
    "    return dual_mp\n",
    "\n",
    "\n"
   ]
  },
  {
   "cell_type": "code",
   "execution_count": 19,
   "metadata": {},
   "outputs": [],
   "source": [
    "#m,A,b,c=solve_partial_OCT_matrix(all_patterns_list, x, y_k, d,p)"
   ]
  },
  {
   "cell_type": "code",
   "execution_count": 20,
   "metadata": {},
   "outputs": [],
   "source": [
    "#m.objval"
   ]
  },
  {
   "cell_type": "code",
   "execution_count": 21,
   "metadata": {},
   "outputs": [],
   "source": [
    "#m,A,b,c,_=solve_partial_OCT_IP_matrix(all_patterns_list, x, y_k, d,p)"
   ]
  },
  {
   "cell_type": "code",
   "execution_count": 22,
   "metadata": {},
   "outputs": [],
   "source": [
    "#m.ObjVal"
   ]
  },
  {
   "cell_type": "code",
   "execution_count": 23,
   "metadata": {},
   "outputs": [],
   "source": [
    "#m.Runtime"
   ]
  },
  {
   "cell_type": "code",
   "execution_count": 24,
   "metadata": {},
   "outputs": [],
   "source": [
    "def printIPVars(IP_model):\n",
    "    # Print non-zero decision variables, HERE BOTH PATTERN NUMBER AND LEAF NUMBER STARTS FROM 0\n",
    "    pattern_counter=[0,]*(2**(d))\n",
    "    leaf_pointer_array=IP_model.getA()[:2**(d)].toarray()\n",
    "    for i, var in enumerate(IP_model.X):\n",
    "            leaf=np.where((leaf_pointer_array[:,i]==1))[0][0]    \n",
    "            if var > 0:\n",
    "                index= pattern_counter[leaf]\n",
    "                print(f'Leaf {leaf+1} pattern {index+ 1}: {var}')\n",
    "                print('pattern:',all_patterns_list[leaf][index])\n",
    "            pattern_counter[leaf]+=1 #update index"
   ]
  },
  {
   "cell_type": "code",
   "execution_count": 25,
   "metadata": {},
   "outputs": [],
   "source": [
    "#list_unraveled=[]\n",
    "#_=[list_unraveled.extend(all_patterns_list[l]) for l in range(2**d)]\n",
    "#indices=np.where(np.array(m.X)[(2**d-1)*p:])[0]\n",
    "#for i in indices:\n",
    "#    print(list_unraveled[i])"
   ]
  },
  {
   "cell_type": "markdown",
   "metadata": {},
   "source": [
    "## CART "
   ]
  },
  {
   "cell_type": "code",
   "execution_count": 26,
   "metadata": {},
   "outputs": [],
   "source": [
    "# Function to recursively extract split features\n",
    "def extract_split_features(d,tree_structure,leaf):\n",
    "    \"\"\"\n",
    "    Node: 0,1,2,...2**d-1\n",
    "    \"\"\"\n",
    "    empty_pattern=tuple([[] for _ in range(2)])\n",
    "    nodes=get_w_indices(2**d-leaf-1) # we are doing this because CART builder assumes right splits are postive and left are negative\n",
    "    splits=get_split_values(leaf,d).astype(int)\n",
    "    tree_features=tree_structure.feature[tree_structure.feature>=0]\n",
    "    for node in nodes:\n",
    "        feature_new = tree_features[node] if node<len(tree_features) else -1\n",
    "        level=0#(node+1)//(2**(d-1))\n",
    "        flag=node in np.arange(2**level-1,2**(level+1)-1).tolist()\n",
    "        while not flag:\n",
    "            level+=1\n",
    "            flag=node in np.arange(2**level-1,2**(level+1)-1).tolist()\n",
    "            \n",
    "        empty_pattern[1-splits[level]].append(feature_new) if feature_new >=0 else empty_pattern[1-splits[level]].append(feature_old)\n",
    "        feature_old=feature_new # store this split\n",
    "    \n",
    "    return empty_pattern\n"
   ]
  },
  {
   "cell_type": "code",
   "execution_count": 27,
   "metadata": {},
   "outputs": [
    {
     "name": "stdout",
     "output_type": "stream",
     "text": [
      "CART Miss: 0.46261682242990654\n"
     ]
    }
   ],
   "source": [
    "import pandas as pd\n",
    "import numpy as np\n",
    "from sklearn import tree\n",
    "from sklearn.metrics import accuracy_score,confusion_matrix\n",
    "clf = tree.DecisionTreeClassifier(max_depth=d)\n",
    "clf = clf.fit(x, y)\n",
    "prediction = clf.predict(x)\n",
    "cart_acc=1-accuracy_score(y,prediction)\n",
    "print('CART Miss:',cart_acc)"
   ]
  },
  {
   "cell_type": "code",
   "execution_count": 29,
   "metadata": {},
   "outputs": [
    {
     "name": "stdout",
     "output_type": "stream",
     "text": [
      "CART Result\n"
     ]
    },
    {
     "data": {
      "text/plain": [
       "[Text(0.5, 0.8333333333333334, 'x[11] <= 0.5\\ngini = 0.609\\nsamples = 642\\nvalue = [116, 331, 195]'),\n",
       " Text(0.25, 0.5, 'x[29] <= 0.5\\ngini = 0.606\\nsamples = 527\\nvalue = [104, 279, 144]'),\n",
       " Text(0.125, 0.16666666666666666, 'gini = 0.601\\nsamples = 517\\nvalue = [100, 278, 139]'),\n",
       " Text(0.375, 0.16666666666666666, 'gini = 0.58\\nsamples = 10\\nvalue = [4, 1, 5]'),\n",
       " Text(0.75, 0.5, 'x[4] <= 0.5\\ngini = 0.588\\nsamples = 115\\nvalue = [12, 52, 51]'),\n",
       " Text(0.625, 0.16666666666666666, 'gini = 0.574\\nsamples = 71\\nvalue = [7, 27, 37]'),\n",
       " Text(0.875, 0.16666666666666666, 'gini = 0.563\\nsamples = 44\\nvalue = [5, 25, 14]')]"
      ]
     },
     "execution_count": 29,
     "metadata": {},
     "output_type": "execute_result"
    },
    {
     "data": {
      "image/png": "[encoded data removed]",
      "text/plain": [
       "<Figure size 640x480 with 1 Axes>"
      ]
     },
     "metadata": {},
     "output_type": "display_data"
    }
   ],
   "source": [
    "print('CART Result')\n",
    "tree.plot_tree(clf)"
   ]
  },
  {
   "cell_type": "code",
   "execution_count": 30,
   "metadata": {},
   "outputs": [],
   "source": [
    "## store incumbent CART patterns\n",
    "inc_patterns_CART=[[extract_split_features(d,clf.tree_,leaf)] for leaf in range(2**d)]"
   ]
  },
  {
   "cell_type": "code",
   "execution_count": 31,
   "metadata": {},
   "outputs": [],
   "source": [
    "## add cart patterns to assoc. pattern list\n",
    "_=[pattern_list[l].append(inc_patterns_CART[l][0]) for l in range(2**d)]\n",
    "_=[all_patterns_list[l].append(inc_patterns_CART[l][0]) for l in range(2**d)]"
   ]
  },
  {
   "cell_type": "code",
   "execution_count": 32,
   "metadata": {},
   "outputs": [],
   "source": [
    "from itertools import combinations_with_replacement"
   ]
  },
  {
   "cell_type": "markdown",
   "metadata": {},
   "source": [
    "## Solve the IP model"
   ]
  },
  {
   "cell_type": "code",
   "execution_count": 33,
   "metadata": {},
   "outputs": [
    {
     "name": "stdout",
     "output_type": "stream",
     "text": [
      "Solving IP Model\n",
      "Set parameter Username\n",
      "Academic license - for non-commercial use only - expires 2024-10-09\n",
      "Set parameter TimeLimit to value 3600\n",
      "Gurobi Optimizer version 10.0.3 build v10.0.3rc0 (mac64[arm])\n",
      "\n",
      "CPU model: Apple M1\n",
      "Thread count: 8 physical cores, 8 logical processors, using up to 8 threads\n",
      "\n",
      "Optimize a model with 358 rows, 5723 columns and 67368 nonzeros\n",
      "Model fingerprint: 0x2e1fa841\n",
      "Variable types: 0 continuous, 5723 integer (5723 binary)\n",
      "Coefficient statistics:\n",
      "  Matrix range     [2e-03, 2e+00]\n",
      "  Objective range  [2e-03, 5e-01]\n",
      "  Bounds range     [1e+00, 1e+00]\n",
      "  RHS range        [1e+00, 1e+00]\n",
      "Presolve removed 89 rows and 3 columns\n",
      "Presolve time: 0.07s\n",
      "Presolved: 269 rows, 5720 columns, 43268 nonzeros\n",
      "Variable types: 0 continuous, 5720 integer (5719 binary)\n",
      "Found heuristic solution: objective 0.4844237\n",
      "\n",
      "Root relaxation: objective 0.000000e+00, 58 iterations, 0.00 seconds (0.00 work units)\n",
      "\n",
      "    Nodes    |    Current Node    |     Objective Bounds      |     Work\n",
      " Expl Unexpl |  Obj  Depth IntInf | Incumbent    BestBd   Gap | It/Node Time\n",
      "\n",
      "     0     0    0.00000    0   10    0.48442    0.00000   100%     -    0s\n",
      "     0     0    0.02648    0   10    0.48442    0.02648  94.5%     -    0s\n",
      "H    0     0                       0.4719626    0.02648  94.4%     -    0s\n",
      "H    0     0                       0.4657321    0.04517  90.3%     -    0s\n",
      "     0     0    0.04517    0   20    0.46573    0.04517  90.3%     -    0s\n",
      "     0     0    0.04517    0   21    0.46573    0.04517  90.3%     -    0s\n",
      "     0     0    0.04517    0   20    0.46573    0.04517  90.3%     -    0s\n",
      "     0     0    0.04517    0   21    0.46573    0.04517  90.3%     -    0s\n",
      "     0     0    0.04517    0   20    0.46573    0.04517  90.3%     -    0s\n",
      "     0     0    0.04517    0   21    0.46573    0.04517  90.3%     -    0s\n",
      "     0     0    0.04517    0   20    0.46573    0.04517  90.3%     -    0s\n",
      "     0     0    0.04517    0   21    0.46573    0.04517  90.3%     -    0s\n",
      "     0     0    0.04517    0   20    0.46573    0.04517  90.3%     -    0s\n",
      "     0     0    0.04517    0   21    0.46573    0.04517  90.3%     -    0s\n",
      "     0     0    0.04517    0   21    0.46573    0.04517  90.3%     -    0s\n",
      "H    0     0                       0.4641745    0.04517  90.3%     -    0s\n",
      "H    0     0                       0.4563863    0.04517  90.1%     -    0s\n",
      "     0     0    0.33645    0   10    0.45639    0.33645  26.3%     -    0s\n",
      "     0     0    0.34891    0   10    0.45639    0.34891  23.5%     -    0s\n",
      "     0     0    0.40810    0   10    0.45639    0.40810  10.6%     -    0s\n",
      "     0     0    0.40810    0   10    0.45639    0.40810  10.6%     -    0s\n",
      "     0     0    0.40810    0   12    0.45639    0.40810  10.6%     -    0s\n",
      "     0     0    0.41199    0   20    0.45639    0.41199  9.73%     -    0s\n",
      "     0     0    0.41199    0   33    0.45639    0.41199  9.73%     -    0s\n",
      "     0     0    0.41199    0   33    0.45639    0.41199  9.73%     -    0s\n",
      "     0     0    0.41199    0   30    0.45639    0.41199  9.73%     -    0s\n",
      "     0     0    0.41199    0   31    0.45639    0.41199  9.73%     -    0s\n",
      "     0     0    0.41199    0   34    0.45639    0.41199  9.73%     -    0s\n",
      "     0     0    0.41199    0   21    0.45639    0.41199  9.73%     -    0s\n",
      "     0     0    0.41199    0   39    0.45639    0.41199  9.73%     -    0s\n",
      "     0     0    0.41199    0   33    0.45639    0.41199  9.73%     -    0s\n",
      "     0     0    0.41199    0   33    0.45639    0.41199  9.73%     -    0s\n",
      "     0     0    0.41199    0   33    0.45639    0.41199  9.73%     -    0s\n",
      "     0     0    0.41199    0   32    0.45639    0.41199  9.73%     -    0s\n",
      "     0     2    0.41199    0   32    0.45639    0.41199  9.73%     -    0s\n",
      "\n",
      "Cutting planes:\n",
      "  Cover: 7\n",
      "  Clique: 22\n",
      "  Zero half: 6\n",
      "\n",
      "Explored 1544 nodes (26752 simplex iterations) in 4.40 seconds (7.78 work units)\n",
      "Thread count was 8 (of 8 available processors)\n",
      "\n",
      "Solution count 5: 0.456386 0.464174 0.465732 ... 0.484424\n",
      "\n",
      "Optimal solution found (tolerance 1.00e-04)\n",
      "Best objective 4.563862928349e-01, best bound 4.563862928349e-01, gap 0.0000%\n"
     ]
    }
   ],
   "source": [
    "print('Solving IP Model')\n",
    "IP_model=solve_partial_OCT_IP_matrix(all_patterns_list, x, y_k, d,p)"
   ]
  },
  {
   "cell_type": "code",
   "execution_count": 34,
   "metadata": {},
   "outputs": [],
   "source": [
    "def printIPVars(IP_model):\n",
    "    # Print non-zero decision variables, HERE BOTH PATTERN NUMBER AND LEAF NUMBER STARTS FROM 0\n",
    "    inc_patterns=[[] for leaf in range(2**d)]\n",
    "    pattern_counter=[0,]*(2**(d))\n",
    "    leaf_pointer_array=IP_model[0].getA()[:2**(d)].toarray()\n",
    "    for i, var in enumerate(IP_model[0].X[(2**d-1)*p:]):\n",
    "            leaf=np.where((leaf_pointer_array[:,(2**d-1)*p+i]==1))[0][0]    \n",
    "            if var > 0:\n",
    "                index= pattern_counter[leaf]\n",
    "                print(f'Leaf {leaf+1} pattern {index+ 1}: {var}')\n",
    "                print('pattern:',all_patterns_list[leaf][index])\n",
    "                inc_patterns[leaf].append(all_patterns_list[leaf][index])\n",
    "            pattern_counter[leaf]+=1 #update index\n",
    "    return inc_patterns\n",
    "\n",
    "def get_ODM(inc_patterns,d,x,y_k):\n",
    "    global sensitive_features\n",
    "    n= len(x)\n",
    "    ODM=0\n",
    "    for feature in sensitive_features:\n",
    "        ODM_feat_p=0\n",
    "        ODM_feat_m=0\n",
    "\n",
    "        for leaf in range(2**d):\n",
    "            info_sensitive, info_non_sensitive=get_misclassification_bag_sensitive(x, y_k, inc_patterns[leaf][0], leaf,[feature])\n",
    "            #sigma= info_sensitive[0]/info_sensitive[1] if info_sensitive[1]> 0 else 0   - info_non_sensitive[0]/info_non_sensitive[1]>0 if info_non_sensitive[1]>0 else 0\n",
    "            sigma= (info_sensitive[0] - info_non_sensitive[0])/(n)#/(info_sensitive[1]+info_non_sensitive[1]) if info_sensitive[1]+info_non_sensitive[1]> 0 else 0 \n",
    "            ODM_feat_p+=sigma\n",
    "            ODM_feat_m-=sigma\n",
    "        ODM=max(ODM,max(ODM_feat_p,ODM_feat_m))\n",
    "    return ODM\n",
    "\n",
    "def get_DCM(inc_patterns,d,x,y_k):\n",
    "    global sensitive_features\n",
    "    global K\n",
    "    DCM=0\n",
    "    \n",
    "    for classOfInterest in range(len(K)):\n",
    "        for feature in sensitive_features:\n",
    "                DCM_feat_class=0\n",
    "                for leaf in range(2**d):\n",
    "                    info_sensitive, info_non_sensitive=get_misclassification_bag_sensitive_class(x, y_k, inc_patterns[leaf][0], leaf,[feature],classOfInterest)\n",
    "                    #print(info_sensitive)\n",
    "                    #sigma= info_sensitive[0]/info_sensitive[1] if info_sensitive[1]> 0 else 0   - info_non_sensitive[0]/info_non_sensitive[1]>0 if info_non_sensitive[1]>0 else 0\n",
    "                    sigma= (info_sensitive[0] - info_non_sensitive[0])/np.sum(y_k[:,classOfInterest])#/(info_sensitive[1]+info_non_sensitive[1]) if info_sensitive[1]+info_non_sensitive[1]> 0 else 0 \n",
    "                    DCM_feat_class+=abs(sigma)\n",
    "                    #print(sigma)\n",
    "                DCM=max(DCM,DCM_feat_class)\n",
    "        return DCM"
   ]
  },
  {
   "cell_type": "code",
   "execution_count": 35,
   "metadata": {},
   "outputs": [
    {
     "name": "stdout",
     "output_type": "stream",
     "text": [
      "Leaf 1 pattern 199: 1.0\n",
      "pattern: ([4, 37], [])\n",
      "Leaf 2 pattern 1231: 1.0\n",
      "pattern: ([4], [37])\n",
      "Leaf 3 pattern 857: 1.0\n",
      "pattern: ([11], [4])\n",
      "Leaf 4 pattern 33: 1.0\n",
      "pattern: ([], [4, 11])\n"
     ]
    }
   ],
   "source": [
    "inc_patterns_IP=printIPVars(IP_model)"
   ]
  },
  {
   "cell_type": "code",
   "execution_count": 36,
   "metadata": {},
   "outputs": [
    {
     "name": "stdout",
     "output_type": "stream",
     "text": [
      "IP Model Objective: 0.45638629283489096\n",
      "IP Model Optimization Time: 4.4046618938446045\n"
     ]
    }
   ],
   "source": [
    "print('IP Model Objective:', IP_model[0].objval)\n",
    "print('IP Model Optimization Time:',IP_model[-1])"
   ]
  },
  {
   "cell_type": "code",
   "execution_count": 37,
   "metadata": {},
   "outputs": [
    {
     "name": "stdout",
     "output_type": "stream",
     "text": [
      "IP Model Train ODM: 0.454828660436137\n"
     ]
    }
   ],
   "source": [
    "IP_ODM=get_ODM(inc_patterns_IP,d,x,y_k)\n",
    "print('IP Model Train ODM:',IP_ODM)"
   ]
  },
  {
   "cell_type": "markdown",
   "metadata": {},
   "source": [
    "# Test Dataset"
   ]
  },
  {
   "cell_type": "code",
   "execution_count": 38,
   "metadata": {},
   "outputs": [],
   "source": [
    "relpath=\"./Datasets/\"+dataset+\"/fold=\"+str(fold)+\"_test.csv\"\n",
    "data = pd.read_csv(relpath)#pd.read_csv(\"./Datasets/fold=1_train.csv\")\n",
    "\n",
    "X = data.iloc[:,1:]\n",
    "y = data.iloc[:,:1]\n",
    "\n",
    "y_k = np.zeros((X.shape[0], len(K)))\n",
    "for k in range(len(K)):\n",
    "    y_k[np.where(y==K[k])[0],k] = 1\n",
    "\n",
    "y_k=y_k.astype(np.int32)\n",
    "x = np.array(X,dtype=np.int32)"
   ]
  },
  {
   "cell_type": "code",
   "execution_count": 39,
   "metadata": {},
   "outputs": [],
   "source": [
    "def get_tree_mis(inc_patterns,d,x,y_k):\n",
    "    miss=0\n",
    "    for leaf in range(2**d):\n",
    "        miss+=get_misclassification_bag(x, y_k, inc_patterns[leaf][0], leaf)[0]\n",
    "    return miss/len(x)\n"
   ]
  },
  {
   "cell_type": "code",
   "execution_count": 40,
   "metadata": {},
   "outputs": [],
   "source": [
    "miss_IP=get_tree_mis(inc_patterns_IP,d,x,y_k)\n",
    "IP_test_ODM=get_ODM(inc_patterns_IP,d,x,y_k)\n"
   ]
  },
  {
   "cell_type": "code",
   "execution_count": 41,
   "metadata": {},
   "outputs": [
    {
     "name": "stdout",
     "output_type": "stream",
     "text": [
      "IP Test Accuracy Score is: 0.5694444444444444\n"
     ]
    }
   ],
   "source": [
    "print('IP Test Accuracy Score is:', 1-miss_IP)"
   ]
  },
  {
   "cell_type": "code",
   "execution_count": 42,
   "metadata": {},
   "outputs": [],
   "source": [
    "#Training Accuracy\n",
    "#Test Accuracy\n",
    "#Time\n",
    "#Opt Gap"
   ]
  },
  {
   "cell_type": "code",
   "execution_count": 43,
   "metadata": {},
   "outputs": [
    {
     "name": "stdout",
     "output_type": "stream",
     "text": [
      "IP Model Objective: 0.45638629283489096\n",
      "IP Model Optimization Time: 4.4046618938446045\n"
     ]
    }
   ],
   "source": [
    "print('IP Model Objective:', IP_model[0].objval)\n",
    "print('IP Model Optimization Time:',IP_model[-1])"
   ]
  },
  {
   "cell_type": "code",
   "execution_count": 44,
   "metadata": {},
   "outputs": [],
   "source": [
    "res_MIP=np.array([epsilon,cons_time,IP_model[-1],1-IP_model[0].objval,IP_ODM,IP_model[0].MIPGap, 1-miss_IP,IP_test_ODM])\n",
    "labels=np.array(['Epsilon','Cons_Time','Time','Train Accuracy','Train ODM','Opt Gap','Test Accuracy', 'Test ODM'])"
   ]
  },
  {
   "cell_type": "code",
   "execution_count": 45,
   "metadata": {},
   "outputs": [],
   "source": [
    "res_final=np.vstack([labels,res_MIP])"
   ]
  },
  {
   "cell_type": "code",
   "execution_count": 46,
   "metadata": {},
   "outputs": [
    {
     "data": {
      "text/plain": [
       "array([['Epsilon', 'Cons_Time', 'Time', 'Train Accuracy', 'Train ODM',\n",
       "        'Opt Gap', 'Test Accuracy', 'Test ODM'],\n",
       "       ['1.0', '1.661041021347046', '4.4046618938446045',\n",
       "        '0.543613707165109', '0.454828660436137', '0.0',\n",
       "        '0.5694444444444444', '0.7083333333333333']], dtype='<U32')"
      ]
     },
     "execution_count": 46,
     "metadata": {},
     "output_type": "execute_result"
    }
   ],
   "source": [
    "res_final"
   ]
  },
  {
   "cell_type": "code",
   "execution_count": 47,
   "metadata": {},
   "outputs": [],
   "source": [
    "# save results\n",
    "relpath=\"./Datasets/\"+dataset+\"/fold=\"+str(fold)\n",
    "np.savetxt(relpath+'_res_'+str(d)+'_Fairness_IP_Analysis_'+str(sensitive_features)+'_'+str(epsilon)+'.txt',res_final,fmt='%s',delimiter=',')"
   ]
  },
  {
   "cell_type": "code",
   "execution_count": null,
   "metadata": {},
   "outputs": [],
   "source": [
    "import sys\n",
    "\n",
    "orig_stdout = sys.stdout\n",
    "f = open(relpath+'_DecisionRules_FairnessIP_'+str(d)+'.txt', 'w')\n",
    "sys.stdout = f\n",
    "\n",
    "print(inc_patterns_IP)\n",
    "\n",
    "sys.stdout = orig_stdout\n",
    "f.close()"
   ]
  }
 ],
 "metadata": {
  "kernelspec": {
   "display_name": "Python 3.8.13 ('Anaconda')",
   "language": "python",
   "name": "python3"
  },
  "language_info": {
   "codemirror_mode": {
    "name": "ipython",
    "version": 3
   },
   "file_extension": ".py",
   "mimetype": "text/x-python",
   "name": "python",
   "nbconvert_exporter": "python",
   "pygments_lexer": "ipython3",
   "version": "3.11.5"
  },
  "orig_nbformat": 4,
  "vscode": {
   "interpreter": {
    "hash": "f6f27239ee5173af89586d909bd5305cea6834bd56882853a6f24792033a6314"
   }
  }
 },
 "nbformat": 4,
 "nbformat_minor": 2
}
