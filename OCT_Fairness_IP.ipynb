{
 "cells": [
  {
   "cell_type": "code",
   "execution_count": 1,
   "metadata": {},
   "outputs": [],
   "source": [
    "### Parameters\n",
    "#fold=1\n",
    "#dataset='nursery' #'NHPA'\n",
    "#d = 2# depth\n",
    "#epsilon=1\n"
   ]
  },
  {
   "cell_type": "code",
   "execution_count": 2,
   "metadata": {},
   "outputs": [],
   "source": [
    "### FAIRNESS SETS and PARAMS\n",
    "\n",
    "#sensitive_features=[5]#[38,39,40,41,42]"
   ]
  },
  {
   "cell_type": "markdown",
   "metadata": {},
   "source": [
    "## Create Cython Modules"
   ]
  },
  {
   "cell_type": "code",
   "execution_count": 3,
   "metadata": {},
   "outputs": [],
   "source": [
    "#!python setup.py build_ext --inplace"
   ]
  },
  {
   "cell_type": "code",
   "execution_count": 4,
   "metadata": {},
   "outputs": [],
   "source": [
    "from Pricing_Branching import PP_node,PP_node_fairness, get_misclassification, get_split_values,get_misclassification_bag,get_misclassification_bag_sensitive"
   ]
  },
  {
   "cell_type": "markdown",
   "metadata": {},
   "source": [
    "## Imports"
   ]
  },
  {
   "cell_type": "code",
   "execution_count": 5,
   "metadata": {},
   "outputs": [
    {
     "name": "stdout",
     "output_type": "stream",
     "text": [
      "[Errno 2] No such file or directory: '/Users/elifrana/Desktop/OCT/n-depth'\n",
      "/Users/elranay/Desktop/FilesAll\n"
     ]
    }
   ],
   "source": [
    "cd /Users/elifrana/Desktop/OCT/n-depth"
   ]
  },
  {
   "cell_type": "code",
   "execution_count": 6,
   "metadata": {},
   "outputs": [],
   "source": [
    "## imports\n",
    "import json\n",
    "import logging\n",
    "import pandas as pd\n",
    "# Define this directive to disable the deprecated NumPy API\n",
    "#define NPY_NO_DEPRECATED_API NPY_1_7_API_VERSION\n",
    "import numpy as np\n",
    "import copy\n",
    "from gurobipy import *\n",
    "import time\n",
    "from copy import deepcopy\n",
    "from sklearn import preprocessing as pre\n",
    "import warnings\n",
    "warnings.filterwarnings(\"ignore\", category=DeprecationWarning)\n",
    "import concurrent.futures\n",
    "\n"
   ]
  },
  {
   "cell_type": "code",
   "execution_count": 7,
   "metadata": {},
   "outputs": [],
   "source": [
    "def print_iteration_separator():\n",
    "    separator_length = 50\n",
    "    separator_char = '*'\n",
    "\n",
    "    separator_line = separator_char * separator_length\n",
    "    print(separator_line)"
   ]
  },
  {
   "cell_type": "code",
   "execution_count": 8,
   "metadata": {},
   "outputs": [
    {
     "data": {
      "text/plain": [
       "array([1423, 1784, 1671, ...,  543, 1211, 1597])"
      ]
     },
     "execution_count": 8,
     "metadata": {},
     "output_type": "execute_result"
    }
   ],
   "source": [
    "def get_shuffle_indices(n):\n",
    "    arr=np.arange(0,n)\n",
    "    np.random.shuffle(arr)\n",
    "    return arr\n",
    "\n",
    "def split_into_batches(data_x,data_y, n):\n",
    "    global indices\n",
    "    global batch_sizes\n",
    "    batch_size = len(data) // n\n",
    "    remainder = len(data) % n\n",
    "\n",
    "    start_idx = 0\n",
    "    batch_sizes=[]\n",
    "    for i in range(n):\n",
    "        batch_end = start_idx + batch_size + (1 if i < remainder else 0)\n",
    "        batch_sizes.append(batch_end-start_idx)\n",
    "        yield data_x[indices[start_idx:batch_end]],data_y[indices[start_idx:batch_end]]\n",
    "        start_idx = batch_end\n",
    "\n",
    "indices=get_shuffle_indices(2000)\n",
    "indices"
   ]
  },
  {
   "cell_type": "markdown",
   "metadata": {},
   "source": [
    "## Read Data"
   ]
  },
  {
   "cell_type": "code",
   "execution_count": 9,
   "metadata": {},
   "outputs": [],
   "source": [
    "\n",
    "relpath=\"./Datasets/\"+dataset+\"/fold=\"+str(fold)+\"_train.csv\"\n",
    "data = pd.read_csv(relpath)#pd.read_csv(\"./Datasets/fold=1_train.csv\")\n",
    "\n",
    "\n",
    "X = data.iloc[:,1:]\n",
    "y = data.iloc[:,:1]\n",
    "\n",
    "\n",
    "\n",
    "P = [i for i in range(data.shape[1]-1)]\n",
    "K = list(data.y.unique())\n",
    "k=len(K)\n",
    "\n",
    "min_bucket_leaf= 0 # minimum number of data that should fall under each leaf\n",
    "D = list(range(d))\n",
    "N = list(range(X.shape[0]))\n",
    "n = len(N)\n",
    "n_leaves = 2**d\n",
    "p = X.shape[1]\n",
    "\n",
    "y_k = np.zeros((X.shape[0], len(K)))\n",
    "for k in range(len(K)):\n",
    "    y_k[np.where(y==K[k])[0],k] = 1\n",
    "\n",
    "y_k=y_k.astype(np.int32)\n",
    "x = np.array(X,dtype=np.int32)\n",
    "y_arr=np.array(y,dtype=np.int32).flatten()-1"
   ]
  },
  {
   "cell_type": "markdown",
   "metadata": {},
   "source": [
    "## Parameter Generators"
   ]
  },
  {
   "cell_type": "code",
   "execution_count": 10,
   "metadata": {},
   "outputs": [],
   "source": [
    "\n",
    "#### transfer these to cython!    \n",
    "def get_alpha(pattern, j, level, split_values=None):\n",
    "    try:\n",
    "        if pattern[level] == j and split_values[level] == 1:\n",
    "            out = 1\n",
    "        else:\n",
    "            out = 0\n",
    "    except:\n",
    "        print(\"Incorrect pattern\")\n",
    "        print([pattern, j, level, split_values])\n",
    "        out = 0\n",
    "\n",
    "    return out\n",
    "\n",
    "def get_beta(pattern, j, level, split_values):\n",
    "    try:\n",
    "        if pattern[level] == j and split_values[level] == 0:\n",
    "            out = 1\n",
    "        else:\n",
    "            out = 0\n",
    "    except:\n",
    "        print([pattern, j, level, split_values])\n",
    "        print(\"Incorrect pattern\")\n",
    "        out = 0\n",
    "\n",
    "    return out\n",
    "\n",
    "\n",
    "#### transfer these to cython!    \n",
    "def get_alpha_beta(pattern, j, feature_split_condition):\n",
    "    \"\"\"\n",
    "    This function assumes that the pattern provided is a tuple of lists, with 0-split features being the second entry,\n",
    "    and 1-split features being the first entry. If the feature split condition matches the position of the feature,\n",
    "    the function returns one. \n",
    "    \"\"\"\n",
    "    try:\n",
    "        if j in pattern[1-feature_split_condition]:\n",
    "            out = pattern[1-feature_split_condition].count(j)\n",
    "        else:\n",
    "            out = 0\n",
    "    except:\n",
    "        print(\"Incorrect pattern\")\n",
    "        print([pattern, j, feature_split_condition])\n",
    "        out = 0\n",
    "\n",
    "    return out\n",
    "\n",
    "\n",
    "\n",
    "\n",
    "\n",
    "## return the solution of the tree:\n",
    "### WRITE CODE HERE###\n",
    "## column generator function\n",
    "def get_column(leaf,d,pattern,p):\n",
    "    \"\"\" \n",
    "    Gives the column associated with a certain pattern. The column vector will have length 2^d + (2^(d+1))*p\n",
    "    Establishes the leaf's connection with all cousins, by order of closeness of cousin degrees.\n",
    "    The connections at one level are formed for each cousin pair by iterating each feature. This procedure is continued for each level in which the\n",
    "    pair continues to be associated with each other.\n",
    "\n",
    "    \"\"\"\n",
    "    global sensitive_features\n",
    "    my_column=np.zeros(2**d)\n",
    "    my_column[leaf]=1\n",
    "    \n",
    "    cons_list=[my_column]\n",
    "    start=leaf*2*p\n",
    "    leaf_cons=np.zeros(2**(d+1)*p)\n",
    "    for feature in range(p):\n",
    "        for split_condition in range(2): # binary split tree\n",
    "            leaf_cons[start+2*feature+split_condition]=-1*get_alpha_beta(pattern,feature,1-split_condition)\n",
    "    cons_list.append(leaf_cons)\n",
    "    fairness_cons=get_fairness_cons(leaf,pattern,sensitive_features) # 2* len(sensitive features)\n",
    "    cons_list.append(fairness_cons)\n",
    "    column=np.concatenate(cons_list)\n",
    "\n",
    "    return(column.reshape(len(column),1)) # appropriate column shape\n",
    "\n",
    "def get_w_columns(d,p):\n",
    "    \"\"\"\n",
    "    Takes tree depth and number of features p to return the w columns always present in the model.\n",
    "    The returned array can be joined horizontally with the pattern constraints.\n",
    "    Cython version exists, but is not in use.\n",
    "\n",
    "    \"\"\"\n",
    "    global sensitive_features\n",
    "    number_of_nodes= 2**(d)-1\n",
    "    len_w = number_of_nodes*p\n",
    "    len_cons=p*2**(d+1) ## binary splits\n",
    "    assignment_cons=np.zeros((2**d,len_w))\n",
    "    all_cons=[assignment_cons]\n",
    "    \n",
    "\n",
    "    for leaf in range(2**d):\n",
    "        \n",
    "\n",
    "        split_values=1-get_split_values(leaf,d).astype(int)\n",
    "        w_indices_for_leaf=[0]\n",
    "\n",
    "        ### obtain the leaf's association with split nodes\n",
    "        for d_temp in range(1,d):\n",
    "            values=np.arange(2**d_temp -1,2**d_temp -1 + 2**d_temp)\n",
    "            w_index=leaf//(2**(d-d_temp))\n",
    "            w_indices_for_leaf.append(values[w_index])\n",
    "\n",
    "\n",
    "        ### build the constraint set:\n",
    "        for feature_ in range(p):\n",
    "            feature_cons=[]\n",
    "            for node in range(number_of_nodes):\n",
    "                cons_temp=np.zeros((2,p))\n",
    "                if node in w_indices_for_leaf:\n",
    "                        index=w_indices_for_leaf.index(node)\n",
    "                        cons_temp[split_values[index],feature_]=1\n",
    "                feature_cons.append(cons_temp)\n",
    "\n",
    "            cons_leaf_feature=np.hstack(feature_cons)\n",
    "            all_cons.append(cons_leaf_feature)\n",
    "            \n",
    "    ### add fairness cons\n",
    "    all_cons.append(np.zeros((2*len(sensitive_features),len_w)))\n",
    "    all_cons=np.vstack(all_cons)\n",
    "    \n",
    "    return all_cons   \n",
    "        \n",
    "def get_fairness_cons(leaf,pattern,sensitive_features):\n",
    "    global n\n",
    "    global x\n",
    "\n",
    "    # returns the fairness constraint column for the pair, sensitive features are given as a list\n",
    "    sigma_list=[]\n",
    "    for feature in sensitive_features:\n",
    "        #n_group_sensitive=len(x[np.where(x[:,feature]==1)])\n",
    "        #n_group_nonsensitive=n-n_group_sensitive\n",
    "        info_sensitive, info_non_sensitive=get_misclassification_bag_sensitive(x, y_k, pattern, leaf,[feature])\n",
    "        #sigma= info_sensitive[0]/info_sensitive[1] if info_sensitive[1]> 0 else 0   - info_non_sensitive[0]/info_non_sensitive[1] if info_non_sensitive[1]>0 else 0\n",
    "        #sigma= (info_sensitive[0] - info_non_sensitive[0])/n#(info_sensitive[1]+info_non_sensitive[1]) if info_sensitive[1]+info_non_sensitive[1]> 0 else 0 \n",
    "        #sigma= (info_sensitive[0]*n_group_nonsensitive - info_non_sensitive[0]*n_group_sensitive)/(n_group_sensitive*n_group_nonsensitive)\n",
    "        sigma=(info_sensitive[0] - info_non_sensitive[0])/n\n",
    "        sigma_list.extend([sigma,-1*sigma])\n",
    "    column= np.array(sigma_list)\n",
    "    return column\n",
    "\n",
    "def get_w_indices(leaf):\n",
    "    \"\"\"\n",
    "    Cython version exists, but is not in use.\n",
    "    \"\"\"\n",
    "    # returns effected indices of each leaf\n",
    "    w_indices_for_leaf=[0]\n",
    "    ### obtain the leaf's association with split nodes\n",
    "    for d_temp in range(1,d):\n",
    "        values=np.arange(2**d_temp -1,2**d_temp -1 + 2**d_temp)\n",
    "        w_index=leaf//(2**(d-d_temp))\n",
    "        w_indices_for_leaf.append(values[w_index])\n",
    "\n",
    "    return w_indices_for_leaf\n",
    "\n",
    "def get_affected_leaves(node,w_indices_for_leaves):\n",
    "    \"\"\"\n",
    "    Cython version exists, but is not in use.\n",
    "    \"\"\"\n",
    "    affected_leaves=[]\n",
    "    ### obtain the leaf's association with split nodes\n",
    "\n",
    "    for leaf in range(len(w_indices_for_leaves)):\n",
    "        values=w_indices_for_leaves[leaf]\n",
    "        if node in values:\n",
    "            affected_leaves.append(leaf) \n",
    "\n",
    "    return affected_leaves\n",
    "\n",
    "def get_cousins(depth, leaf):\n",
    "    \"\"\"\n",
    "    returns a list of cousins ordered by their degree\n",
    "    \"\"\"\n",
    "    cousins=[[] for level in range(depth)]\n",
    "    cousins[depth-1]=[i for i in range(2**depth) if i!=leaf]\n",
    "    for i in range(depth-1,0,-1):\n",
    "        middle_split= leaf//2**(i)\n",
    "        cousins[i-1]=cousins[i][-(2**(i)-1):] if middle_split else cousins[i][:2**(i)-1] \n",
    "\n",
    "\n",
    "    return cousins\n",
    "\n",
    "\n",
    "\n",
    "def calculate_miss(x_tilde,y_tilde,j,RHS):\n",
    "    indices= x_tilde[:,j]==RHS\n",
    "    x_tilde_2= x_tilde[indices,:]\n",
    "    y_tilde_2= y_tilde[indices,:]\n",
    "    n_j= len(x_tilde_2)\n",
    "    count=np.sum(y_tilde_2,axis=0)\n",
    "    return n_j-np.max(count)\n",
    "\n",
    "def calculate_gini(x_tilde,y_tilde,j,RHS):\n",
    "    indices= x_tilde[:,j]==RHS\n",
    "    x_tilde_2= x_tilde[indices,:]\n",
    "    y_tilde_2= y_tilde[indices,:]\n",
    "    n_j= len(x_tilde_2) # number of data points\n",
    "    count=np.sum(y_tilde_2,axis=0) #number of ones and zeros\n",
    "    gini= 1-np.sum(np.square((count/n_j))) #1- sum(p^2) -- sum over classes\n",
    "    return gini\n",
    "\n",
    "from more_itertools import distinct_permutations\n",
    "from itertools import product,combinations,combinations_with_replacement\n",
    "\n",
    "\n",
    "\n",
    "def find_all_bags(feature_num,leaf,d):\n",
    "    \"\"\"\n",
    "    takes number of features and returns all possible bag combinations\n",
    "    includes repeats\n",
    "    \"\"\"\n",
    "    split_values=get_split_values(leaf,d)\n",
    "    max_num=int(np.sum(split_values))\n",
    "    input_list=np.arange(feature_num)\n",
    "    input_set = set(input_list)\n",
    "    result_tuples = []\n",
    "\n",
    "    \n",
    "    for i in combinations_with_replacement(input_list, max_num):\n",
    "        list1 = list(i) # 1 features\n",
    "        set_temp1=set(list1)\n",
    "        set2= input_list#list(input_set-set(i)) # 0 features  #### either enable or disable selecting a feature as both 0 and 1 # input_set\n",
    "        for j in combinations_with_replacement(set2, d-max_num):\n",
    "            list2 = list(j)  # 0 features\n",
    "            set_temp2=set(list2)\n",
    "            \n",
    "            result_tuples.append((list1, list2))\n",
    "    \n",
    "    return result_tuples\n",
    "\n",
    "def find_all_bags_fixed_feature(feature_num,leaf,d,fixed_feature_info):\n",
    "    \"\"\"\n",
    "    takes number of features and returns all possible bag combinations\n",
    "    includes repeats\n",
    "    uses the fixed feature (given in a list of tuples)\n",
    "    \"\"\"\n",
    "    # we have to not use the features above!\n",
    "    \n",
    "    split_values=get_split_values(leaf,d)\n",
    "    #dont_use=set(fixed_feature_info[fixed_feature_info[:,-1]==0][:,1].tolist()) # get non-used features for splits\n",
    "    fixed_all=fixed_feature_info[fixed_feature_info[:,-1]==1].tolist() # get the fixed features\n",
    "\n",
    "    input_list=np.arange(feature_num)\n",
    "    input_set = set(input_list)#s-dont_use\n",
    "    \n",
    "    result_tuples = []\n",
    "    \n",
    "    for condition in set(get_split_values(leaf,d).astype(int)):\n",
    "\n",
    "        fixed_pattern_template=([],[])\n",
    "        counters=[0,0]\n",
    "    \n",
    "\n",
    "        for fixed in fixed_all:\n",
    "            feature=fixed[0]\n",
    "            #w_index=fixed[0]\n",
    "            #depth_affected=w_indices.index(w_index)\n",
    "            #condition= get_split_values(leaf,d).astype(int)[depth_affected]\n",
    "            fixed_pattern_template[1-condition].append(feature)\n",
    "            counters[1-condition]+=1\n",
    "            max_num=int(np.sum(split_values))-counters[0]\n",
    "\n",
    "            # for every possible split use case!\n",
    "            for i in combinations_with_replacement(input_set, max_num):\n",
    "                list1 = list(i) # 1 features\n",
    "                set_temp1=set(list1)\n",
    "                set2= input_set#list(input_set-set(i)) # 0 features  #### either enable or disable selecting a feature as both 0 and 1 # input_set\n",
    "                for j in combinations_with_replacement(set2, d-max_num-sum(counters)):\n",
    "                    list2 = list(j)  # 0 features\n",
    "                    set_temp2=set(list2)\n",
    "                    result_tuples.append((list1+fixed_pattern_template[0], list2+fixed_pattern_template[1])) # add the fixed feature\n",
    "    \n",
    "    return result_tuples\n",
    "\n",
    "def find_all_repeating_bags(feature_num,leaf,d):\n",
    "    \"\"\"\n",
    "    takes number of features and returns all possible bag combinations\n",
    "    includes repeats\n",
    "    \"\"\"\n",
    "    split_values=get_split_values(leaf,d)\n",
    "    max_num=int(np.sum(split_values))\n",
    "    input_list=np.arange(feature_num)\n",
    "    input_set = set(input_list)\n",
    "    result_tuples = []\n",
    "\n",
    "    \n",
    "    for i in combinations_with_replacement(input_list, max_num):\n",
    "        list1 = list(i) # 1 features\n",
    "        set2 = input_set #list(input_set-set(i)) # 0 features\n",
    "        set_temp1=set(list1)\n",
    "    \n",
    "            \n",
    "\n",
    "        for j in combinations_with_replacement(set2, d-max_num):\n",
    "            list2 = list(j)  # 0 features\n",
    "            set_temp2=set(list2)\n",
    "\n",
    "            if (len(set_temp1)!=len(list1) or len(set_temp2)!=len(list2)) or len(set_temp1.intersection(set_temp2)) >0: #and len(set_temp1.intersection(set_temp2)) ==0: ### for prohibiting invalid patterns #\n",
    "                ## repeating check and valid check\n",
    "                result_tuples.append((list1, list2))\n",
    "\n",
    "\n",
    "\n",
    "    \n",
    "    return result_tuples\n",
    "\n",
    "#Cythonized version exists\n",
    "\"\"\"\n",
    "def get_miss_bag(pattern_bag,leaf,x,y_k):\n",
    "    # pattern_bag includes a tuple of lists\n",
    "    global d\n",
    "    splits=1-get_split_values(leaf,d).astype(int)\n",
    "\n",
    "    pattern=[] #[0] \n",
    "\n",
    "    counter=np.zeros(2,dtype=np.int32)\n",
    "    #[[0, 0], []]\n",
    "    for split_condition in splits:\n",
    "        try:\n",
    "            pattern.append(pattern_bag[split_condition][counter[split_condition]])\n",
    "            counter[split_condition]+=1\n",
    "        except: # a feature is repeated for branching\n",
    "            pattern.append(pattern_bag[split_condition][counter[split_condition]-1])\n",
    "        \n",
    "  \n",
    "    return get_misclassification(x, y_k, np.array(pattern,dtype=np.int32), leaf)\n",
    "\"\"\"\n",
    "# Define a custom sorting key\n",
    "def custom_sort(item):\n",
    "    return (len(item[0]), len(item[1]))\n",
    "\n",
    "\n",
    "def get_shuffle_indices(n):\n",
    "    arr=np.arange(0,n)\n",
    "    np.random.shuffle(arr)\n",
    "    return arr\n",
    "\n",
    "def split_into_batches(data_x,data_y, n):\n",
    "    global indices\n",
    "    global batch_sizes\n",
    "    batch_size = len(data) // n\n",
    "    remainder = len(data) % n\n",
    "\n",
    "    start_idx = 0\n",
    "    batch_sizes=[]\n",
    "    for i in range(n):\n",
    "        batch_end = start_idx + batch_size + (1 if i < remainder else 0)\n",
    "        batch_sizes.append(batch_end-start_idx)\n",
    "        yield data_x[indices[start_idx:batch_end]],data_y[indices[start_idx:batch_end]]\n",
    "        start_idx = batch_end\n",
    "        "
   ]
  },
  {
   "cell_type": "markdown",
   "metadata": {},
   "source": [
    "## Branching for Pricing Problems Using Beam Search"
   ]
  },
  {
   "cell_type": "markdown",
   "metadata": {},
   "source": [
    "## Initial Patterns List"
   ]
  },
  {
   "cell_type": "markdown",
   "metadata": {},
   "source": [
    "empty patterns should be detected"
   ]
  },
  {
   "cell_type": "markdown",
   "metadata": {},
   "source": [
    "list of all patterns that are valid"
   ]
  },
  {
   "cell_type": "code",
   "execution_count": 11,
   "metadata": {},
   "outputs": [],
   "source": [
    "#### generate all tuples and randomly add to the initial set\n",
    "###### NEW PATTERN DEFINITION ####\n",
    "np.random.seed(42)# set seed (also restart seed!)\n",
    "\n",
    "### add one level splits!\n",
    "#### store the set of all patterns\n",
    "# Sort the couples list using the custom key\n",
    "all_patterns_list=[find_all_bags(p,leaf,d) for leaf in range(2**d)]\n",
    "all_patterns_list_sorted=[sorted(all_patterns_list[leaf], key=custom_sort) for leaf in range(2**d)]\n",
    "all_repeating_patterns_list=[find_all_repeating_bags(p,leaf,d) for leaf in range(2**d)] # ensure repeats\n",
    "\n",
    "_=[np.random.shuffle(all_repeating_patterns_list[leaf])for leaf in range(2**d)]\n",
    "pattern_list= [all_repeating_patterns_list[leaf][:len(all_patterns_list[leaf])//10**(d-1)] for leaf in range(2**d)] # add a fraction of repeating patterns\n",
    "\n",
    "_=[np.random.shuffle(all_patterns_list[leaf])for leaf in range(2**d)]\n",
    "_=[pattern_list[leaf].extend(all_patterns_list[leaf][:len(all_patterns_list[leaf])//10**(d-1)]) for leaf in range(2**d)]\n"
   ]
  },
  {
   "cell_type": "code",
   "execution_count": 12,
   "metadata": {},
   "outputs": [],
   "source": [
    "num_patterns_initial=np.sum([len(pattern_list[i]) for i in range(2**d)])\n",
    "num_patterns_all=np.sum([len(all_patterns_list[i]) for i in range(2**d)])"
   ]
  },
  {
   "cell_type": "code",
   "execution_count": 13,
   "metadata": {},
   "outputs": [
    {
     "name": "stdout",
     "output_type": "stream",
     "text": [
      "Number of all valid patterns: 2054\n"
     ]
    }
   ],
   "source": [
    "print('Number of all valid patterns:',num_patterns_all)"
   ]
  },
  {
   "cell_type": "code",
   "execution_count": 14,
   "metadata": {},
   "outputs": [
    {
     "name": "stdout",
     "output_type": "stream",
     "text": [
      "pattern_list: [[([8, 8], []), ([16, 16], []), ([0, 0], []), ([24, 24], []), ([11, 11], []), ([9, 9], []), ([13, 13], []), ([1, 1], []), ([23, 23], []), ([5, 5], []), ([2, 2], []), ([12, 12], []), ([15, 15], []), ([3, 3], []), ([4, 4], []), ([21, 21], []), ([17, 17], []), ([22, 22], []), ([18, 18], []), ([25, 25], []), ([20, 20], []), ([7, 7], []), ([10, 10], []), ([14, 14], []), ([19, 19], []), ([6, 6], []), ([16, 23], []), ([1, 14], []), ([21, 25], []), ([10, 13], []), ([6, 20], []), ([9, 10], []), ([7, 18], []), ([4, 7], []), ([3, 16], []), ([1, 5], []), ([2, 23], []), ([7, 14], []), ([5, 25], []), ([2, 15], []), ([8, 18], []), ([2, 6], []), ([15, 24], []), ([14, 25], []), ([20, 20], []), ([3, 10], []), ([3, 5], []), ([5, 17], []), ([10, 22], []), ([4, 23], []), ([10, 15], []), ([17, 19], []), ([3, 7], []), ([5, 6], []), ([0, 9], []), ([14, 16], []), ([4, 11], []), ([12, 14], []), ([2, 9], []), ([4, 19], []), ([2, 22], [])], [([18], [18]), ([10], [10]), ([7], [7]), ([12], [12]), ([24], [24]), ([5], [5]), ([17], [17]), ([0], [0]), ([3], [3]), ([1], [1]), ([13], [13]), ([8], [8]), ([20], [20]), ([6], [6]), ([22], [22]), ([4], [4]), ([2], [2]), ([23], [23]), ([19], [19]), ([14], [14]), ([15], [15]), ([9], [9]), ([16], [16]), ([25], [25]), ([21], [21]), ([11], [11]), ([6], [2]), ([10], [9]), ([11], [5]), ([20], [18]), ([14], [3]), ([6], [1]), ([4], [24]), ([2], [4]), ([17], [6]), ([16], [6]), ([13], [17]), ([3], [9]), ([6], [4]), ([4], [11]), ([24], [22]), ([19], [3]), ([17], [5]), ([10], [3]), ([22], [5]), ([23], [5]), ([15], [10]), ([24], [19]), ([3], [8]), ([22], [1]), ([18], [14]), ([1], [18]), ([10], [8]), ([11], [6]), ([10], [17]), ([18], [20]), ([4], [15]), ([12], [6]), ([9], [10]), ([21], [12]), ([16], [13]), ([0], [23]), ([13], [24]), ([12], [1]), ([5], [17]), ([19], [20]), ([23], [0]), ([13], [4]), ([3], [18]), ([18], [12]), ([0], [1]), ([4], [5]), ([11], [12]), ([9], [9]), ([17], [11]), ([13], [5]), ([25], [15]), ([12], [19]), ([3], [23]), ([7], [16]), ([1], [0]), ([13], [23]), ([3], [25]), ([9], [8]), ([7], [17]), ([23], [23]), ([17], [19]), ([4], [23]), ([1], [25]), ([4], [18]), ([21], [16]), ([2], [18]), ([14], [13])], [([15], [15]), ([21], [21]), ([12], [12]), ([17], [17]), ([4], [4]), ([8], [8]), ([25], [25]), ([10], [10]), ([9], [9]), ([5], [5]), ([16], [16]), ([18], [18]), ([23], [23]), ([24], [24]), ([3], [3]), ([0], [0]), ([13], [13]), ([2], [2]), ([22], [22]), ([7], [7]), ([11], [11]), ([6], [6]), ([14], [14]), ([19], [19]), ([1], [1]), ([20], [20]), ([7], [1]), ([25], [8]), ([20], [12]), ([18], [5]), ([25], [16]), ([7], [13]), ([17], [23]), ([6], [10]), ([8], [12]), ([18], [20]), ([23], [0]), ([10], [4]), ([5], [1]), ([12], [3]), ([11], [19]), ([14], [14]), ([2], [13]), ([15], [9]), ([9], [23]), ([19], [2]), ([1], [16]), ([15], [24]), ([5], [4]), ([0], [9]), ([14], [18]), ([3], [4]), ([11], [12]), ([17], [6]), ([13], [13]), ([25], [21]), ([6], [0]), ([21], [5]), ([3], [15]), ([12], [23]), ([16], [24]), ([5], [5]), ([25], [3]), ([24], [22]), ([19], [12]), ([23], [6]), ([12], [7]), ([20], [4]), ([24], [25]), ([14], [12]), ([9], [7]), ([23], [19]), ([24], [0]), ([1], [3]), ([18], [11]), ([8], [24]), ([22], [18]), ([4], [16]), ([8], [16]), ([17], [17]), ([4], [5]), ([8], [4]), ([19], [22]), ([12], [12]), ([19], [8]), ([11], [3]), ([9], [22]), ([12], [6]), ([7], [9]), ([8], [5]), ([16], [6]), ([16], [11]), ([21], [3])], [([], [17, 17]), ([], [22, 22]), ([], [2, 2]), ([], [5, 5]), ([], [0, 0]), ([], [25, 25]), ([], [6, 6]), ([], [19, 19]), ([], [10, 10]), ([], [8, 8]), ([], [23, 23]), ([], [16, 16]), ([], [20, 20]), ([], [24, 24]), ([], [12, 12]), ([], [4, 4]), ([], [18, 18]), ([], [21, 21]), ([], [7, 7]), ([], [14, 14]), ([], [15, 15]), ([], [13, 13]), ([], [3, 3]), ([], [9, 9]), ([], [1, 1]), ([], [11, 11]), ([], [3, 6]), ([], [4, 9]), ([], [3, 19]), ([], [9, 9]), ([], [20, 20]), ([], [4, 14]), ([], [13, 17]), ([], [13, 25]), ([], [2, 11]), ([], [15, 21]), ([], [1, 16]), ([], [3, 18]), ([], [13, 22]), ([], [5, 16]), ([], [13, 13]), ([], [2, 8]), ([], [2, 17]), ([], [7, 25]), ([], [12, 12]), ([], [4, 8]), ([], [1, 6]), ([], [9, 20]), ([], [20, 22]), ([], [1, 25]), ([], [12, 17]), ([], [6, 10]), ([], [0, 16]), ([], [14, 19]), ([], [13, 23]), ([], [1, 4]), ([], [7, 19]), ([], [10, 21]), ([], [9, 16]), ([], [6, 22]), ([], [7, 12])]]\n"
     ]
    }
   ],
   "source": [
    "print(\"pattern_list:\",pattern_list)"
   ]
  },
  {
   "cell_type": "code",
   "execution_count": 15,
   "metadata": {},
   "outputs": [],
   "source": [
    "### instance log\n",
    "relpath=\"./Datasets/\"+dataset+\"/fold=\"+str(fold)\n",
    "filename=relpath+'_instance_log_'+str(d)+'.txt'\n",
    "with open(filename, 'w') as file:\n",
    "    K = list(data.y.unique())\n",
    "    texts=[str(n),str(p),str(num_patterns_all),str(len(K))]\n",
    "    separator = \",\"\n",
    "    data = separator.join(texts)\n",
    "    file.write(data)"
   ]
  },
  {
   "cell_type": "markdown",
   "metadata": {},
   "source": [
    "All Patterns"
   ]
  },
  {
   "cell_type": "markdown",
   "metadata": {},
   "source": [
    "## Master Problem"
   ]
  },
  {
   "cell_type": "code",
   "execution_count": 16,
   "metadata": {},
   "outputs": [],
   "source": [
    "def solve_partial_OCT_IP_matrix(pattern_list, x, y_k, d,p):\n",
    "    global n\n",
    "    global epsilon\n",
    "    global cons_time\n",
    "    timer_start=time.time()\n",
    "    ### Baseline model\n",
    "    ## the W variables coefficients will be filled before column generation\n",
    "    cons_basis= get_w_columns(d,p)\n",
    "    \n",
    "    \n",
    "    ### get A matrix ###\n",
    "    columns = [cons_basis]\n",
    "    _ = [\n",
    "        [columns.append(get_column(leaf,d, pattern, p)) for leaf in range(len(pattern_list)) for pattern in pattern_list[leaf]]    \n",
    "    ] # null list to hide extend output\n",
    "\n",
    "    miss_and_count=[get_misclassification_bag(x, y_k, pattern_bag, leaf) for leaf in np.arange(len(pattern_list),dtype=np.int32) for pattern_bag in pattern_list[leaf]]\n",
    "    \n",
    "    ### MISSS function change here\n",
    "    \n",
    "    A= np.concatenate(columns,axis=1)\n",
    "\n",
    "\n",
    "    ### get b ###\n",
    "    b = np.concatenate([np.ones(len(pattern_list)),np.zeros(len(A)-len(pattern_list)-2*len(sensitive_features)),np.ones(2*len(sensitive_features))*epsilon]) # RHS\n",
    "    \n",
    "    ### get c ###\n",
    "\n",
    "    c=np.array([miss_and_count[i][0]/n for i in range(len(miss_and_count))])\n",
    "    c=np.concatenate([np.zeros(cons_basis.shape[1]),c]) ### add 0 obj for w\n",
    "    \n",
    "    ### build model ###\n",
    "\n",
    "    mp = Model('MasterProblemLP')\n",
    "    #mp.setParam('OutputFlag', 0)\n",
    "    \n",
    "    mp.setParam('TimeLimit', 10800)\n",
    "\n",
    "    # add as many variables as the number of patterns\n",
    "    mp.addMVar(A.shape[1]-len(miss_and_count), vtype=GRB.BINARY,name='w') \n",
    "    mp.addMVar(len(miss_and_count), vtype=GRB.BINARY,name='pattern') \n",
    "    signs=['=',]*(len(A)-2*len(sensitive_features)) + ['<']*(2*len(sensitive_features)) # fairness signs\n",
    "    mp.addMConstr(A, None, signs , b) # change here as well\n",
    "\n",
    "    #sp.setMObjective(None,c_new,0,None,None,None,GRB.MAXIMIZE)\n",
    "    mp.setMObjective(None, c, 0.0, xQ_L=None, xQ_R=None, xc=None, sense=GRB.MINIMIZE )\n",
    "\n",
    "    timer_end=time.time()\n",
    "    cons_time=timer_end-timer_start\n",
    "\n",
    "    timer_start=time.time()\n",
    "    mp.optimize()\n",
    "    timer_end=time.time()\n",
    "    return mp, A, b, c,timer_end-timer_start\n",
    "\n",
    "def solve_partial_OCT_matrix(pattern_list, x, y_k, d,p):\n",
    "    global n\n",
    "    \n",
    "    ### Baseline model\n",
    "    ## the W variables coefficients will be filled before column generation\n",
    "    cons_basis= get_w_columns(d,p)\n",
    "    \n",
    "    \n",
    "    ### get A matrix ###\n",
    "    columns = [cons_basis]\n",
    "    _ = [\n",
    "        [columns.append(get_column(leaf,d, pattern, p)) for leaf in range(len(pattern_list)) for pattern in pattern_list[leaf]]    \n",
    "    ] # null list to hide extend output\n",
    "\n",
    "    miss_and_count=[get_misclassification_bag(x, y_k, pattern_bag, leaf) for leaf in np.arange(len(pattern_list),dtype=np.int32) for pattern_bag in pattern_list[leaf]]\n",
    "    \n",
    "    ### MISSS function change here\n",
    "    \n",
    "    A= np.concatenate(columns,axis=1)\n",
    "\n",
    "\n",
    "    ### get b ###\n",
    "    b = np.concatenate([np.ones(len(pattern_list)),np.zeros(len(A)-len(pattern_list)-2),np.ones(2*len(sensitive_features))*epsilon]) # RHS\n",
    "    \n",
    "    ### get c ###\n",
    "\n",
    "    c=np.array([miss_and_count[i][0]/n for i in range(len(miss_and_count))])\n",
    "    c=np.concatenate([np.zeros(cons_basis.shape[1]),c]) ### add 0 obj for w\n",
    "    \n",
    "    ### build model ###\n",
    "\n",
    "    mp = Model('MasterProblemLP')\n",
    "    mp.setParam('OutputFlag', 0)\n",
    "    \n",
    "    # add as many variables as the number of patterns\n",
    "    mp.addMVar(A.shape[1]-len(miss_and_count), vtype=GRB.CONTINUOUS,name='w',lb=0) \n",
    "    mp.addMVar(len(miss_and_count), vtype=GRB.CONTINUOUS,name='pattern',lb=0) \n",
    "\n",
    "    signs=['=',]*(len(A)-2) + ['<']*2 # fairness signs\n",
    "    mp.addMConstr(A, None, signs , b)\n",
    "\n",
    "    #sp.setMObjective(None,c_new,0,None,None,None,GRB.MAXIMIZE)\n",
    "    mp.setMObjective(None, c, 0.0, xQ_L=None, xQ_R=None, xc=None, sense=GRB.MINIMIZE )\n",
    "    mp.optimize()\n",
    "\n",
    "    return mp, A, b, c\n",
    "\n",
    "\n",
    "\n",
    "\n",
    "def dual_partial_OCT_matrix(A,b,c):\n",
    "    ### build model ###\n",
    "    dual_mp=Model('Dual')\n",
    "\n",
    "    dual_mp.setParam('OutputFlag', 0)\n",
    "    \n",
    "    # add as many variables as the number of constraints\n",
    "    dual_mp.addMVar(A.shape[0], vtype=GRB.CONTINUOUS,ub=GRB.INFINITY,lb=-GRB.INFINITY,name='pattern') \n",
    "\n",
    "    dual_mp.addMConstr(A.T, None, '<' , c)\n",
    "\n",
    "    #sp.setMObjective(None,c_new,0,None,None,None,GRB.MAXIMIZE)\n",
    "    dual_mp.setMObjective(None, b, 0.0, xQ_L=None, xQ_R=None, xc=None, sense=GRB.MAXIMIZE )\n",
    "    dual_mp.optimize()\n",
    "\n",
    "    return dual_mp\n",
    "\n",
    "\n"
   ]
  },
  {
   "cell_type": "code",
   "execution_count": 17,
   "metadata": {},
   "outputs": [],
   "source": [
    "#m,A,b,c=solve_partial_OCT_matrix(all_patterns_list, x, y_k, d,p)"
   ]
  },
  {
   "cell_type": "code",
   "execution_count": 18,
   "metadata": {},
   "outputs": [],
   "source": [
    "#m.objval"
   ]
  },
  {
   "cell_type": "code",
   "execution_count": 19,
   "metadata": {},
   "outputs": [],
   "source": [
    "#m,A,b,c,_=solve_partial_OCT_IP_matrix(all_patterns_list, x, y_k, d,p)"
   ]
  },
  {
   "cell_type": "code",
   "execution_count": 20,
   "metadata": {},
   "outputs": [],
   "source": [
    "#m.ObjVal"
   ]
  },
  {
   "cell_type": "code",
   "execution_count": 21,
   "metadata": {},
   "outputs": [],
   "source": [
    "#m.Runtime"
   ]
  },
  {
   "cell_type": "code",
   "execution_count": 22,
   "metadata": {},
   "outputs": [],
   "source": [
    "def printIPVars(IP_model):\n",
    "    # Print non-zero decision variables, HERE BOTH PATTERN NUMBER AND LEAF NUMBER STARTS FROM 0\n",
    "    pattern_counter=[0,]*(2**(d))\n",
    "    leaf_pointer_array=IP_model.getA()[:2**(d)].toarray()\n",
    "    for i, var in enumerate(IP_model.X):\n",
    "            leaf=np.where((leaf_pointer_array[:,i]==1))[0][0]    \n",
    "            if var > 0:\n",
    "                index= pattern_counter[leaf]\n",
    "                print(f'Leaf {leaf+1} pattern {index+ 1}: {var}')\n",
    "                print('pattern:',all_patterns_list[leaf][index])\n",
    "            pattern_counter[leaf]+=1 #update index"
   ]
  },
  {
   "cell_type": "code",
   "execution_count": 23,
   "metadata": {},
   "outputs": [],
   "source": [
    "#list_unraveled=[]\n",
    "#_=[list_unraveled.extend(all_patterns_list[l]) for l in range(2**d)]\n",
    "#indices=np.where(np.array(m.X)[(2**d-1)*p:])[0]\n",
    "#for i in indices:\n",
    "#    print(list_unraveled[i])"
   ]
  },
  {
   "cell_type": "markdown",
   "metadata": {},
   "source": [
    "## CART "
   ]
  },
  {
   "cell_type": "code",
   "execution_count": 24,
   "metadata": {},
   "outputs": [],
   "source": [
    "# Function to recursively extract split features\n",
    "def extract_split_features(d,tree_structure,leaf):\n",
    "    \"\"\"\n",
    "    Node: 0,1,2,...2**d-1\n",
    "    \"\"\"\n",
    "    empty_pattern=tuple([[] for _ in range(2)])\n",
    "    nodes=get_w_indices(2**d-leaf-1) # we are doing this because CART builder assumes right splits are postive and left are negative\n",
    "    splits=get_split_values(leaf,d).astype(int)\n",
    "    tree_features=tree_structure.feature[tree_structure.feature>=0]\n",
    "    for node in nodes:\n",
    "        feature_new = tree_features[node] if node<len(tree_features) else -1\n",
    "        level=0#(node+1)//(2**(d-1))\n",
    "        flag=node in np.arange(2**level-1,2**(level+1)-1).tolist()\n",
    "        while not flag:\n",
    "            level+=1\n",
    "            flag=node in np.arange(2**level-1,2**(level+1)-1).tolist()\n",
    "            \n",
    "        empty_pattern[1-splits[level]].append(feature_new) if feature_new >=0 else empty_pattern[1-splits[level]].append(feature_old)\n",
    "        feature_old=feature_new # store this split\n",
    "    \n",
    "    return empty_pattern\n"
   ]
  },
  {
   "cell_type": "code",
   "execution_count": 25,
   "metadata": {},
   "outputs": [
    {
     "name": "stdout",
     "output_type": "stream",
     "text": [
      "CART Miss: 0.23756858710562412\n"
     ]
    }
   ],
   "source": [
    "import pandas as pd\n",
    "import numpy as np\n",
    "from sklearn import tree\n",
    "from sklearn.metrics import accuracy_score,confusion_matrix\n",
    "clf = tree.DecisionTreeClassifier(max_depth=d)\n",
    "clf = clf.fit(x, y)\n",
    "prediction = clf.predict(x)\n",
    "cart_acc=1-accuracy_score(y,prediction)\n",
    "print('CART Miss:',cart_acc)"
   ]
  },
  {
   "cell_type": "code",
   "execution_count": 26,
   "metadata": {},
   "outputs": [
    {
     "name": "stdout",
     "output_type": "stream",
     "text": [
      "CART Result\n"
     ]
    },
    {
     "data": {
      "text/plain": [
       "[Text(0.6, 0.8333333333333334, 'x[23] <= 0.5\\ngini = 0.682\\nsamples = 11664\\nvalue = [3888.0, 3840.0, 1.0, 3640.0, 295.0]'),\n",
       " Text(0.4, 0.5, 'x[8] <= 0.5\\ngini = 0.536\\nsamples = 7776\\nvalue = [0, 3840, 1, 3640, 295]'),\n",
       " Text(0.5, 0.6666666666666667, 'True  '),\n",
       " Text(0.2, 0.16666666666666666, 'gini = 0.52\\nsamples = 6237\\nvalue = [0, 3653, 1, 2288, 295]'),\n",
       " Text(0.6, 0.16666666666666666, 'gini = 0.213\\nsamples = 1539\\nvalue = [0, 187, 0, 1352, 0]'),\n",
       " Text(0.8, 0.5, 'gini = 0.0\\nsamples = 3888\\nvalue = [3888, 0, 0, 0, 0]'),\n",
       " Text(0.7, 0.6666666666666667, '  False')]"
      ]
     },
     "execution_count": 26,
     "metadata": {},
     "output_type": "execute_result"
    },
    {
     "data": {
      "image/png": "[encoded data removed]",
      "text/plain": [
       "<Figure size 640x480 with 1 Axes>"
      ]
     },
     "metadata": {},
     "output_type": "display_data"
    }
   ],
   "source": [
    "print('CART Result')\n",
    "tree.plot_tree(clf)"
   ]
  },
  {
   "cell_type": "code",
   "execution_count": 27,
   "metadata": {},
   "outputs": [],
   "source": [
    "## store incumbent CART patterns\n",
    "inc_patterns_CART=[[extract_split_features(d,clf.tree_,leaf)] for leaf in range(2**d)]"
   ]
  },
  {
   "cell_type": "code",
   "execution_count": 28,
   "metadata": {},
   "outputs": [],
   "source": [
    "## add cart patterns to assoc. pattern list\n",
    "_=[pattern_list[l].append(inc_patterns_CART[l][0]) for l in range(2**d)]\n",
    "_=[all_patterns_list[l].append(inc_patterns_CART[l][0]) for l in range(2**d)]"
   ]
  },
  {
   "cell_type": "code",
   "execution_count": 29,
   "metadata": {},
   "outputs": [],
   "source": [
    "from itertools import combinations_with_replacement"
   ]
  },
  {
   "cell_type": "markdown",
   "metadata": {},
   "source": [
    "## Solve the IP model"
   ]
  },
  {
   "cell_type": "code",
   "execution_count": 30,
   "metadata": {},
   "outputs": [
    {
     "name": "stdout",
     "output_type": "stream",
     "text": [
      "Solving IP Model\n",
      "Set parameter Username\n",
      "Academic license - for non-commercial use only - expires 2025-08-26\n",
      "Set parameter TimeLimit to value 10800\n",
      "Gurobi Optimizer version 11.0.3 build v11.0.3rc0 (mac64[arm] - Darwin 24.2.0 24C101)\n",
      "\n",
      "CPU model: Apple M3 Pro\n",
      "Thread count: 11 physical cores, 11 logical processors, using up to 11 threads\n",
      "\n",
      "Optimize a model with 214 rows, 2136 columns and 10131 nonzeros\n",
      "Model fingerprint: 0x6e35a38a\n",
      "Variable types: 0 continuous, 2136 integer (2136 binary)\n",
      "Coefficient statistics:\n",
      "  Matrix range     [2e-02, 2e+00]\n",
      "  Objective range  [8e-04, 5e-01]\n",
      "  Bounds range     [1e+00, 1e+00]\n",
      "  RHS range        [1e+00, 1e+00]\n",
      "Presolve removed 53 rows and 4 columns\n",
      "Presolve time: 0.01s\n",
      "Presolved: 161 rows, 2132 columns, 6917 nonzeros\n",
      "Variable types: 0 continuous, 2132 integer (2132 binary)\n",
      "Found heuristic solution: objective 0.2904664\n",
      "\n",
      "Root relaxation: objective 0.000000e+00, 30 iterations, 0.00 seconds (0.00 work units)\n",
      "\n",
      "    Nodes    |    Current Node    |     Objective Bounds      |     Work\n",
      " Expl Unexpl |  Obj  Depth IntInf | Incumbent    BestBd   Gap | It/Node Time\n",
      "\n",
      "     0     0    0.00000    0   10    0.29047    0.00000   100%     -    0s\n",
      "     0     0    0.12440    0   24    0.29047    0.12440  57.2%     -    0s\n",
      "     0     0    0.13609    0   25    0.29047    0.13609  53.1%     -    0s\n",
      "     0     0    0.14163    0   24    0.29047    0.14163  51.2%     -    0s\n",
      "     0     0    0.14373    0   12    0.29047    0.14373  50.5%     -    0s\n",
      "     0     0    0.14378    0   12    0.29047    0.14378  50.5%     -    0s\n",
      "     0     0    0.14503    0   24    0.29047    0.14503  50.1%     -    0s\n",
      "     0     0    0.14523    0   10    0.29047    0.14523  50.0%     -    0s\n",
      "H    0     0                       0.2491427    0.14523  41.7%     -    0s\n",
      "     0     0    0.19654    0   19    0.24914    0.19654  21.1%     -    0s\n",
      "H    0     1                       0.2375686    0.19654  17.3%     -    0s\n",
      "\n",
      "Explored 1 nodes (279 simplex iterations) in 0.04 seconds (0.05 work units)\n",
      "Thread count was 11 (of 11 available processors)\n",
      "\n",
      "Solution count 3: 0.237569 0.249143 0.290466 \n",
      "\n",
      "Optimal solution found (tolerance 1.00e-04)\n",
      "Best objective 2.375685871056e-01, best bound 2.375685871056e-01, gap 0.0000%\n"
     ]
    }
   ],
   "source": [
    "print('Solving IP Model')\n",
    "IP_model=solve_partial_OCT_IP_matrix(all_patterns_list, x, y_k, d,p)"
   ]
  },
  {
   "cell_type": "code",
   "execution_count": 31,
   "metadata": {},
   "outputs": [],
   "source": [
    "def printIPVars(IP_model):\n",
    "    # Print non-zero decision variables, HERE BOTH PATTERN NUMBER AND LEAF NUMBER STARTS FROM 0\n",
    "    inc_patterns=[[] for leaf in range(2**d)]\n",
    "    pattern_counter=[0,]*(2**(d))\n",
    "    leaf_pointer_array=IP_model[0].getA()[:2**(d)].toarray()\n",
    "    for i, var in enumerate(IP_model[0].X[(2**d-1)*p:]):\n",
    "            leaf=np.where((leaf_pointer_array[:,(2**d-1)*p+i]==1))[0][0]    \n",
    "            if var > 0:\n",
    "                index= pattern_counter[leaf]\n",
    "                print(f'Leaf {leaf+1} pattern {index+ 1}: {var}')\n",
    "                print('pattern:',all_patterns_list[leaf][index])\n",
    "                inc_patterns[leaf].append(all_patterns_list[leaf][index])\n",
    "            pattern_counter[leaf]+=1 #update index\n",
    "    return inc_patterns\n",
    "\n",
    "def get_ODM(inc_patterns,d,x,y_k):\n",
    "    global sensitive_features\n",
    "    n= len(x)\n",
    "    ODM=0\n",
    "    for feature in sensitive_features:\n",
    "        ODM_feat_p=0\n",
    "        ODM_feat_m=0\n",
    "\n",
    "        for leaf in range(2**d):\n",
    "            info_sensitive, info_non_sensitive=get_misclassification_bag_sensitive(x, y_k, inc_patterns[leaf][0], leaf,[feature])\n",
    "            #sigma= info_sensitive[0]/info_sensitive[1] if info_sensitive[1]> 0 else 0   - info_non_sensitive[0]/info_non_sensitive[1]>0 if info_non_sensitive[1]>0 else 0\n",
    "            sigma= (info_sensitive[0] - info_non_sensitive[0])/(n)#/(info_sensitive[1]+info_non_sensitive[1]) if info_sensitive[1]+info_non_sensitive[1]> 0 else 0 \n",
    "            ODM_feat_p+=sigma\n",
    "            ODM_feat_m-=sigma\n",
    "        ODM=max(ODM,max(ODM_feat_p,ODM_feat_m))\n",
    "    return ODM\n",
    "\n",
    "def get_DCM(inc_patterns,d,x,y_k):\n",
    "    global sensitive_features\n",
    "    global K\n",
    "    DCM=0\n",
    "    \n",
    "    for classOfInterest in range(len(K)):\n",
    "        for feature in sensitive_features:\n",
    "                DCM_feat_class=0\n",
    "                for leaf in range(2**d):\n",
    "                    info_sensitive, info_non_sensitive=get_misclassification_bag_sensitive_class(x, y_k, inc_patterns[leaf][0], leaf,[feature],classOfInterest)\n",
    "                    #print(info_sensitive)\n",
    "                    #sigma= info_sensitive[0]/info_sensitive[1] if info_sensitive[1]> 0 else 0   - info_non_sensitive[0]/info_non_sensitive[1]>0 if info_non_sensitive[1]>0 else 0\n",
    "                    sigma= (info_sensitive[0] - info_non_sensitive[0])/np.sum(y_k[:,classOfInterest])#/(info_sensitive[1]+info_non_sensitive[1]) if info_sensitive[1]+info_non_sensitive[1]> 0 else 0 \n",
    "                    DCM_feat_class+=abs(sigma)\n",
    "                    #print(sigma)\n",
    "                DCM=max(DCM,DCM_feat_class)\n",
    "        return DCM"
   ]
  },
  {
   "cell_type": "code",
   "execution_count": 32,
   "metadata": {},
   "outputs": [
    {
     "name": "stdout",
     "output_type": "stream",
     "text": [
      "Leaf 1 pattern 134: 1.0\n",
      "pattern: ([8, 23], [])\n",
      "Leaf 2 pattern 228: 1.0\n",
      "pattern: ([8], [23])\n",
      "Leaf 3 pattern 320: 1.0\n",
      "pattern: ([23], [8])\n",
      "Leaf 4 pattern 51: 1.0\n",
      "pattern: ([], [8, 23])\n"
     ]
    }
   ],
   "source": [
    "inc_patterns_IP=printIPVars(IP_model)"
   ]
  },
  {
   "cell_type": "code",
   "execution_count": 33,
   "metadata": {},
   "outputs": [
    {
     "name": "stdout",
     "output_type": "stream",
     "text": [
      "IP Model Objective: 0.23756858710562415\n",
      "IP Model Optimization Time: 0.0414738655090332\n"
     ]
    }
   ],
   "source": [
    "print('IP Model Objective:', IP_model[0].objval)\n",
    "print('IP Model Optimization Time:',IP_model[-1])"
   ]
  },
  {
   "cell_type": "code",
   "execution_count": 34,
   "metadata": {},
   "outputs": [
    {
     "name": "stdout",
     "output_type": "stream",
     "text": [
      "IP Model Train ODM: 0.29183813443072704\n"
     ]
    }
   ],
   "source": [
    "IP_ODM=get_ODM(inc_patterns_IP,d,x,y_k)\n",
    "print('IP Model Train ODM:',IP_ODM)"
   ]
  },
  {
   "cell_type": "markdown",
   "metadata": {},
   "source": [
    "# Test Dataset"
   ]
  },
  {
   "cell_type": "code",
   "execution_count": 35,
   "metadata": {},
   "outputs": [],
   "source": [
    "relpath=\"./Datasets/\"+dataset+\"/fold=\"+str(fold)+\"_test.csv\"\n",
    "data = pd.read_csv(relpath)#pd.read_csv(\"./Datasets/fold=1_train.csv\")\n",
    "\n",
    "X = data.iloc[:,1:]\n",
    "y = data.iloc[:,:1]\n",
    "\n",
    "y_k = np.zeros((X.shape[0], len(K)))\n",
    "for k in range(len(K)):\n",
    "    y_k[np.where(y==K[k])[0],k] = 1\n",
    "\n",
    "y_k=y_k.astype(np.int32)\n",
    "x = np.array(X,dtype=np.int32)"
   ]
  },
  {
   "cell_type": "code",
   "execution_count": 36,
   "metadata": {},
   "outputs": [],
   "source": [
    "def get_tree_mis(inc_patterns,d,x,y_k):\n",
    "    miss=0\n",
    "    for leaf in range(2**d):\n",
    "        miss+=get_misclassification_bag(x, y_k, inc_patterns[leaf][0], leaf)[0]\n",
    "    return miss/len(x)\n"
   ]
  },
  {
   "cell_type": "code",
   "execution_count": 37,
   "metadata": {},
   "outputs": [],
   "source": [
    "miss_IP=get_tree_mis(inc_patterns_IP,d,x,y_k)\n",
    "IP_test_ODM=get_ODM(inc_patterns_IP,d,x,y_k)\n"
   ]
  },
  {
   "cell_type": "code",
   "execution_count": 38,
   "metadata": {},
   "outputs": [
    {
     "name": "stdout",
     "output_type": "stream",
     "text": [
      "IP Test Accuracy Score is: 0.7723765432098766\n"
     ]
    }
   ],
   "source": [
    "print('IP Test Accuracy Score is:', 1-miss_IP)"
   ]
  },
  {
   "cell_type": "code",
   "execution_count": 39,
   "metadata": {},
   "outputs": [],
   "source": [
    "#Training Accuracy\n",
    "#Test Accuracy\n",
    "#Time\n",
    "#Opt Gap"
   ]
  },
  {
   "cell_type": "code",
   "execution_count": 40,
   "metadata": {},
   "outputs": [
    {
     "name": "stdout",
     "output_type": "stream",
     "text": [
      "IP Model Objective: 0.23756858710562415\n",
      "IP Model Optimization Time: 0.0414738655090332\n"
     ]
    }
   ],
   "source": [
    "print('IP Model Objective:', IP_model[0].objval)\n",
    "print('IP Model Optimization Time:',IP_model[-1])"
   ]
  },
  {
   "cell_type": "code",
   "execution_count": 41,
   "metadata": {},
   "outputs": [],
   "source": [
    "res_MIP=np.array([epsilon,cons_time,IP_model[-1],1-IP_model[0].objval,IP_ODM,IP_model[0].MIPGap, 1-miss_IP,IP_test_ODM])\n",
    "labels=np.array(['Epsilon','Cons_Time','Time','Train Accuracy','Train ODM','Opt Gap','Test Accuracy', 'Test ODM'])"
   ]
  },
  {
   "cell_type": "code",
   "execution_count": 42,
   "metadata": {},
   "outputs": [],
   "source": [
    "res_final=np.vstack([labels,res_MIP])"
   ]
  },
  {
   "cell_type": "code",
   "execution_count": 43,
   "metadata": {},
   "outputs": [
    {
     "data": {
      "text/plain": [
       "array([['Epsilon', 'Cons_Time', 'Time', 'Train Accuracy', 'Train ODM',\n",
       "        'Opt Gap', 'Test Accuracy', 'Test ODM'],\n",
       "       ['1.0', '1.3160450458526611', '0.0414738655090332',\n",
       "        '0.7624314128943759', '0.29183813443072704', '0.0',\n",
       "        '0.7723765432098766', '0.3055555555555556']], dtype='<U32')"
      ]
     },
     "execution_count": 43,
     "metadata": {},
     "output_type": "execute_result"
    }
   ],
   "source": [
    "res_final"
   ]
  },
  {
   "cell_type": "code",
   "execution_count": 44,
   "metadata": {},
   "outputs": [],
   "source": [
    "# save results\n",
    "relpath=\"./Datasets/\"+dataset+\"/fold=\"+str(fold)\n",
    "np.savetxt(relpath+'_res_'+str(d)+'_Fairness_IP_Analysis_'+str(sensitive_features)+'_'+str(epsilon)+'.txt',res_final,fmt='%s',delimiter=',')"
   ]
  },
  {
   "cell_type": "code",
   "execution_count": 45,
   "metadata": {},
   "outputs": [],
   "source": [
    "import sys\n",
    "\n",
    "orig_stdout = sys.stdout\n",
    "f = open(relpath+'_DecisionRules_FairnessIP_'+str(d)+'.txt', 'w')\n",
    "sys.stdout = f\n",
    "\n",
    "print(inc_patterns_IP)\n",
    "\n",
    "sys.stdout = orig_stdout\n",
    "f.close()"
   ]
  }
 ],
 "metadata": {
  "kernelspec": {
   "display_name": "Python 3.8.13 ('Anaconda')",
   "language": "python",
   "name": "python3"
  },
  "language_info": {
   "codemirror_mode": {
    "name": "ipython",
    "version": 3
   },
   "file_extension": ".py",
   "mimetype": "text/x-python",
   "name": "python",
   "nbconvert_exporter": "python",
   "pygments_lexer": "ipython3",
   "version": "3.11.8"
  },
  "orig_nbformat": 4,
  "vscode": {
   "interpreter": {
    "hash": "f6f27239ee5173af89586d909bd5305cea6834bd56882853a6f24792033a6314"
   }
  }
 },
 "nbformat": 4,
 "nbformat_minor": 2
}
