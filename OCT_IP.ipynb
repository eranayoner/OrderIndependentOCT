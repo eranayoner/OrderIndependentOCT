{
 "cells": [
  {
   "cell_type": "code",
   "execution_count": 1,
   "metadata": {},
   "outputs": [],
   "source": [
    "# Parameters\n",
    "#fold=1\n",
    "#dataset='monks-1' \n",
    "#d = 2# depth"
   ]
  },
  {
   "cell_type": "markdown",
   "metadata": {},
   "source": [
    "## Create Cython Modules"
   ]
  },
  {
   "cell_type": "code",
   "execution_count": 2,
   "metadata": {},
   "outputs": [],
   "source": [
    "#!python setup.py build_ext --inplace"
   ]
  },
  {
   "cell_type": "code",
   "execution_count": 3,
   "metadata": {},
   "outputs": [],
   "source": [
    "from Pricing_Branching import PP_node, get_misclassification, get_split_values,get_misclassification_bag"
   ]
  },
  {
   "cell_type": "markdown",
   "metadata": {},
   "source": [
    "## Imports"
   ]
  },
  {
   "cell_type": "code",
   "execution_count": 4,
   "metadata": {},
   "outputs": [],
   "source": [
    "## imports\n",
    "import json\n",
    "import logging\n",
    "import pandas as pd\n",
    "# Define this directive to disable the deprecated NumPy API\n",
    "#define NPY_NO_DEPRECATED_API NPY_1_7_API_VERSION\n",
    "import numpy as np\n",
    "import copy\n",
    "from gurobipy import *\n",
    "import time\n",
    "from copy import deepcopy\n",
    "from sklearn import preprocessing as pre\n",
    "import warnings\n",
    "warnings.filterwarnings(\"ignore\", category=DeprecationWarning)\n",
    "import concurrent.futures\n",
    "from scipy.sparse import csr_matrix,hstack,vstack\n"
   ]
  },
  {
   "cell_type": "code",
   "execution_count": 5,
   "metadata": {},
   "outputs": [],
   "source": [
    "def print_iteration_separator():\n",
    "    separator_length = 50\n",
    "    separator_char = '*'\n",
    "\n",
    "    separator_line = separator_char * separator_length\n",
    "    print(separator_line)"
   ]
  },
  {
   "cell_type": "code",
   "execution_count": 6,
   "metadata": {},
   "outputs": [
    {
     "data": {
      "text/plain": [
       "array([ 203,  666,  533, ..., 1026, 1321,  287])"
      ]
     },
     "execution_count": 6,
     "metadata": {},
     "output_type": "execute_result"
    }
   ],
   "source": [
    "def get_shuffle_indices(n):\n",
    "    arr=np.arange(0,n)\n",
    "    np.random.shuffle(arr)\n",
    "    return arr\n",
    "\n",
    "def split_into_batches(data_x,data_y, n):\n",
    "    global indices\n",
    "    global batch_sizes\n",
    "    batch_size = len(data) // n\n",
    "    remainder = len(data) % n\n",
    "\n",
    "    start_idx = 0\n",
    "    batch_sizes=[]\n",
    "    for i in range(n):\n",
    "        batch_end = start_idx + batch_size + (1 if i < remainder else 0)\n",
    "        batch_sizes.append(batch_end-start_idx)\n",
    "        yield data_x[indices[start_idx:batch_end]],data_y[indices[start_idx:batch_end]]\n",
    "        start_idx = batch_end\n",
    "\n",
    "indices=get_shuffle_indices(2000)\n",
    "indices"
   ]
  },
  {
   "cell_type": "markdown",
   "metadata": {},
   "source": [
    "## Read Data"
   ]
  },
  {
   "cell_type": "code",
   "execution_count": 7,
   "metadata": {},
   "outputs": [],
   "source": [
    "\n",
    "relpath=\"./Datasets/\"+dataset+\"/fold=\"+str(fold)+\"_train.csv\"\n",
    "data = pd.read_csv(relpath)#pd.read_csv(\"./Datasets/fold=1_train.csv\")\n",
    "\n",
    "\n",
    "X = data.iloc[:,1:]\n",
    "y = data.iloc[:,:1]\n",
    "\n",
    "\n",
    "\n",
    "P = [i for i in range(data.shape[1]-1)]\n",
    "K = list(data.y.unique())\n",
    "k=len(K)\n",
    "\n",
    "min_bucket_leaf= 0 # minimum number of data that should fall under each leaf\n",
    "D = list(range(d))\n",
    "N = list(range(X.shape[0]))\n",
    "n = len(N)\n",
    "n_leaves = 2**d\n",
    "p = X.shape[1]\n",
    "\n",
    "y_k = np.zeros((X.shape[0], len(K)))\n",
    "for k in range(len(K)):\n",
    "    y_k[np.where(y==K[k])[0],k] = 1\n",
    "\n",
    "y_k=y_k.astype(np.int32)\n",
    "x = np.array(X,dtype=np.int32)\n",
    "y_arr=np.array(y,dtype=np.int32).flatten()-1"
   ]
  },
  {
   "cell_type": "markdown",
   "metadata": {},
   "source": [
    "## Parameter Generators"
   ]
  },
  {
   "cell_type": "code",
   "execution_count": 8,
   "metadata": {},
   "outputs": [],
   "source": [
    "\n",
    "#### transfer these to cython!    \n",
    "def get_alpha(pattern, j, level, split_values=None):\n",
    "    try:\n",
    "        if pattern[level] == j and split_values[level] == 1:\n",
    "            out = 1\n",
    "        else:\n",
    "            out = 0\n",
    "    except:\n",
    "        print(\"Incorrect pattern\")\n",
    "        print([pattern, j, level, split_values])\n",
    "        out = 0\n",
    "\n",
    "    return out\n",
    "\n",
    "def get_beta(pattern, j, level, split_values):\n",
    "    try:\n",
    "        if pattern[level] == j and split_values[level] == 0:\n",
    "            out = 1\n",
    "        else:\n",
    "            out = 0\n",
    "    except:\n",
    "        print([pattern, j, level, split_values])\n",
    "        print(\"Incorrect pattern\")\n",
    "        out = 0\n",
    "\n",
    "    return out\n",
    "\n",
    "\n",
    "#### transfer these to cython!    \n",
    "def get_alpha_beta(pattern, j, feature_split_condition):\n",
    "    \"\"\"\n",
    "    This function assumes that the pattern provided is a tuple of lists, with 0-split features being the second entry,\n",
    "    and 1-split features being the first entry. If the feature split condition matches the position of the feature,\n",
    "    the function returns one. \n",
    "    \"\"\"\n",
    "    try:\n",
    "        if j in pattern[1-feature_split_condition]:\n",
    "            out = pattern[1-feature_split_condition].count(j)\n",
    "        else:\n",
    "            out = 0\n",
    "    except:\n",
    "        print(\"Incorrect pattern\")\n",
    "        print([pattern, j, feature_split_condition])\n",
    "        out = 0\n",
    "\n",
    "    return out\n",
    "\n",
    "\n",
    "\n",
    "\n",
    "\n",
    "## return the solution of the tree:\n",
    "### WRITE CODE HERE###\n",
    "## column generator function\n",
    "def get_column(leaf,d,pattern,p):\n",
    "    \"\"\" \n",
    "    Gives the column associated with a certain pattern. The column vector will have length 2^d + (2^(d+1))*p\n",
    "    Establishes the leaf's connection with all cousins, by order of closeness of cousin degrees.\n",
    "    The connections at one level are formed for each cousin pair by iterating each feature. This procedure is continued for each level in which the\n",
    "    pair continues to be associated with each other.\n",
    "\n",
    "    \"\"\"\n",
    "\n",
    "    my_column=np.zeros(2**d)\n",
    "    my_column[leaf]=1\n",
    "    \n",
    "    cons_list=[my_column]\n",
    "    start=leaf*2*p\n",
    "    leaf_cons=np.zeros(2**(d+1)*p)\n",
    "    for feature in range(p):\n",
    "        for split_condition in range(2): # binary split tree\n",
    "            leaf_cons[start+2*feature+split_condition]=-1*get_alpha_beta(pattern,feature,1-split_condition)\n",
    "    cons_list.append(leaf_cons)\n",
    "    column=np.concatenate(cons_list,dtype=np.float16)\n",
    "\n",
    "    return(column.reshape(len(column),1)) # appropriate column shape\n",
    "\n",
    "def get_w_columns(d,p):\n",
    "    \"\"\"\n",
    "    Takes tree depth and number of features p to return the w columns always present in the model.\n",
    "    The returned array can be joined horizontally with the pattern constraints.\n",
    "    Cython version exists, but is not in use.\n",
    "s\n",
    "    \"\"\"\n",
    "    number_of_nodes= 2**(d)-1\n",
    "    len_w = number_of_nodes*p\n",
    "    len_cons=p*2**(d+1) ## binary splits\n",
    "    assignment_cons=np.zeros((2**d,len_w))\n",
    "    all_cons=[assignment_cons]\n",
    "    \n",
    "\n",
    "    for leaf in range(2**d):\n",
    "        \n",
    "\n",
    "        split_values=1-get_split_values(leaf,d).astype(int)\n",
    "        w_indices_for_leaf=[0]\n",
    "\n",
    "        ### obtain the leaf's association with split nodes\n",
    "        for d_temp in range(1,d):\n",
    "            values=np.arange(2**d_temp -1,2**d_temp -1 + 2**d_temp)\n",
    "            w_index=leaf//(2**(d-d_temp))\n",
    "            w_indices_for_leaf.append(values[w_index])\n",
    "\n",
    "\n",
    "        ### build the constraint set:\n",
    "        for feature_ in range(p):\n",
    "            feature_cons=[]\n",
    "            for node in range(number_of_nodes):\n",
    "                cons_temp=np.zeros((2,p))\n",
    "                if node in w_indices_for_leaf:\n",
    "                        index=w_indices_for_leaf.index(node)\n",
    "                        cons_temp[split_values[index],feature_]=1\n",
    "                feature_cons.append(cons_temp)\n",
    "\n",
    "            cons_leaf_feature=np.hstack(feature_cons)\n",
    "            all_cons.append(cons_leaf_feature)\n",
    "            \n",
    "\n",
    "    all_cons=np.vstack(all_cons)\n",
    "    \n",
    "    return all_cons   \n",
    "        \n",
    "        \n",
    "def get_w_indices(leaf):\n",
    "    \"\"\"\n",
    "    Cython version exists, but is not in use.\n",
    "    \"\"\"\n",
    "    # returns effected indices of each leaf\n",
    "    w_indices_for_leaf=[0]\n",
    "    ### obtain the leaf's association with split nodes\n",
    "    for d_temp in range(1,d):\n",
    "        values=np.arange(2**d_temp -1,2**d_temp -1 + 2**d_temp)\n",
    "        w_index=leaf//(2**(d-d_temp))\n",
    "        w_indices_for_leaf.append(values[w_index])\n",
    "\n",
    "    return w_indices_for_leaf\n",
    "\n",
    "def get_affected_leaves(node,w_indices_for_leaves):\n",
    "    \"\"\"\n",
    "    Cython version exists, but is not in use.\n",
    "    \"\"\"\n",
    "    affected_leaves=[]\n",
    "    ### obtain the leaf's association with split nodes\n",
    "\n",
    "    for leaf in range(len(w_indices_for_leaves)):\n",
    "        values=w_indices_for_leaves[leaf]\n",
    "        if node in values:\n",
    "            affected_leaves.append(leaf) \n",
    "\n",
    "    return affected_leaves\n",
    "\n",
    "def get_cousins(depth, leaf):\n",
    "    \"\"\"\n",
    "    returns a list of cousins ordered by their degree\n",
    "    \"\"\"\n",
    "    cousins=[[] for level in range(depth)]\n",
    "    cousins[depth-1]=[i for i in range(2**depth) if i!=leaf]\n",
    "    for i in range(depth-1,0,-1):\n",
    "        middle_split= leaf//2**(i)\n",
    "        cousins[i-1]=cousins[i][-(2**(i)-1):] if middle_split else cousins[i][:2**(i)-1] \n",
    "\n",
    "\n",
    "    return cousins\n",
    "\n",
    "\n",
    "\n",
    "def calculate_miss(x_tilde,y_tilde,j,RHS):\n",
    "    indices= x_tilde[:,j]==RHS\n",
    "    x_tilde_2= x_tilde[indices,:]\n",
    "    y_tilde_2= y_tilde[indices,:]\n",
    "    n_j= len(x_tilde_2)\n",
    "    count=np.sum(y_tilde_2,axis=0)\n",
    "    return n_j-np.max(count)\n",
    "\n",
    "def calculate_gini(x_tilde,y_tilde,j,RHS):\n",
    "    indices= x_tilde[:,j]==RHS\n",
    "    x_tilde_2= x_tilde[indices,:]\n",
    "    y_tilde_2= y_tilde[indices,:]\n",
    "    n_j= len(x_tilde_2) # number of data points\n",
    "    count=np.sum(y_tilde_2,axis=0) #number of ones and zeros\n",
    "    gini= 1-np.sum(np.square((count/n_j))) #1- sum(p^2) -- sum over classes\n",
    "    return gini\n",
    "\n",
    "from more_itertools import distinct_permutations\n",
    "from itertools import product,combinations,combinations_with_replacement\n",
    "\n",
    "\n",
    "\n",
    "def find_all_bags(feature_num,leaf,d):\n",
    "    \"\"\"\n",
    "    takes number of features and returns all possible bag combinations\n",
    "    includes repeats\n",
    "    \"\"\"\n",
    "    split_values=get_split_values(leaf,d)\n",
    "    max_num=int(np.sum(split_values))\n",
    "    input_list=np.arange(feature_num)\n",
    "    input_set = set(input_list)\n",
    "    result_tuples = []\n",
    "\n",
    "    \n",
    "    for i in combinations_with_replacement(input_list, max_num):\n",
    "        list1 = list(i) # 1 features\n",
    "        set_temp1=set(list1)\n",
    "        set2= input_list#list(input_set-set(i)) # 0 features  #### either enable or disable selecting a feature as both 0 and 1 # input_set\n",
    "        for j in combinations_with_replacement(set2, d-max_num):\n",
    "            list2 = list(j)  # 0 features\n",
    "            set_temp2=set(list2)\n",
    "            \n",
    "            result_tuples.append((list1, list2))\n",
    "    \n",
    "    return result_tuples\n",
    "\n",
    "def find_all_bags_fixed_feature(feature_num,leaf,d,fixed_feature_info):\n",
    "    \"\"\"\n",
    "    takes number of features and returns all possible bag combinations\n",
    "    includes repeats\n",
    "    uses the fixed feature (given in a list of tuples)\n",
    "    \"\"\"\n",
    "    # we have to not use the features above!\n",
    "    \n",
    "    split_values=get_split_values(leaf,d)\n",
    "    #dont_use=set(fixed_feature_info[fixed_feature_info[:,-1]==0][:,1].tolist()) # get non-used features for splits\n",
    "    fixed_all=fixed_feature_info[fixed_feature_info[:,-1]==1].tolist() # get the fixed features\n",
    "\n",
    "    input_list=np.arange(feature_num)\n",
    "    input_set = set(input_list)#s-dont_use\n",
    "    \n",
    "    result_tuples = []\n",
    "    \n",
    "    for condition in set(get_split_values(leaf,d).astype(int)):\n",
    "\n",
    "        fixed_pattern_template=([],[])\n",
    "        counters=[0,0]\n",
    "    \n",
    "\n",
    "        for fixed in fixed_all:\n",
    "            feature=fixed[0]\n",
    "            #w_index=fixed[0]\n",
    "            #depth_affected=w_indices.index(w_index)\n",
    "            #condition= get_split_values(leaf,d).astype(int)[depth_affected]\n",
    "            fixed_pattern_template[1-condition].append(feature)\n",
    "            counters[1-condition]+=1\n",
    "            max_num=int(np.sum(split_values))-counters[0]\n",
    "\n",
    "            # for every possible split use case!\n",
    "            for i in combinations_with_replacement(input_set, max_num):\n",
    "                list1 = list(i) # 1 features\n",
    "                set_temp1=set(list1)\n",
    "                set2= input_set#list(input_set-set(i)) # 0 features  #### either enable or disable selecting a feature as both 0 and 1 # input_set\n",
    "                for j in combinations_with_replacement(set2, d-max_num-sum(counters)):\n",
    "                    list2 = list(j)  # 0 features\n",
    "                    set_temp2=set(list2)\n",
    "                    result_tuples.append((list1+fixed_pattern_template[0], list2+fixed_pattern_template[1])) # add the fixed feature\n",
    "    \n",
    "    return result_tuples\n",
    "\n",
    "def find_all_repeating_bags(feature_num,leaf,d):\n",
    "    \"\"\"\n",
    "    takes number of features and returns all possible bag combinations\n",
    "    includes repeats\n",
    "    \"\"\"\n",
    "    split_values=get_split_values(leaf,d)\n",
    "    max_num=int(np.sum(split_values))\n",
    "    input_list=np.arange(feature_num)\n",
    "    input_set = set(input_list)\n",
    "    result_tuples = []\n",
    "\n",
    "    \n",
    "    for i in combinations_with_replacement(input_list, max_num):\n",
    "        list1 = list(i) # 1 features\n",
    "        set2 = input_set #list(input_set-set(i)) # 0 features\n",
    "        set_temp1=set(list1)\n",
    "    \n",
    "            \n",
    "\n",
    "        for j in combinations_with_replacement(set2, d-max_num):\n",
    "            list2 = list(j)  # 0 features\n",
    "            set_temp2=set(list2)\n",
    "\n",
    "            if (len(set_temp1)!=len(list1) or len(set_temp2)!=len(list2)) or len(set_temp1.intersection(set_temp2)) >0: #and len(set_temp1.intersection(set_temp2)) ==0: ### for prohibiting invalid patterns #\n",
    "                ## repeating check and valid check\n",
    "                result_tuples.append((list1, list2))\n",
    "\n",
    "\n",
    "\n",
    "    \n",
    "    return result_tuples\n",
    "\n",
    "#Cythonized version exists\n",
    "\"\"\"\n",
    "def get_miss_bag(pattern_bag,leaf,x,y_k):\n",
    "    # pattern_bag includes a tuple of lists\n",
    "    global d\n",
    "    splits=1-get_split_values(leaf,d).astype(int)\n",
    "\n",
    "    pattern=[] #[0] \n",
    "\n",
    "    counter=np.zeros(2,dtype=np.int32)\n",
    "    #[[0, 0], []]\n",
    "    for split_condition in splits:\n",
    "        try:\n",
    "            pattern.append(pattern_bag[split_condition][counter[split_condition]])\n",
    "            counter[split_condition]+=1\n",
    "        except: # a feature is repeated for branching\n",
    "            pattern.append(pattern_bag[split_condition][counter[split_condition]-1])\n",
    "        \n",
    "  \n",
    "    return get_misclassification(x, y_k, np.array(pattern,dtype=np.int32), leaf)\n",
    "\"\"\"\n",
    "# Define a custom sorting key\n",
    "def custom_sort(item):\n",
    "    return (len(item[0]), len(item[1]))\n",
    "\n",
    "\n",
    "def get_shuffle_indices(n):\n",
    "    arr=np.arange(0,n)\n",
    "    np.random.shuffle(arr)\n",
    "    return arr\n",
    "\n",
    "def split_into_batches(data_x,data_y, n):\n",
    "    global indices\n",
    "    global batch_sizes\n",
    "    batch_size = len(data) // n\n",
    "    remainder = len(data) % n\n",
    "\n",
    "    start_idx = 0\n",
    "    batch_sizes=[]\n",
    "    for i in range(n):\n",
    "        batch_end = start_idx + batch_size + (1 if i < remainder else 0)\n",
    "        batch_sizes.append(batch_end-start_idx)\n",
    "        yield data_x[indices[start_idx:batch_end]],data_y[indices[start_idx:batch_end]]\n",
    "        start_idx = batch_end\n",
    "        "
   ]
  },
  {
   "cell_type": "markdown",
   "metadata": {},
   "source": [
    "## Branching for Pricing Problems Using Beam Search"
   ]
  },
  {
   "cell_type": "code",
   "execution_count": 9,
   "metadata": {},
   "outputs": [],
   "source": [
    "def BBForPP(leaf,pi,x,y_arr,y_k,p,d,branching_hist,level_nums):\n",
    "    \"\"\"\n",
    "    int leaf, np.ndarray[np.int32_t, ndim=2] x, np.ndarray[np.int32_t, ndim=1] y, np.ndarray[np.int32_t, ndim=2] y_k, int d_current, int d, int p, np.ndarray[np.float64_t, ndim=2] pi, np.ndarray[np.int32_t, ndim=2] branching_history, int myopic_choice,PP_node parent=None, list hist=[], int min_bucket_leaf=0\n",
    "    \"\"\"\n",
    "    global myopic_choice\n",
    "    global min_bucket_leaf\n",
    "    myopic_code=int(0) if myopic_choice=='miss' else int(1)\n",
    "    \n",
    "\n",
    "    ### control hist for starting nodes\n",
    "    split= get_split_values(leaf,d).astype(int)[0]\n",
    "    empty_hist= [[],[]] #1 split, 0 split\n",
    "    def get_init_hist(feature,empty_hist,split): # a mini- function to return\n",
    "        empty_hist_copy=[empty_hist[0][:],empty_hist[1][:]]\n",
    "        empty_hist_copy[1-split]+=[feature] # first element of the empty list\n",
    "        return empty_hist_copy\n",
    "    \n",
    "    RootNodes= [PP_node(leaf,x,y_arr,y_k,0,d,p,pi,branching_hist, myopic_code,hist=get_init_hist(feature,empty_hist,split),min_bucket_leaf=min_bucket_leaf) for feature in range(p)]\n",
    "\n",
    "    Queue=[root_ for root_ in RootNodes if root_.status!=0]\n",
    "\n",
    "\n",
    "    Incumbent_patterns=[]\n",
    "    while Queue:\n",
    "        curr_node=Queue[0] # take the first in Queue\n",
    "       \n",
    "        curr_node.eval_node()\n",
    "        \n",
    "        Queue.remove(curr_node)\n",
    "        \n",
    "        if curr_node.d_current==d-1:\n",
    "    \n",
    "            #if curr_node.LB <= miss_UB:\n",
    "            #pattern=tuple(curr_node.hist)\n",
    "            \n",
    "            #splits=get_split_values(leaf,d).astype(int)\n",
    "            #pattern=[[] for _ in range(2)] # binary splits\n",
    "            #for d_ in range(d):\n",
    "            #    pattern[1-splits[d_]].append(curr_node.hist[d_])\n",
    "            #    pattern[1-splits[d_]]=list(set(pattern[1-splits[d_]]))\n",
    "            #pattern=tuple(pattern)\n",
    "            pattern=tuple(curr_node.hist)\n",
    "            if curr_node.status!=0:\n",
    "                Incumbent_patterns.append(pattern)\n",
    "            \n",
    "        \n",
    "        \n",
    "        \n",
    "        else:\n",
    "            if curr_node.status!=0: # available for use!\n",
    "                # sort the children according to their LB, get the most promising level_num_d many\n",
    "                sorted_children = sorted(curr_node.children, key=lambda obj: obj.LB)\n",
    "               \n",
    "\n",
    "                beam=level_nums[curr_node.d_current]\n",
    "                if curr_node.status !=0: #if not pruned, add NON 0 STATUS children\n",
    "                    if curr_node.miss_component>1:\n",
    "                        print(curr_node.miss_component)\n",
    "                    \n",
    "                    Queue= Queue + [child for child in sorted_children if child.status!=0][:beam]\n",
    "            \n",
    "            \n",
    "    \n",
    "    return Incumbent_patterns\n",
    "    \n",
    "\n"
   ]
  },
  {
   "cell_type": "markdown",
   "metadata": {},
   "source": [
    "## Initial Patterns List"
   ]
  },
  {
   "cell_type": "markdown",
   "metadata": {},
   "source": [
    "empty patterns should be detected"
   ]
  },
  {
   "cell_type": "markdown",
   "metadata": {},
   "source": [
    "list of all patterns that are valid"
   ]
  },
  {
   "cell_type": "code",
   "execution_count": 10,
   "metadata": {},
   "outputs": [],
   "source": [
    "#### generate all tuples and randomly add to the initial set\n",
    "###### NEW PATTERN DEFINITION ####\n",
    "np.random.seed(42)# set seed (also restart seed!)\n",
    "\n",
    "### add one level splits!\n",
    "#### store the set of all patterns\n",
    "# Sort the couples list using the custom key\n",
    "all_patterns_list=[find_all_bags(p,leaf,d) for leaf in range(2**d)]\n",
    "all_patterns_list_sorted=[sorted(all_patterns_list[leaf], key=custom_sort) for leaf in range(2**d)]\n",
    "all_repeating_patterns_list=[find_all_repeating_bags(p,leaf,d) for leaf in range(2**d)] # ensure repeats\n",
    "\n",
    "_=[np.random.shuffle(all_repeating_patterns_list[leaf])for leaf in range(2**d)]\n",
    "pattern_list= [all_repeating_patterns_list[leaf][:len(all_patterns_list[leaf])//10**(d-1)] for leaf in range(2**d)] # add a fraction of repeating patterns\n",
    "\n",
    "_=[np.random.shuffle(all_patterns_list[leaf])for leaf in range(2**d)]\n",
    "_=[pattern_list[leaf].extend(all_patterns_list[leaf][:len(all_patterns_list[leaf])//10**(d-1)]) for leaf in range(2**d)]\n"
   ]
  },
  {
   "cell_type": "code",
   "execution_count": 11,
   "metadata": {},
   "outputs": [],
   "source": [
    "num_patterns_initial=np.sum([len(pattern_list[i]) for i in range(2**d)])\n",
    "num_patterns_all=np.sum([len(all_patterns_list[i]) for i in range(2**d)])"
   ]
  },
  {
   "cell_type": "code",
   "execution_count": 12,
   "metadata": {},
   "outputs": [
    {
     "name": "stdout",
     "output_type": "stream",
     "text": [
      "Number of all valid patterns: 690\n"
     ]
    }
   ],
   "source": [
    "print('Number of all valid patterns:',num_patterns_all)"
   ]
  },
  {
   "cell_type": "code",
   "execution_count": 13,
   "metadata": {},
   "outputs": [
    {
     "name": "stdout",
     "output_type": "stream",
     "text": [
      "pattern_list: [[([9, 9], []), ([11, 11], []), ([0, 0], []), ([13, 13], []), ([5, 5], []), ([8, 8], []), ([2, 2], []), ([1, 1], []), ([14, 14], []), ([4, 4], []), ([7, 7], []), ([10, 10], []), ([9, 9], []), ([10, 11], []), ([6, 9], []), ([4, 6], []), ([8, 12], []), ([2, 2], []), ([10, 10], []), ([6, 13], []), ([9, 12], []), ([10, 12], []), ([1, 5], []), ([3, 3], [])], [([10], [10]), ([12], [12]), ([0], [0]), ([8], [8]), ([9], [9]), ([6], [6]), ([11], [11]), ([3], [3]), ([13], [13]), ([1], [1]), ([4], [4]), ([5], [5]), ([2], [2]), ([14], [14]), ([7], [7]), ([10], [5]), ([0], [14]), ([0], [4]), ([10], [6]), ([9], [10]), ([6], [0]), ([8], [12]), ([3], [12]), ([5], [1]), ([6], [9]), ([14], [14]), ([13], [11]), ([2], [3]), ([5], [12]), ([4], [4]), ([12], [7]), ([0], [12]), ([7], [5]), ([12], [8]), ([5], [10]), ([1], [0]), ([9], [4])], [([1], [1]), ([12], [12]), ([4], [4]), ([10], [10]), ([13], [13]), ([7], [7]), ([6], [6]), ([3], [3]), ([2], [2]), ([0], [0]), ([8], [8]), ([14], [14]), ([5], [5]), ([9], [9]), ([11], [11]), ([4], [11]), ([5], [6]), ([10], [3]), ([7], [6]), ([8], [0]), ([14], [5]), ([14], [1]), ([6], [6]), ([13], [2]), ([11], [11]), ([1], [11]), ([12], [13]), ([8], [10]), ([14], [2]), ([6], [14]), ([12], [12]), ([8], [11]), ([8], [9]), ([13], [8]), ([1], [2]), ([7], [1]), ([0], [10])], [([], [2, 2]), ([], [7, 7]), ([], [13, 13]), ([], [0, 0]), ([], [11, 11]), ([], [10, 10]), ([], [5, 5]), ([], [9, 9]), ([], [12, 12]), ([], [3, 3]), ([], [1, 1]), ([], [14, 14]), ([], [12, 13]), ([], [6, 10]), ([], [6, 6]), ([], [3, 3]), ([], [5, 12]), ([], [2, 2]), ([], [3, 8]), ([], [3, 12]), ([], [4, 8]), ([], [2, 6]), ([], [0, 6]), ([], [1, 14])]]\n"
     ]
    }
   ],
   "source": [
    "print(\"pattern_list:\",pattern_list)"
   ]
  },
  {
   "cell_type": "code",
   "execution_count": 14,
   "metadata": {},
   "outputs": [],
   "source": [
    "### instance log\n",
    "#relpath=\"./Datasets/\"+dataset+\"/fold=\"+str(fold)\n",
    "#filename=relpath+'_instance_log_'+str(d)+'.txt'\n",
    "#with open(filename, 'w') as file:\n",
    "#    K = list(data.y.unique())\n",
    "#    texts=[str(n),str(p),str(num_patterns_all),str(num_patterns_initial),str(len(K))]\n",
    "#    separator = \",\"\n",
    "#    data = separator.join(texts)\n",
    "#    file.write(data)"
   ]
  },
  {
   "cell_type": "markdown",
   "metadata": {},
   "source": [
    "All Patterns"
   ]
  },
  {
   "cell_type": "markdown",
   "metadata": {},
   "source": [
    "## Master Problem, LP Relaxation, and the Dual"
   ]
  },
  {
   "cell_type": "code",
   "execution_count": 15,
   "metadata": {},
   "outputs": [],
   "source": [
    "def solve_partial_OCT_IP_matrix(pattern_list, x, y_k, d,p):\n",
    "    global n\n",
    "    global fold\n",
    "    global dataset\n",
    "\n",
    "    ### Baseline model\n",
    "    ## the W variables coefficients will be filled before column generation\n",
    "    cons_basis= get_w_columns(d,p)\n",
    "    \n",
    "    \n",
    "    ### get A matrix ###\n",
    "    columns = [cons_basis]\n",
    "    _ = [\n",
    "        [columns.append(get_column(leaf,d, pattern, p)) for leaf in range(len(pattern_list)) for pattern in pattern_list[leaf]]    \n",
    "    ] # null list to hide extend output\n",
    "\n",
    "    miss_and_count=[[get_misclassification_bag(x, y_k, pattern_bag, leaf) for pattern_bag in pattern_list[leaf]]for leaf in np.arange(len(pattern_list),dtype=np.int32)] \n",
    "    \n",
    "    ### MISSS function change here\n",
    "    \n",
    "    A= np.concatenate(columns,axis=1)\n",
    "    A=csr_matrix(A)\n",
    "    \n",
    "    ### Add the tightening constraints\n",
    "    #pattern_list_constraints=np.concatenate([np.array(miss_and_count[leaf][pattern][2],dtype=np.float64).reshape(n,1) for leaf in range(len(pattern_list)) for pattern in range(len(pattern_list[leaf]))],axis=1) # adds cuts\n",
    "    #cuts_W=np.zeros(shape=(len(pattern_list_constraints),(2**d-1)*p)) # w - columns for cuts\n",
    "    #pattern_list_constraints_with_W= np.hstack([cuts_W,pattern_list_constraints])# concat the two horizontally\n",
    "    \n",
    "    #pattern_list_constraints_with_W_sparse=csr_matrix(pattern_list_constraints_with_W)\n",
    "    #A=hstack([A,pattern_list_constraints_with_W_sparse]) # A matrix with tightened cuts\n",
    "    \n",
    "    ### get b ###\n",
    "    #b = np.concatenate([np.ones(len(pattern_list)),np.zeros(A.shape[0]-len(pattern_list)-len(pattern_list_constraints)),np.ones(len(pattern_list_constraints))]) # RHS for cuts\n",
    "    b = np.concatenate([np.ones(len(pattern_list)),np.zeros(A.shape[0]-len(pattern_list))]) # RHS\n",
    "    ### get c ###\n",
    "    #del pattern_list_constraints\n",
    "    c=np.array([miss_and_count[leaf][pattern][0]/n for leaf in range(len(pattern_list)) for pattern in range(len(pattern_list[leaf]))])\n",
    "    c=np.concatenate([np.zeros(cons_basis.shape[1]),c]) ### add 0 obj for w\n",
    "    \n",
    "    ### build model ###\n",
    "\n",
    "    mp = Model('MasterProblemLP')\n",
    "    #mp.setParam('OutputFlag', 0)\n",
    "    mp.setParam('TimeLimit', 3600)\n",
    "    mp.update()\n",
    "    \n",
    "    # add as many variables as the number of patterns\n",
    "    mp.addMVar((2**d-1)*p, vtype=GRB.BINARY,name='w') \n",
    "    mp.addMVar(A.shape[1]-(2**d-1)*p, vtype=GRB.BINARY,name='pattern') \n",
    "\n",
    "    mp.addMConstr(A, None, '=' , b)\n",
    "\n",
    "    #sp.setMObjective(None,c_new,0,None,None,None,GRB.MAXIMIZE)\n",
    "    mp.setMObjective(None, c, 0.0, xQ_L=None, xQ_R=None, xc=None, sense=GRB.MINIMIZE )\n",
    "    mp.update()\n",
    "    # CART solution\n",
    "    vars=mp.getVars()\n",
    "    for l in range(2**d):\n",
    "        vars[(2**d-1)*p+np.sum([len(pattern_list[leaf]) for leaf in range(l+1)])-1].start=1 # last patterns are cart\n",
    "        mp.update()\n",
    "\n",
    "    relpath=\"./Datasets/\"+dataset+\"/fold=\"+str(fold)\n",
    "    filename=relpath+'_IP_log_'+str(d)+'.txt'\n",
    "    timer_start=time.time()\n",
    "    #with open(filename, 'w') as file:\n",
    "    #    while mp.status!=2 and time.time()- timer_start < 3600: # while not optimal and overall time limit not reached\n",
    "    #        mp.setParam('TimeLimit', 100) # write solution every 100 seconds\n",
    "    #        mp.optimize()\n",
    "    #        texts = [str(mp.objval),str(mp.objbound),str(time.time()- timer_start)] #we do not write the solution, we log: objval, bound, time, # of columns\n",
    "    #        separator = \",\"\n",
    "    #        data = separator.join(texts)\n",
    "    #        file.write(data+ '\\n')\n",
    "    mp.optimize()\n",
    "    timer_end=time.time()\n",
    "    return mp, A, b, c,timer_end-timer_start\n",
    "\n",
    "def solve_partial_OCT_matrix(pattern_list, x, y_k, d,p):\n",
    "    global n\n",
    "    \n",
    "    ### Baseline model\n",
    "    ## the W variables coefficients will be filled before column generation\n",
    "    cons_basis= get_w_columns(d,p)\n",
    "    \n",
    "    \n",
    "    ### get A matrix ###\n",
    "    columns = [cons_basis]\n",
    "    _ = [\n",
    "        [columns.append(get_column(leaf,d, pattern, p)) for leaf in range(len(pattern_list)) for pattern in pattern_list[leaf]]    \n",
    "    ] # null list to hide extend output\n",
    "\n",
    "    miss_and_count=[get_misclassification_bag(x, y_k, pattern_bag, leaf) for leaf in np.arange(len(pattern_list),dtype=np.int32) for pattern_bag in pattern_list[leaf]]\n",
    "    \n",
    "    ### MISSS function change here\n",
    "    \n",
    "    A= np.concatenate(columns,axis=1)\n",
    "\n",
    "\n",
    "    ### get b ###\n",
    "    b = np.concatenate([np.ones(len(pattern_list)),np.zeros(len(A)-len(pattern_list))]) # RHS\n",
    "    \n",
    "    ### get c ###\n",
    "\n",
    "    c=np.array([miss_and_count[i][0]/n for i in range(len(miss_and_count))])\n",
    "    c=np.concatenate([np.zeros(cons_basis.shape[1]),c]) ### add 0 obj for w\n",
    "    \n",
    "    ### build model ###\n",
    "\n",
    "    mp = Model('MasterProblemLP')\n",
    "    mp.setParam('OutputFlag', 0)\n",
    "    \n",
    "    # add as many variables as the number of patterns\n",
    "    mp.addMVar(A.shape[1]-len(miss_and_count), vtype=GRB.CONTINUOUS,name='w',lb=0) \n",
    "    mp.addMVar(len(miss_and_count), vtype=GRB.CONTINUOUS,name='pattern',lb=0) \n",
    "\n",
    "    mp.addMConstr(A, None, '=' , b)\n",
    "\n",
    "    #sp.setMObjective(None,c_new,0,None,None,None,GRB.MAXIMIZE)\n",
    "    mp.setMObjective(None, c, 0.0, xQ_L=None, xQ_R=None, xc=None, sense=GRB.MINIMIZE )\n",
    "    mp.optimize()\n",
    "\n",
    "    return mp, A, b, c\n",
    "\n",
    "\n",
    "\n",
    "\n",
    "def dual_partial_OCT_matrix(A,b,c):\n",
    "    ### build model ###\n",
    "    dual_mp=Model('Dual')\n",
    "\n",
    "    dual_mp.setParam('OutputFlag', 0)\n",
    "    \n",
    "    # add as many variables as the number of constraints\n",
    "    dual_mp.addMVar(A.shape[0], vtype=GRB.CONTINUOUS,ub=GRB.INFINITY,lb=-GRB.INFINITY,name='pattern') \n",
    "\n",
    "    dual_mp.addMConstr(A.T, None, '<' , c)\n",
    "\n",
    "    #sp.setMObjective(None,c_new,0,None,None,None,GRB.MAXIMIZE)\n",
    "    dual_mp.setMObjective(None, b, 0.0, xQ_L=None, xQ_R=None, xc=None, sense=GRB.MAXIMIZE )\n",
    "    dual_mp.optimize()\n",
    "\n",
    "    return dual_mp\n",
    "\n",
    "\n",
    "\n",
    "\n",
    "def solve_partial_OCT_matrix(pattern_list, x, y_k, d,p):\n",
    "    global n\n",
    "    \n",
    "    ### Baseline model\n",
    "    ## the W variables coefficients will be filled before column generation\n",
    "    cons_basis= get_w_columns(d,p)\n",
    "    \n",
    "    \n",
    "    ### get A matrix ###\n",
    "    columns = [cons_basis]\n",
    "    _ = [\n",
    "        [columns.append(get_column(leaf,d, pattern, p)) for leaf in range(len(pattern_list)) for pattern in pattern_list[leaf]]    \n",
    "    ] # null list to hide extend output\n",
    "\n",
    "    miss_and_count=[get_misclassification_bag(x, y_k, pattern_bag, leaf) for leaf in np.arange(len(pattern_list),dtype=np.int32) for pattern_bag in pattern_list[leaf]]\n",
    "    \n",
    "    ### MISSS function change here\n",
    "    \n",
    "    A= np.concatenate(columns,axis=1)\n",
    "\n",
    "\n",
    "    ### get b ###\n",
    "    b = np.concatenate([np.ones(len(pattern_list)),np.zeros(len(A)-len(pattern_list))]) # RHS\n",
    "    \n",
    "    ### get c ###\n",
    "\n",
    "    c=np.array([miss_and_count[i][0]/n for i in range(len(miss_and_count))])\n",
    "    c=np.concatenate([np.zeros(cons_basis.shape[1]),c]) ### add 0 obj for w\n",
    "    \n",
    "    ### build model ###\n",
    "\n",
    "    mp = Model('MasterProblemLP')\n",
    "    #mp.setParam(GRB.Param.Seed,42) # random seec\n",
    "    mp.setParam('OutputFlag', 0)\n",
    "    \n",
    "    # add as many variables as the number of patterns\n",
    "    mp.addMVar(A.shape[1]-len(miss_and_count), vtype=GRB.CONTINUOUS,name='w',lb=0) \n",
    "    mp.addMVar(len(miss_and_count), vtype=GRB.CONTINUOUS,name='pattern',lb=0) \n",
    "\n",
    "    mp.addMConstr(A, None, '=' , b)\n",
    "\n",
    "    #sp.setMObjective(None,c_new,0,None,None,None,GRB.MAXIMIZE)\n",
    "    mp.setMObjective(None, c, 0.0, xQ_L=None, xQ_R=None, xc=None, sense=GRB.MINIMIZE )\n",
    "    mp.optimize()\n",
    "\n",
    "    return mp, A, b, c\n",
    "\n",
    "\n",
    "\n",
    "\n",
    "def dual_partial_OCT_matrix(A,b,c):\n",
    "    ### build model ###\n",
    "    dual_mp=Model('Dual')\n",
    "\n",
    "    dual_mp.setParam('OutputFlag', 0)\n",
    "    \n",
    "    # add as many variables as the number of constraints\n",
    "    dual_mp.addMVar(A.shape[0], vtype=GRB.CONTINUOUS,ub=GRB.INFINITY,lb=-GRB.INFINITY,name='pattern') \n",
    "\n",
    "    dual_mp.addMConstr(A.T, None, '<' , c)\n",
    "\n",
    "    #sp.setMObjective(None,c_new,0,None,None,None,GRB.MAXIMIZE)\n",
    "    dual_mp.setMObjective(None, b, 0.0, xQ_L=None, xQ_R=None, xc=None, sense=GRB.MAXIMIZE )\n",
    "    dual_mp.optimize()\n",
    "\n",
    "    return dual_mp\n",
    "\n",
    "\n"
   ]
  },
  {
   "cell_type": "code",
   "execution_count": 16,
   "metadata": {},
   "outputs": [],
   "source": [
    "#m,A,b,c=solve_partial_OCT_matrix(all_patterns_list, x, y_k, d,p)"
   ]
  },
  {
   "cell_type": "code",
   "execution_count": 17,
   "metadata": {},
   "outputs": [],
   "source": [
    "#m.objval"
   ]
  },
  {
   "cell_type": "code",
   "execution_count": 18,
   "metadata": {},
   "outputs": [],
   "source": [
    "#m,A,b,c,_=solve_partial_OCT_IP_matrix(all_patterns_list, x, y_k, d,p)"
   ]
  },
  {
   "cell_type": "code",
   "execution_count": 19,
   "metadata": {},
   "outputs": [],
   "source": [
    "#m.ObjVal"
   ]
  },
  {
   "cell_type": "code",
   "execution_count": 20,
   "metadata": {},
   "outputs": [],
   "source": [
    "#m.Runtime"
   ]
  },
  {
   "cell_type": "code",
   "execution_count": 21,
   "metadata": {},
   "outputs": [],
   "source": [
    "def printIPVars(IP_model):\n",
    "    # Print non-zero decision variables, HERE BOTH PATTERN NUMBER AND LEAF NUMBER STARTS FROM 0\n",
    "    pattern_counter=[0,]*(2**(d))\n",
    "    leaf_pointer_array=IP_model.getA()[:2**(d)].toarray()\n",
    "    for i, var in enumerate(IP_model.X):\n",
    "            leaf=np.where((leaf_pointer_array[:,i]==1))[0][0]    \n",
    "            if var > 0:\n",
    "                index= pattern_counter[leaf]\n",
    "                print(f'Leaf {leaf+1} pattern {index+ 1}: {var}')\n",
    "                print('pattern:',all_patterns_list[leaf][index])\n",
    "            pattern_counter[leaf]+=1 #update index"
   ]
  },
  {
   "cell_type": "code",
   "execution_count": 22,
   "metadata": {},
   "outputs": [],
   "source": [
    "#list_unraveled=[]\n",
    "#_=[list_unraveled.extend(all_patterns_list[l]) for l in range(2**d)]\n",
    "#indices=np.where(np.array(m.X)[(2**d-1)*p:])[0]\n",
    "#for i in indices:\n",
    "#    print(list_unraveled[i])"
   ]
  },
  {
   "cell_type": "markdown",
   "metadata": {},
   "source": [
    "## CART "
   ]
  },
  {
   "cell_type": "code",
   "execution_count": 23,
   "metadata": {},
   "outputs": [],
   "source": [
    "# Function to recursively extract split features\n",
    "def extract_split_features(d,tree_structure,leaf):\n",
    "    \"\"\"\n",
    "    Node: 0,1,2,...2**d-1\n",
    "    \"\"\"\n",
    "    empty_pattern=tuple([[] for _ in range(2)])\n",
    "    nodes=get_w_indices(2**d-leaf-1) # we are doing this because CART builder assumes right splits are postive and left are negative\n",
    "    splits=get_split_values(leaf,d).astype(int)\n",
    "    tree_features=tree_structure.feature[tree_structure.feature>=0]\n",
    "    for node in nodes:\n",
    "        feature_new = tree_features[node] if node<len(tree_features) else -1\n",
    "        level=0#(node+1)//(2**(d-1))\n",
    "        flag=node in np.arange(2**level-1,2**(level+1)-1).tolist()\n",
    "        while not flag:\n",
    "            level+=1\n",
    "            flag=node in np.arange(2**level-1,2**(level+1)-1).tolist()\n",
    "            \n",
    "        empty_pattern[1-splits[level]].append(feature_new) if feature_new >=0 else empty_pattern[1-splits[level]].append(feature_old)\n",
    "        feature_old=feature_new # store this split\n",
    "    \n",
    "    return empty_pattern\n"
   ]
  },
  {
   "cell_type": "code",
   "execution_count": 24,
   "metadata": {},
   "outputs": [
    {
     "name": "stdout",
     "output_type": "stream",
     "text": [
      "CART Miss: 0.25\n"
     ]
    }
   ],
   "source": [
    "import pandas as pd\n",
    "import numpy as np\n",
    "from sklearn import tree\n",
    "from sklearn.metrics import accuracy_score,confusion_matrix\n",
    "clf = tree.DecisionTreeClassifier(max_depth=d)\n",
    "clf = clf.fit(x, y)\n",
    "prediction = clf.predict(x)\n",
    "cart_acc=1-accuracy_score(y,prediction)\n",
    "print('CART Miss:',cart_acc)"
   ]
  },
  {
   "cell_type": "code",
   "execution_count": 25,
   "metadata": {},
   "outputs": [
    {
     "name": "stdout",
     "output_type": "stream",
     "text": [
      "[[250   0]\n",
      " [125 125]]\n"
     ]
    }
   ],
   "source": [
    "print(confusion_matrix(y,prediction))"
   ]
  },
  {
   "cell_type": "code",
   "execution_count": 26,
   "metadata": {},
   "outputs": [
    {
     "name": "stdout",
     "output_type": "stream",
     "text": [
      "CART Result\n"
     ]
    },
    {
     "data": {
      "text/plain": [
       "[Text(0.6, 0.8333333333333334, 'x[11] <= 0.5\\ngini = 0.5\\nsamples = 500\\nvalue = [250, 250]'),\n",
       " Text(0.4, 0.5, 'x[4] <= 0.5\\ngini = 0.444\\nsamples = 375\\nvalue = [250, 125]'),\n",
       " Text(0.5, 0.6666666666666667, 'True  '),\n",
       " Text(0.2, 0.16666666666666666, 'gini = 0.433\\nsamples = 262\\nvalue = [179.0, 83.0]'),\n",
       " Text(0.6, 0.16666666666666666, 'gini = 0.467\\nsamples = 113\\nvalue = [71, 42]'),\n",
       " Text(0.8, 0.5, 'gini = 0.0\\nsamples = 125\\nvalue = [0, 125]'),\n",
       " Text(0.7, 0.6666666666666667, '  False')]"
      ]
     },
     "execution_count": 26,
     "metadata": {},
     "output_type": "execute_result"
    },
    {
     "data": {
      "image/png": "[encoded data removed]",
      "text/plain": [
       "<Figure size 640x480 with 1 Axes>"
      ]
     },
     "metadata": {},
     "output_type": "display_data"
    }
   ],
   "source": [
    "print('CART Result')\n",
    "tree.plot_tree(clf)"
   ]
  },
  {
   "cell_type": "code",
   "execution_count": 27,
   "metadata": {},
   "outputs": [],
   "source": [
    "## store incumbent CART patterns\n",
    "inc_patterns_CART=[[extract_split_features(d,clf.tree_,leaf)] for leaf in range(2**d)]"
   ]
  },
  {
   "cell_type": "code",
   "execution_count": 28,
   "metadata": {},
   "outputs": [],
   "source": [
    "## add cart patterns to assoc. pattern list\n",
    "_=[pattern_list[l].append(inc_patterns_CART[l][0]) for l in range(2**d)]\n",
    "_=[all_patterns_list[l].append(inc_patterns_CART[l][0]) for l in range(2**d)]"
   ]
  },
  {
   "cell_type": "code",
   "execution_count": 29,
   "metadata": {},
   "outputs": [],
   "source": [
    "from itertools import combinations_with_replacement"
   ]
  },
  {
   "cell_type": "markdown",
   "metadata": {},
   "source": [
    "## Solve the IP model for comparison!"
   ]
  },
  {
   "cell_type": "code",
   "execution_count": 30,
   "metadata": {},
   "outputs": [
    {
     "name": "stdout",
     "output_type": "stream",
     "text": [
      "Solving IP Model\n",
      "Set parameter Username\n",
      "Academic license - for non-commercial use only - expires 2025-08-26\n",
      "Set parameter TimeLimit to value 3600\n",
      "Gurobi Optimizer version 11.0.3 build v11.0.3rc0 (mac64[arm] - Darwin 24.2.0 24C101)\n",
      "\n",
      "CPU model: Apple M3 Pro\n",
      "Thread count: 11 physical cores, 11 logical processors, using up to 11 threads\n",
      "\n",
      "Optimize a model with 124 rows, 739 columns and 2171 nonzeros\n",
      "Model fingerprint: 0x0654fbd2\n",
      "Variable types: 0 continuous, 739 integer (739 binary)\n",
      "Coefficient statistics:\n",
      "  Matrix range     [1e+00, 2e+00]\n",
      "  Objective range  [2e-02, 3e-01]\n",
      "  Bounds range     [1e+00, 1e+00]\n",
      "  RHS range        [1e+00, 1e+00]\n",
      "\n",
      "Warning: Completing partial solution with 735 unfixed non-continuous variables out of 739\n",
      "User MIP start produced solution with objective 0.25 (0.00s)\n",
      "Loaded user MIP start with objective 0.25\n",
      "\n",
      "Presolve removed 34 rows and 192 columns\n",
      "Presolve time: 0.03s\n",
      "Presolved: 90 rows, 547 columns, 1613 nonzeros\n",
      "Variable types: 0 continuous, 547 integer (547 binary)\n",
      "\n",
      "Root relaxation: objective 1.260000e-01, 38 iterations, 0.00 seconds (0.00 work units)\n",
      "\n",
      "    Nodes    |    Current Node    |     Objective Bounds      |     Work\n",
      " Expl Unexpl |  Obj  Depth IntInf | Incumbent    BestBd   Gap | It/Node Time\n",
      "\n",
      "     0     0    0.12600    0   10    0.25000    0.12600  49.6%     -    0s\n",
      "     0     0    0.16500    0    8    0.25000    0.16500  34.0%     -    0s\n",
      "     0     0    0.16500    0   10    0.25000    0.16500  34.0%     -    0s\n",
      "     0     0    0.16600    0   10    0.25000    0.16600  33.6%     -    0s\n",
      "     0     0    0.16600    0   10    0.25000    0.16600  33.6%     -    0s\n",
      "     0     0    0.16800    0   10    0.25000    0.16800  32.8%     -    0s\n",
      "     0     0    0.19400    0    8    0.25000    0.19400  22.4%     -    0s\n",
      "     0     0    0.20667    0   19    0.25000    0.20667  17.3%     -    0s\n",
      "     0     0    0.21800    0   20    0.25000    0.21800  12.8%     -    0s\n",
      "     0     0    0.22000    0   22    0.25000    0.22000  12.0%     -    0s\n",
      "*    0     0               0       0.2200000    0.22000  0.00%     -    0s\n",
      "\n",
      "Explored 1 nodes (202 simplex iterations) in 0.10 seconds (0.03 work units)\n",
      "Thread count was 11 (of 11 available processors)\n",
      "\n",
      "Solution count 2: 0.22 0.25 \n",
      "\n",
      "Optimal solution found (tolerance 1.00e-04)\n",
      "Best objective 2.200000000000e-01, best bound 2.200000000000e-01, gap 0.0000%\n"
     ]
    }
   ],
   "source": [
    "print('Solving IP Model')\n",
    "IP_model=solve_partial_OCT_IP_matrix(all_patterns_list, x, y_k, d,p)"
   ]
  },
  {
   "cell_type": "code",
   "execution_count": 31,
   "metadata": {},
   "outputs": [],
   "source": [
    "def printIPVars(IP_model):\n",
    "    # Print non-zero decision variables, HERE BOTH PATTERN NUMBER AND LEAF NUMBER STARTS FROM 0\n",
    "    inc_patterns=[[] for leaf in range(2**d)]\n",
    "    pattern_counter=[0,]*(2**(d))\n",
    "    leaf_pointer_array=IP_model[0].getA()[:2**(d)].toarray()\n",
    "    for i, var in enumerate(IP_model[0].X[(2**d-1)*p:]):\n",
    "            leaf=np.where((leaf_pointer_array[:,(2**d-1)*p+i]==1))[0][0]    \n",
    "            if var > 0:\n",
    "                index= pattern_counter[leaf]\n",
    "                print(f'Leaf {leaf+1} pattern {index+ 1}: {var}')\n",
    "                print('pattern:',all_patterns_list[leaf][index])\n",
    "                inc_patterns[leaf].append(all_patterns_list[leaf][index])\n",
    "            pattern_counter[leaf]+=1 #update index\n",
    "    return inc_patterns"
   ]
  },
  {
   "cell_type": "code",
   "execution_count": 32,
   "metadata": {},
   "outputs": [
    {
     "name": "stdout",
     "output_type": "stream",
     "text": [
      "Leaf 1 pattern 59: 1.0\n",
      "pattern: ([4, 7], [])\n",
      "Leaf 2 pattern 166: 1.0\n",
      "pattern: ([4], [7])\n",
      "Leaf 3 pattern 206: 1.0\n",
      "pattern: ([11], [4])\n",
      "Leaf 4 pattern 84: 1.0\n",
      "pattern: ([], [4, 11])\n"
     ]
    }
   ],
   "source": [
    "inc_patterns_IP=printIPVars(IP_model)"
   ]
  },
  {
   "cell_type": "code",
   "execution_count": 33,
   "metadata": {},
   "outputs": [
    {
     "name": "stdout",
     "output_type": "stream",
     "text": [
      "IP Model Objective: 0.22\n",
      "IP Model Optimization Time: 0.10058307647705078\n"
     ]
    }
   ],
   "source": [
    "print('IP Model Objective:', IP_model[0].objval)\n",
    "print('IP Model Optimization Time:',IP_model[-1])"
   ]
  },
  {
   "cell_type": "markdown",
   "metadata": {},
   "source": [
    "# Test Dataset"
   ]
  },
  {
   "cell_type": "code",
   "execution_count": 34,
   "metadata": {},
   "outputs": [],
   "source": [
    "relpath=\"./Datasets/\"+dataset+\"/fold=\"+str(fold)+\"_test.csv\"\n",
    "data = pd.read_csv(relpath)#pd.read_csv(\"./Datasets/fold=1_train.csv\")\n",
    "\n",
    "X = data.iloc[:,1:]\n",
    "y = data.iloc[:,:1]\n",
    "\n",
    "y_k = np.zeros((X.shape[0], len(K)))\n",
    "for k in range(len(K)):\n",
    "    y_k[np.where(y==K[k])[0],k] = 1\n",
    "\n",
    "y_k=y_k.astype(np.int32)\n",
    "x = np.array(X,dtype=np.int32)"
   ]
  },
  {
   "cell_type": "code",
   "execution_count": 35,
   "metadata": {},
   "outputs": [],
   "source": [
    "def get_tree_mis(inc_patterns,d,x,y_k):\n",
    "    miss=0\n",
    "    for leaf in range(2**d):\n",
    "        miss+=get_misclassification_bag(x, y_k, inc_patterns[leaf][0], leaf)[0]\n",
    "    return miss/len(x)"
   ]
  },
  {
   "cell_type": "code",
   "execution_count": 36,
   "metadata": {},
   "outputs": [],
   "source": [
    "miss_IP=get_tree_mis(inc_patterns_IP,d,x,y_k)"
   ]
  },
  {
   "cell_type": "code",
   "execution_count": 37,
   "metadata": {},
   "outputs": [
    {
     "name": "stdout",
     "output_type": "stream",
     "text": [
      "IP Test Accuracy Score is: 0.7321428571428572\n"
     ]
    }
   ],
   "source": [
    "print('IP Test Accuracy Score is:', 1-miss_IP)"
   ]
  },
  {
   "cell_type": "code",
   "execution_count": 38,
   "metadata": {},
   "outputs": [],
   "source": [
    "#Training Accuracy\n",
    "#Test Accuracy\n",
    "#Time\n",
    "#Opt Gap"
   ]
  },
  {
   "cell_type": "code",
   "execution_count": 39,
   "metadata": {},
   "outputs": [
    {
     "name": "stdout",
     "output_type": "stream",
     "text": [
      "IP Model Objective: 0.22\n",
      "IP Model Optimization Time: 0.10058307647705078\n"
     ]
    }
   ],
   "source": [
    "print('IP Model Objective:', IP_model[0].objval)\n",
    "print('IP Model Optimization Time:',IP_model[-1])"
   ]
  },
  {
   "cell_type": "code",
   "execution_count": 40,
   "metadata": {},
   "outputs": [],
   "source": [
    "\n",
    "res_final=np.array([1-IP_model[0].objval,1-miss_IP,IP_model[-1],IP_model[0].MIPGap])\n",
    "\n",
    "\n",
    "labels=np.array(['Training Accuracy','Test Accuracy','Time','Opt Gap'])\n",
    "resWlabel=np.vstack([labels,res_final]).T"
   ]
  },
  {
   "cell_type": "code",
   "execution_count": 41,
   "metadata": {},
   "outputs": [],
   "source": [
    "# save results\n",
    "relpath=\"./Datasets/\"+dataset+\"/fold=\"+str(fold)\n",
    "np.savetxt(relpath+'_res_IP_'+str(d)+'.txt',resWlabel,fmt='%s',delimiter=',')"
   ]
  },
  {
   "cell_type": "code",
   "execution_count": 42,
   "metadata": {},
   "outputs": [],
   "source": [
    "import sys\n",
    "\n",
    "orig_stdout = sys.stdout\n",
    "f = open(relpath+'_DecisionRules_IP_'+str(d)+'.txt', 'w')\n",
    "sys.stdout = f\n",
    "\n",
    "print(inc_patterns_IP)\n",
    "\n",
    "sys.stdout = orig_stdout\n",
    "f.close()"
   ]
  }
 ],
 "metadata": {
  "kernelspec": {
   "display_name": "Python 3.8.13 ('Anaconda')",
   "language": "python",
   "name": "python3"
  },
  "language_info": {
   "codemirror_mode": {
    "name": "ipython",
    "version": 3
   },
   "file_extension": ".py",
   "mimetype": "text/x-python",
   "name": "python",
   "nbconvert_exporter": "python",
   "pygments_lexer": "ipython3",
   "version": "3.11.8"
  },
  "orig_nbformat": 4,
  "vscode": {
   "interpreter": {
    "hash": "f6f27239ee5173af89586d909bd5305cea6834bd56882853a6f24792033a6314"
   }
  }
 },
 "nbformat": 4,
 "nbformat_minor": 2
}
