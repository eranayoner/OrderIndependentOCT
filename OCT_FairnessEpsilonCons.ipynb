{
 "cells": [
  {
   "cell_type": "code",
   "execution_count": 1,
   "metadata": {},
   "outputs": [
    {
     "name": "stderr",
     "output_type": "stream",
     "text": [
      "Passed unknown parameter: fold\n",
      "Passed unknown parameter: dataset\n",
      "Passed unknown parameter: d\n",
      "Passed unknown parameter: epsilon\n",
      "Passed unknown parameter: sensitive_features\n",
      "Input notebook does not contain a cell with tag 'parameters'\n",
      "/opt/anaconda3/envs/spyder/lib/python3.11/site-packages/tqdm/auto.py:21: TqdmWarning: IProgress not found. Please update jupyter and ipywidgets. See https://ipywidgets.readthedocs.io/en/stable/user_install.html\n",
      "  from .autonotebook import tqdm as notebook_tqdm\n",
      "Executing:   0%|          | 0/59 [00:00<?, ?cell/s]0.00s - Debugger warning: It seems that frozen modules are being used, which may\n",
      "0.00s - make the debugger miss breakpoints. Please pass -Xfrozen_modules=off\n",
      "0.00s - to python to disable frozen modules.\n",
      "0.00s - Note: Debugging will proceed. Set PYDEVD_DISABLE_FILE_VALIDATION=1 to disable this validation.\n",
      "Executing: 100%|██████████| 59/59 [00:04<00:00, 12.79cell/s]\n",
      "Passed unknown parameter: fold\n",
      "Passed unknown parameter: dataset\n",
      "Passed unknown parameter: d\n",
      "Passed unknown parameter: epsilon\n",
      "Passed unknown parameter: sensitive_features\n",
      "Input notebook does not contain a cell with tag 'parameters'\n"
     ]
    },
    {
     "name": "stdout",
     "output_type": "stream",
     "text": [
      "Continuing epsilon constraint 1\n"
     ]
    },
    {
     "name": "stderr",
     "output_type": "stream",
     "text": [
      "Executing:   0%|          | 0/59 [00:00<?, ?cell/s]0.00s - Debugger warning: It seems that frozen modules are being used, which may\n",
      "0.00s - make the debugger miss breakpoints. Please pass -Xfrozen_modules=off\n",
      "0.00s - to python to disable frozen modules.\n",
      "0.00s - Note: Debugging will proceed. Set PYDEVD_DISABLE_FILE_VALIDATION=1 to disable this validation.\n",
      "Executing: 100%|██████████| 59/59 [00:04<00:00, 13.08cell/s]\n",
      "Passed unknown parameter: fold\n",
      "Passed unknown parameter: dataset\n",
      "Passed unknown parameter: d\n",
      "Passed unknown parameter: epsilon\n",
      "Passed unknown parameter: sensitive_features\n",
      "Input notebook does not contain a cell with tag 'parameters'\n"
     ]
    },
    {
     "name": "stdout",
     "output_type": "stream",
     "text": [
      "Continuing epsilon constraint 0.15012002743484226\n"
     ]
    },
    {
     "name": "stderr",
     "output_type": "stream",
     "text": [
      "Executing:   0%|          | 0/59 [00:00<?, ?cell/s]0.00s - Debugger warning: It seems that frozen modules are being used, which may\n",
      "0.00s - make the debugger miss breakpoints. Please pass -Xfrozen_modules=off\n",
      "0.00s - to python to disable frozen modules.\n",
      "0.00s - Note: Debugging will proceed. Set PYDEVD_DISABLE_FILE_VALIDATION=1 to disable this validation.\n",
      "Executing: 100%|██████████| 59/59 [00:04<00:00, 12.23cell/s]\n",
      "Passed unknown parameter: fold\n",
      "Passed unknown parameter: dataset\n",
      "Passed unknown parameter: d\n",
      "Passed unknown parameter: epsilon\n",
      "Passed unknown parameter: sensitive_features\n",
      "Input notebook does not contain a cell with tag 'parameters'\n"
     ]
    },
    {
     "name": "stdout",
     "output_type": "stream",
     "text": [
      "Continuing epsilon constraint 0.100480109739369\n"
     ]
    },
    {
     "name": "stderr",
     "output_type": "stream",
     "text": [
      "Executing:   0%|          | 0/59 [00:00<?, ?cell/s]0.00s - Debugger warning: It seems that frozen modules are being used, which may\n",
      "0.00s - make the debugger miss breakpoints. Please pass -Xfrozen_modules=off\n",
      "0.00s - to python to disable frozen modules.\n",
      "0.00s - Note: Debugging will proceed. Set PYDEVD_DISABLE_FILE_VALIDATION=1 to disable this validation.\n",
      "Executing:  76%|███████▋  | 45/59 [00:04<00:01,  9.44cell/s]"
     ]
    },
    {
     "name": "stdout",
     "output_type": "stream",
     "text": [
      "Done with epsilon-constraint 0.0930212620027435\n"
     ]
    },
    {
     "name": "stderr",
     "output_type": "stream",
     "text": [
      "\n"
     ]
    }
   ],
   "source": [
    "import papermill as pm\n",
    "import numpy as np\n",
    "import pandas as pd\n",
    "\n",
    "\n",
    "# Define parameters, example given here\n",
    "parameters = {\n",
    "    'fold': 1,\n",
    "    'dataset': 'kr-vs-kp',\n",
    "    'd': 2,\n",
    "    'epsilon':1, #initial epsilon\n",
    "    'sensitive_features':[1,2,3]\n",
    "}\n",
    "\n",
    "data_list= [\"NHPA\"] # 'nursery'\n",
    "data_list= [\"nursery\"] # 'nursery'\n",
    "\n",
    "sensitive_features=[5] # e.g. gender for NHPA, parents occupation for nursery is: sensitive_features=[1,2,3]\n",
    "sensitive_features=[1,2,3]\n",
    "\n",
    "# Execute notebook with different parameters\n",
    "range_of_values=[[fold,dataset,depth] for fold in range(1,2) for dataset in data_list for depth in range(2,3)]\n",
    "for param_value in range_of_values:\n",
    "    \n",
    "    epsilon=1 # initialization\n",
    "\n",
    "    parameters['fold'] = param_value[0]  # Update parameter value\n",
    "    parameters['dataset'] = param_value[1]\n",
    "    parameters['d'] = param_value[2]\n",
    "    parameters['sensitive_features']= sensitive_features\n",
    "\n",
    "    \n",
    "\n",
    "    relpath=\"./Datasets/\"+param_value[1] +\"/fold=\"+str(param_value[0])+\"_train.csv\"\n",
    "\n",
    "    data = pd.read_csv(relpath)[:]#pd.read_csv(\"./Datasets/fold=1_train.csv\")\n",
    "    N=len(data)\n",
    "    del data\n",
    "\n",
    "    param_value.append(epsilon)\n",
    "    parameters['epsilon']=epsilon\n",
    "\n",
    "\n",
    "    error_flag=0\n",
    "\n",
    "    output_notebook_path = f'RunNotebooks/OCT_Fairness_IP{param_value}.ipynb'\n",
    "    #output_notebook_path = f'RunNotebooks/OCT_SymmetryBreakingFinal{param_value}WLog_fairness_DCM_IP.ipynb'\n",
    "    try:\n",
    "        pm.execute_notebook(\n",
    "            input_path='OCT_Fairness_IP.ipynb',\n",
    "            output_path=output_notebook_path,\n",
    "            parameters=parameters\n",
    "        )\n",
    "        print('Continuing epsilon constraint',epsilon)\n",
    "    except:\n",
    "        error_flag=1\n",
    "        print('Done with epsilon-constraint',epsilon)\n",
    "    \n",
    "    \n",
    "    count=0\n",
    "    while not error_flag:\n",
    "        count+=1\n",
    "        # retrieve results\n",
    "        relpath=\"./Datasets/\"+param_value[1]+\"/fold=\"+str(param_value[0])\n",
    "        res_final= np.loadtxt(relpath+'_res_'+str(param_value[2])+'_Fairness_IP_Analysis_'+str(parameters['sensitive_features'])+'_'+str(epsilon)+'.txt',dtype=str,delimiter=',')\n",
    "        #res_final= np.loadtxt(relpath+'_resSB_'+str(param_value[2])+'_Fairness_DCM_IP_Analysis_'+str(epsilon)+'.txt',dtype=str,delimiter=',')\n",
    "        # update epsilon\n",
    "\n",
    "        epsilon=float(res_final[1,4])-1/N # new epsilon (Train ODM), step size =1/N\n",
    "\n",
    "        param_value[-1]=epsilon\n",
    "        parameters['epsilon']=epsilon\n",
    "\n",
    "        # run new problem\n",
    "        error_flag=0 if count <=1000 else 1\n",
    "        output_notebook_path = f'RunNotebooks/OCT_Fairness_IP_{param_value}.ipynb'\n",
    "        #output_notebook_path = f'RunNotebooks/OCT_SymmetryBreakingFinal{param_value}WLog_fairness_DCM_IP.ipynb'\n",
    "        try:\n",
    "        \n",
    "            pm.execute_notebook(\n",
    "                input_path='OCT_Fairness_IP.ipynb',\n",
    "                output_path=output_notebook_path,\n",
    "                parameters=parameters\n",
    "            )\n",
    "\n",
    "\n",
    "            print('Continuing epsilon constraint',epsilon)\n",
    "        except:\n",
    "            error_flag=1\n",
    "            print('Done with epsilon-constraint',epsilon)\n",
    "\n",
    "        \n",
    "        param_value[-1]=epsilon\n",
    "        parameters['epsilon']=epsilon\n",
    "\n",
    "\n",
    "\n",
    "     \n",
    "\n"
   ]
  }
 ],
 "metadata": {
  "kernelspec": {
   "display_name": "VisualStudioAOP",
   "language": "python",
   "name": "python3"
  },
  "language_info": {
   "codemirror_mode": {
    "name": "ipython",
    "version": 3
   },
   "file_extension": ".py",
   "mimetype": "text/x-python",
   "name": "python",
   "nbconvert_exporter": "python",
   "pygments_lexer": "ipython3",
   "version": "3.11.8"
  }
 },
 "nbformat": 4,
 "nbformat_minor": 2
}
