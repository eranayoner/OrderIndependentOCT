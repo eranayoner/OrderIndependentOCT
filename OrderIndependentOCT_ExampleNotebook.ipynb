{
 "cells": [
  {
   "cell_type": "markdown",
   "metadata": {},
   "source": [
    "## Setup \n",
    "Skip if done previously.\n",
    "\n",
    "Various installation methods can be used for gurobipy>=10.0.3\n",
    "\n",
    "e.g. \n",
    "``` conda install gurobi ```"
   ]
  },
  {
   "cell_type": "code",
   "execution_count": 1,
   "metadata": {},
   "outputs": [
    {
     "name": "stdout",
     "output_type": "stream",
     "text": [
      "Requirement already satisfied: Cython in /opt/anaconda3/envs/spyder/lib/python3.11/site-packages (3.1.2)\n",
      "Requirement already satisfied: numpy in /opt/anaconda3/envs/spyder/lib/python3.11/site-packages (1.26.4)\n",
      "Requirement already satisfied: pandas in /opt/anaconda3/envs/spyder/lib/python3.11/site-packages (2.2.3)\n",
      "Requirement already satisfied: numpy>=1.23.2 in /opt/anaconda3/envs/spyder/lib/python3.11/site-packages (from pandas) (1.26.4)\n",
      "Requirement already satisfied: python-dateutil>=2.8.2 in /opt/anaconda3/envs/spyder/lib/python3.11/site-packages (from pandas) (2.9.0.post0)\n",
      "Requirement already satisfied: pytz>=2020.1 in /opt/anaconda3/envs/spyder/lib/python3.11/site-packages (from pandas) (2024.1)\n",
      "Requirement already satisfied: tzdata>=2022.7 in /opt/anaconda3/envs/spyder/lib/python3.11/site-packages (from pandas) (2024.1)\n",
      "Requirement already satisfied: six>=1.5 in /opt/anaconda3/envs/spyder/lib/python3.11/site-packages (from python-dateutil>=2.8.2->pandas) (1.16.0)\n",
      "Requirement already satisfied: scipy in /opt/anaconda3/envs/spyder/lib/python3.11/site-packages (1.11.4)\n",
      "Requirement already satisfied: numpy<1.28.0,>=1.21.6 in /opt/anaconda3/envs/spyder/lib/python3.11/site-packages (from scipy) (1.26.4)\n",
      "Requirement already satisfied: scikit-learn in /opt/anaconda3/envs/spyder/lib/python3.11/site-packages (1.5.1)\n",
      "Requirement already satisfied: numpy>=1.19.5 in /opt/anaconda3/envs/spyder/lib/python3.11/site-packages (from scikit-learn) (1.26.4)\n",
      "Requirement already satisfied: scipy>=1.6.0 in /opt/anaconda3/envs/spyder/lib/python3.11/site-packages (from scikit-learn) (1.11.4)\n",
      "Requirement already satisfied: joblib>=1.2.0 in /opt/anaconda3/envs/spyder/lib/python3.11/site-packages (from scikit-learn) (1.4.2)\n",
      "Requirement already satisfied: threadpoolctl>=3.1.0 in /opt/anaconda3/envs/spyder/lib/python3.11/site-packages (from scikit-learn) (3.5.0)\n",
      "Requirement already satisfied: papermill in /opt/anaconda3/envs/spyder/lib/python3.11/site-packages (2.6.0)\n",
      "Requirement already satisfied: click in /opt/anaconda3/envs/spyder/lib/python3.11/site-packages (from papermill) (8.1.7)\n",
      "Requirement already satisfied: pyyaml in /opt/anaconda3/envs/spyder/lib/python3.11/site-packages (from papermill) (6.0.1)\n",
      "Requirement already satisfied: nbformat>=5.2.0 in /opt/anaconda3/envs/spyder/lib/python3.11/site-packages (from papermill) (5.9.2)\n",
      "Requirement already satisfied: nbclient>=0.2.0 in /opt/anaconda3/envs/spyder/lib/python3.11/site-packages (from papermill) (0.8.0)\n",
      "Requirement already satisfied: tqdm>=4.32.2 in /opt/anaconda3/envs/spyder/lib/python3.11/site-packages (from papermill) (4.66.5)\n",
      "Requirement already satisfied: requests in /opt/anaconda3/envs/spyder/lib/python3.11/site-packages (from papermill) (2.32.3)\n",
      "Requirement already satisfied: entrypoints in /opt/anaconda3/envs/spyder/lib/python3.11/site-packages (from papermill) (0.4)\n",
      "Requirement already satisfied: tenacity>=5.0.2 in /opt/anaconda3/envs/spyder/lib/python3.11/site-packages (from papermill) (9.0.0)\n",
      "Requirement already satisfied: ansicolors in /opt/anaconda3/envs/spyder/lib/python3.11/site-packages (from papermill) (1.1.8)\n",
      "Requirement already satisfied: jupyter-client>=6.1.12 in /opt/anaconda3/envs/spyder/lib/python3.11/site-packages (from nbclient>=0.2.0->papermill) (8.6.0)\n",
      "Requirement already satisfied: jupyter-core!=5.0.*,>=4.12 in /opt/anaconda3/envs/spyder/lib/python3.11/site-packages (from nbclient>=0.2.0->papermill) (5.7.2)\n",
      "Requirement already satisfied: traitlets>=5.4 in /opt/anaconda3/envs/spyder/lib/python3.11/site-packages (from nbclient>=0.2.0->papermill) (5.14.3)\n",
      "Requirement already satisfied: fastjsonschema in /opt/anaconda3/envs/spyder/lib/python3.11/site-packages (from nbformat>=5.2.0->papermill) (2.16.2)\n",
      "Requirement already satisfied: jsonschema>=2.6 in /opt/anaconda3/envs/spyder/lib/python3.11/site-packages (from nbformat>=5.2.0->papermill) (4.19.2)\n",
      "Requirement already satisfied: charset-normalizer<4,>=2 in /opt/anaconda3/envs/spyder/lib/python3.11/site-packages (from requests->papermill) (3.3.2)\n",
      "Requirement already satisfied: idna<4,>=2.5 in /opt/anaconda3/envs/spyder/lib/python3.11/site-packages (from requests->papermill) (3.7)\n",
      "Requirement already satisfied: urllib3<3,>=1.21.1 in /opt/anaconda3/envs/spyder/lib/python3.11/site-packages (from requests->papermill) (2.2.2)\n",
      "Requirement already satisfied: certifi>=2017.4.17 in /opt/anaconda3/envs/spyder/lib/python3.11/site-packages (from requests->papermill) (2025.1.31)\n",
      "Requirement already satisfied: attrs>=22.2.0 in /opt/anaconda3/envs/spyder/lib/python3.11/site-packages (from jsonschema>=2.6->nbformat>=5.2.0->papermill) (25.1.0)\n",
      "Requirement already satisfied: jsonschema-specifications>=2023.03.6 in /opt/anaconda3/envs/spyder/lib/python3.11/site-packages (from jsonschema>=2.6->nbformat>=5.2.0->papermill) (2023.7.1)\n",
      "Requirement already satisfied: referencing>=0.28.4 in /opt/anaconda3/envs/spyder/lib/python3.11/site-packages (from jsonschema>=2.6->nbformat>=5.2.0->papermill) (0.30.2)\n",
      "Requirement already satisfied: rpds-py>=0.7.1 in /opt/anaconda3/envs/spyder/lib/python3.11/site-packages (from jsonschema>=2.6->nbformat>=5.2.0->papermill) (0.10.6)\n",
      "Requirement already satisfied: python-dateutil>=2.8.2 in /opt/anaconda3/envs/spyder/lib/python3.11/site-packages (from jupyter-client>=6.1.12->nbclient>=0.2.0->papermill) (2.9.0.post0)\n",
      "Requirement already satisfied: pyzmq>=23.0 in /opt/anaconda3/envs/spyder/lib/python3.11/site-packages (from jupyter-client>=6.1.12->nbclient>=0.2.0->papermill) (25.1.2)\n",
      "Requirement already satisfied: tornado>=6.2 in /opt/anaconda3/envs/spyder/lib/python3.11/site-packages (from jupyter-client>=6.1.12->nbclient>=0.2.0->papermill) (6.4.1)\n",
      "Requirement already satisfied: platformdirs>=2.5 in /opt/anaconda3/envs/spyder/lib/python3.11/site-packages (from jupyter-core!=5.0.*,>=4.12->nbclient>=0.2.0->papermill) (3.10.0)\n",
      "Requirement already satisfied: six>=1.5 in /opt/anaconda3/envs/spyder/lib/python3.11/site-packages (from python-dateutil>=2.8.2->jupyter-client>=6.1.12->nbclient>=0.2.0->papermill) (1.16.0)\n",
      "Requirement already satisfied: more-itertools in /opt/anaconda3/envs/spyder/lib/python3.11/site-packages (10.1.0)\n",
      "Requirement already satisfied: networkx in /opt/anaconda3/envs/spyder/lib/python3.11/site-packages (3.4.2)\n",
      "Requirement already satisfied: matplotlib in /opt/anaconda3/envs/spyder/lib/python3.11/site-packages (3.8.4)\n",
      "Requirement already satisfied: contourpy>=1.0.1 in /opt/anaconda3/envs/spyder/lib/python3.11/site-packages (from matplotlib) (1.2.0)\n",
      "Requirement already satisfied: cycler>=0.10 in /opt/anaconda3/envs/spyder/lib/python3.11/site-packages (from matplotlib) (0.11.0)\n",
      "Requirement already satisfied: fonttools>=4.22.0 in /opt/anaconda3/envs/spyder/lib/python3.11/site-packages (from matplotlib) (4.51.0)\n",
      "Requirement already satisfied: kiwisolver>=1.3.1 in /opt/anaconda3/envs/spyder/lib/python3.11/site-packages (from matplotlib) (1.4.4)\n",
      "Requirement already satisfied: numpy>=1.21 in /opt/anaconda3/envs/spyder/lib/python3.11/site-packages (from matplotlib) (1.26.4)\n",
      "Requirement already satisfied: packaging>=20.0 in /opt/anaconda3/envs/spyder/lib/python3.11/site-packages (from matplotlib) (24.1)\n",
      "Requirement already satisfied: pillow>=8 in /opt/anaconda3/envs/spyder/lib/python3.11/site-packages (from matplotlib) (10.4.0)\n",
      "Requirement already satisfied: pyparsing>=2.3.1 in /opt/anaconda3/envs/spyder/lib/python3.11/site-packages (from matplotlib) (3.0.9)\n",
      "Requirement already satisfied: python-dateutil>=2.7 in /opt/anaconda3/envs/spyder/lib/python3.11/site-packages (from matplotlib) (2.9.0.post0)\n",
      "Requirement already satisfied: six>=1.5 in /opt/anaconda3/envs/spyder/lib/python3.11/site-packages (from python-dateutil>=2.7->matplotlib) (1.16.0)\n"
     ]
    }
   ],
   "source": [
    "\n",
    "!pip install Cython\n",
    "!pip install numpy\n",
    "!pip install pandas\n",
    "!pip install scipy\n",
    "!pip install scikit-learn\n",
    "!pip install papermill\n",
    "!pip install more-itertools\n",
    "!pip install networkx\n",
    "!pip install matplotlib\n"
   ]
  },
  {
   "cell_type": "markdown",
   "metadata": {},
   "source": [
    "Build the cython package to be used in code."
   ]
  },
  {
   "cell_type": "code",
   "execution_count": 2,
   "metadata": {},
   "outputs": [
    {
     "name": "stdout",
     "output_type": "stream",
     "text": [
      "running build_ext\n",
      "copying build/lib.macosx-11.0-arm64-cpython-311/Pricing_Branching.cpython-311-darwin.so -> \n"
     ]
    }
   ],
   "source": [
    "!python setup.py build_ext --inplace"
   ]
  },
  {
   "cell_type": "markdown",
   "metadata": {},
   "source": [
    "## Example Usage"
   ]
  },
  {
   "cell_type": "markdown",
   "metadata": {},
   "source": [
    "Choose from existing datalist, fold, and allowed maximum depths. ```selection``` parameter indicates the method to be used. The default method is the hybrid method discussed in the manuscript.\n",
    "\n",
    "The method used will be displayed on the screen. Results will also be displayed and saved to the dataset of interest, with the fold, depth, and selected (either through the hybrid approach or by the user) method information. The files produced as output will be of the following name format, depending on the method chosen (the hybrid method will still choose one of the three, and save run information according to the automatic selection)."
   ]
  },
  {
   "cell_type": "markdown",
   "metadata": {},
   "source": [
    "| `selection` | method     | notebook extension              | result summary extension | decision rules tag |\n",
    "|:-----:|:-----------|:--------------------------------|:-----------------:|:------------------:|\n",
    "| 1     | CompactOCT | `_OrderIndependentModel_Compact` | `_resCompact_`    | `Compact`          |\n",
    "| 2     | EnumOCT    | `_IP`                           | `_res_IP_`        | `IP`               |\n",
    "| 3     | BPOCT      | `_BnP`                          | `_res_BnP_`       | `BnP`              |\n"
   ]
  },
  {
   "cell_type": "code",
   "execution_count": 1,
   "metadata": {},
   "outputs": [
    {
     "name": "stderr",
     "output_type": "stream",
     "text": [
      "Passed unknown parameter: fold\n",
      "Passed unknown parameter: dataset\n",
      "Passed unknown parameter: D\n",
      "Passed unknown parameter: d\n",
      "Passed unknown parameter: trace\n",
      "Input notebook does not contain a cell with tag 'parameters'\n",
      "/opt/anaconda3/envs/spyder/lib/python3.11/site-packages/tqdm/auto.py:21: TqdmWarning: IProgress not found. Please update jupyter and ipywidgets. See https://ipywidgets.readthedocs.io/en/stable/user_install.html\n",
      "  from .autonotebook import tqdm as notebook_tqdm\n"
     ]
    },
    {
     "name": "stdout",
     "output_type": "stream",
     "text": [
      "EnumOCT is used based on instance specifications...\n",
      "Running OCT_IP.ipynb\n"
     ]
    },
    {
     "name": "stderr",
     "output_type": "stream",
     "text": [
      "Executing:   0%|          | 0/56 [00:00<?, ?cell/s]0.00s - Debugger warning: It seems that frozen modules are being used, which may\n",
      "0.00s - make the debugger miss breakpoints. Please pass -Xfrozen_modules=off\n",
      "0.00s - to python to disable frozen modules.\n",
      "0.00s - Note: Debugging will proceed. Set PYDEVD_DISABLE_FILE_VALIDATION=1 to disable this validation.\n",
      "Executing: 100%|██████████| 56/56 [00:02<00:00, 19.07cell/s]"
     ]
    },
    {
     "name": "stdout",
     "output_type": "stream",
     "text": [
      "Done\n",
      "Train Accuracy : 87.55%\n",
      "Test  Accuracy : 81.25%\n",
      "Elapsed Time   : 0.12 s\n",
      "Optimality Gap : 0.00%\n",
      "Decision rules for each leaf are as follows:\n",
      " Leaf 1: [([19, 31], [])]\n",
      " Leaf 2: [([31], [19])]\n",
      " Leaf 3: [([9], [31])]\n",
      " Leaf 4: [([], [9, 31])]\n"
     ]
    },
    {
     "name": "stderr",
     "output_type": "stream",
     "text": [
      "\n"
     ]
    }
   ],
   "source": [
    "import pandas as pd\n",
    "import numpy as np\n",
    "\n",
    "from OrderIndependentOCT import *\n",
    "\n",
    "\n",
    "\n",
    "\n",
    "data_list= ['adult',\n",
    " 'agaricus-lepiota',\n",
    " 'balance-scale',\n",
    " 'banknote_authentication',\n",
    " 'car-evaluation',\n",
    " 'diabetes',\n",
    " 'haberman',\n",
    " 'kr-vs-kp',\n",
    " 'monks-1',\n",
    " 'monks-2',\n",
    " 'monks-3',\n",
    " 'nursery',\n",
    " 'seismic-bumps',\n",
    " 'tae',\n",
    " 'tic-tac-toe',\n",
    " 'titanic',\n",
    " 'wdbc',\n",
    " 'wine',\n",
    " 'NHPA']\n",
    "\n",
    "data_list.sort()\n",
    "\n",
    "\n",
    "fold_list=[i for i in range(11)]\n",
    "depth_list=[2,3,4]\n",
    "\n",
    "\n",
    "\n",
    "# values to be tested: fold, dataset name, allowed maximum depth, trace, and method selection\n",
    "fold= 1 # out of fold list \n",
    "depth= 2\n",
    "dataset='kr-vs-kp'\n",
    "\n",
    "\n",
    "# run method\n",
    "OrderIndependentOCT(fold,dataset,depth,selection=0)\n",
    "\n",
    "\n"
   ]
  }
 ],
 "metadata": {
  "kernelspec": {
   "display_name": "spyder",
   "language": "python",
   "name": "python3"
  },
  "language_info": {
   "codemirror_mode": {
    "name": "ipython",
    "version": 3
   },
   "file_extension": ".py",
   "mimetype": "text/x-python",
   "name": "python",
   "nbconvert_exporter": "python",
   "pygments_lexer": "ipython3",
   "version": "3.11.8"
  }
 },
 "nbformat": 4,
 "nbformat_minor": 2
}
