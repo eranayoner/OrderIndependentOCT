{
 "cells": [
  {
   "cell_type": "code",
   "execution_count": 1,
   "metadata": {},
   "outputs": [
    {
     "name": "stderr",
     "output_type": "stream",
     "text": [
      "Passed unknown parameter: fold\n",
      "Passed unknown parameter: dataset\n",
      "Passed unknown parameter: D\n",
      "Passed unknown parameter: d\n",
      "Passed unknown parameter: trace\n",
      "Input notebook does not contain a cell with tag 'parameters'\n",
      "/opt/anaconda3/envs/spyder/lib/python3.11/site-packages/tqdm/auto.py:21: TqdmWarning: IProgress not found. Please update jupyter and ipywidgets. See https://ipywidgets.readthedocs.io/en/stable/user_install.html\n",
      "  from .autonotebook import tqdm as notebook_tqdm\n"
     ]
    },
    {
     "name": "stdout",
     "output_type": "stream",
     "text": [
      "P_OCT is used based on instance specifications...\n",
      "OCT_IP.ipynb\n"
     ]
    },
    {
     "name": "stderr",
     "output_type": "stream",
     "text": [
      "Executing:   0%|          | 0/56 [00:00<?, ?cell/s]0.00s - Debugger warning: It seems that frozen modules are being used, which may\n",
      "0.00s - make the debugger miss breakpoints. Please pass -Xfrozen_modules=off\n",
      "0.00s - to python to disable frozen modules.\n",
      "0.00s - Note: Debugging will proceed. Set PYDEVD_DISABLE_FILE_VALIDATION=1 to disable this validation.\n",
      "Executing: 100%|██████████| 56/56 [00:02<00:00, 21.82cell/s]"
     ]
    },
    {
     "name": "stdout",
     "output_type": "stream",
     "text": [
      "Done\n",
      "Train Accuracy : 78.00%\n",
      "Test  Accuracy : 73.21%\n",
      "Elapsed Time   : 0.06 s\n",
      "Optimality Gap : 0.00%\n",
      "Decision rules for rach leaf are as follows:\n",
      "[[([4, 7], [])], [([4], [7])], [([11], [4])], [([], [4, 11])]]\n",
      "\n"
     ]
    },
    {
     "name": "stderr",
     "output_type": "stream",
     "text": [
      "\n"
     ]
    }
   ],
   "source": [
    "import pandas as pd\n",
    "import numpy as np\n",
    "\n",
    "from OrderIndependentOCT import *\n",
    "\n",
    "\n",
    "\n",
    "\n",
    "data_list= ['adult',\n",
    " 'agaricus-lepiota',\n",
    " 'balance-scale',\n",
    " 'banknote_authentication',\n",
    " 'car-evaluation',\n",
    " 'diabetes',\n",
    " 'haberman',\n",
    " 'kr-vs-kp',\n",
    " 'monks-1',\n",
    " 'monks-2',\n",
    " 'monks-3',\n",
    " 'nursery',\n",
    " 'seismic-bumps',\n",
    " 'tae',\n",
    " 'tic-tac-toe',\n",
    " 'titanic',\n",
    " 'wdbc',\n",
    " 'wine',\n",
    " 'NHPA']\n",
    "\n",
    "data_list.sort()\n",
    "\n",
    "\n",
    "fold_list=[i for i in range(11)]\n",
    "depth_list=[2,3,4]\n",
    "\n",
    "\n",
    "\n",
    "# values to be tested: fold, dataset name, allowed maximum depth, trace, and method selection\n",
    "fold= 1 # out of fold list \n",
    "depth= 2\n",
    "dataset='monks-1'\n",
    "\n",
    "\n",
    "# run method\n",
    "OrderIndependentOCT(fold,dataset,depth)\n",
    "\n",
    "\n"
   ]
  }
 ],
 "metadata": {
  "kernelspec": {
   "display_name": "spyder",
   "language": "python",
   "name": "python3"
  },
  "language_info": {
   "codemirror_mode": {
    "name": "ipython",
    "version": 3
   },
   "file_extension": ".py",
   "mimetype": "text/x-python",
   "name": "python",
   "nbconvert_exporter": "python",
   "pygments_lexer": "ipython3",
   "version": "3.11.8"
  }
 },
 "nbformat": 4,
 "nbformat_minor": 2
}
